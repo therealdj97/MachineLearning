{
  "nbformat": 4,
  "nbformat_minor": 0,
  "metadata": {
    "colab": {
      "provenance": []
    },
    "kernelspec": {
      "name": "python3",
      "display_name": "Python 3"
    },
    "language_info": {
      "name": "python"
    }
  },
  "cells": [
    {
      "cell_type": "code",
      "execution_count": 5,
      "metadata": {
        "colab": {
          "base_uri": "https://localhost:8080/"
        },
        "id": "D93cvQAxqIFi",
        "outputId": "c370de20-4b23-4f45-8300-ec4fdec0f6b9"
      },
      "outputs": [
        {
          "output_type": "stream",
          "name": "stdout",
          "text": [
            "      Id  SepalLengthCm  SepalWidthCm  PetalLengthCm  PetalWidthCm          Species\n",
            "0      1            5.1           3.5            1.4           0.2      Iris-setosa\n",
            "1      2            4.9           3.0            1.4           0.2      Iris-setosa\n",
            "2      3            4.7           3.2            1.3           0.2      Iris-setosa\n",
            "3      4            4.6           3.1            1.5           0.2      Iris-setosa\n",
            "4      5            5.0           3.6            1.4           0.2      Iris-setosa\n",
            "5      6            5.4           3.9            1.7           0.4      Iris-setosa\n",
            "6      7            4.6           3.4            1.4           0.3      Iris-setosa\n",
            "7      8            5.0           3.4            1.5           0.2      Iris-setosa\n",
            "8      9            4.4           2.9            1.4           0.2      Iris-setosa\n",
            "9     10            4.9           3.1            1.5           0.1      Iris-setosa\n",
            "10    11            5.4           3.7            1.5           0.2      Iris-setosa\n",
            "11    12            4.8           3.4            1.6           0.2      Iris-setosa\n",
            "12    13            4.8           3.0            1.4           0.1      Iris-setosa\n",
            "13    14            4.3           3.0            1.1           0.1      Iris-setosa\n",
            "14    15            5.8           4.0            1.2           0.2      Iris-setosa\n",
            "15    16            5.7           4.4            1.5           0.4      Iris-setosa\n",
            "16    17            5.4           3.9            1.3           0.4      Iris-setosa\n",
            "17    18            5.1           3.5            1.4           0.3      Iris-setosa\n",
            "18    19            5.7           3.8            1.7           0.3      Iris-setosa\n",
            "19    20            5.1           3.8            1.5           0.3      Iris-setosa\n",
            "20    21            5.4           3.4            1.7           0.2      Iris-setosa\n",
            "21    22            5.1           3.7            1.5           0.4      Iris-setosa\n",
            "22    23            4.6           3.6            1.0           0.2      Iris-setosa\n",
            "23    24            5.1           3.3            1.7           0.5      Iris-setosa\n",
            "24    25            4.8           3.4            1.9           0.2      Iris-setosa\n",
            "25    26            5.0           3.0            1.6           0.2      Iris-setosa\n",
            "26    27            5.0           3.4            1.6           0.4      Iris-setosa\n",
            "27    28            5.2           3.5            1.5           0.2      Iris-setosa\n",
            "28    29            5.2           3.4            1.4           0.2      Iris-setosa\n",
            "29    30            4.7           3.2            1.6           0.2      Iris-setosa\n",
            "30    31            4.8           3.1            1.6           0.2      Iris-setosa\n",
            "31    32            5.4           3.4            1.5           0.4      Iris-setosa\n",
            "32    33            5.2           4.1            1.5           0.1      Iris-setosa\n",
            "33    34            5.5           4.2            1.4           0.2      Iris-setosa\n",
            "34    35            4.9           3.1            1.5           0.1      Iris-setosa\n",
            "35    36            5.0           3.2            1.2           0.2      Iris-setosa\n",
            "36    37            5.5           3.5            1.3           0.2      Iris-setosa\n",
            "37    38            4.9           3.1            1.5           0.1      Iris-setosa\n",
            "38    39            4.4           3.0            1.3           0.2      Iris-setosa\n",
            "39    40            5.1           3.4            1.5           0.2      Iris-setosa\n",
            "40    41            5.0           3.5            1.3           0.3      Iris-setosa\n",
            "41    42            4.5           2.3            1.3           0.3      Iris-setosa\n",
            "42    43            4.4           3.2            1.3           0.2      Iris-setosa\n",
            "43    44            5.0           3.5            1.6           0.6      Iris-setosa\n",
            "44    45            5.1           3.8            1.9           0.4      Iris-setosa\n",
            "45    46            4.8           3.0            1.4           0.3      Iris-setosa\n",
            "46    47            5.1           3.8            1.6           0.2      Iris-setosa\n",
            "47    48            4.6           3.2            1.4           0.2      Iris-setosa\n",
            "48    49            5.3           3.7            1.5           0.2      Iris-setosa\n",
            "49    50            5.0           3.3            1.4           0.2      Iris-setosa\n",
            "50    51            7.0           3.2            4.7           1.4  Iris-versicolor\n",
            "51    52            6.4           3.2            4.5           1.5  Iris-versicolor\n",
            "52    53            6.9           3.1            4.9           1.5  Iris-versicolor\n",
            "53    54            5.5           2.3            4.0           1.3  Iris-versicolor\n",
            "54    55            6.5           2.8            4.6           1.5  Iris-versicolor\n",
            "55    56            5.7           2.8            4.5           1.3  Iris-versicolor\n",
            "56    57            6.3           3.3            4.7           1.6  Iris-versicolor\n",
            "57    58            4.9           2.4            3.3           1.0  Iris-versicolor\n",
            "58    59            6.6           2.9            4.6           1.3  Iris-versicolor\n",
            "59    60            5.2           2.7            3.9           1.4  Iris-versicolor\n",
            "60    61            5.0           2.0            3.5           1.0  Iris-versicolor\n",
            "61    62            5.9           3.0            4.2           1.5  Iris-versicolor\n",
            "62    63            6.0           2.2            4.0           1.0  Iris-versicolor\n",
            "63    64            6.1           2.9            4.7           1.4  Iris-versicolor\n",
            "64    65            5.6           2.9            3.6           1.3  Iris-versicolor\n",
            "65    66            6.7           3.1            4.4           1.4  Iris-versicolor\n",
            "66    67            5.6           3.0            4.5           1.5  Iris-versicolor\n",
            "67    68            5.8           2.7            4.1           1.0  Iris-versicolor\n",
            "68    69            6.2           2.2            4.5           1.5  Iris-versicolor\n",
            "69    70            5.6           2.5            3.9           1.1  Iris-versicolor\n",
            "70    71            5.9           3.2            4.8           1.8  Iris-versicolor\n",
            "71    72            6.1           2.8            4.0           1.3  Iris-versicolor\n",
            "72    73            6.3           2.5            4.9           1.5  Iris-versicolor\n",
            "73    74            6.1           2.8            4.7           1.2  Iris-versicolor\n",
            "74    75            6.4           2.9            4.3           1.3  Iris-versicolor\n",
            "75    76            6.6           3.0            4.4           1.4  Iris-versicolor\n",
            "76    77            6.8           2.8            4.8           1.4  Iris-versicolor\n",
            "77    78            6.7           3.0            5.0           1.7  Iris-versicolor\n",
            "78    79            6.0           2.9            4.5           1.5  Iris-versicolor\n",
            "79    80            5.7           2.6            3.5           1.0  Iris-versicolor\n",
            "80    81            5.5           2.4            3.8           1.1  Iris-versicolor\n",
            "81    82            5.5           2.4            3.7           1.0  Iris-versicolor\n",
            "82    83            5.8           2.7            3.9           1.2  Iris-versicolor\n",
            "83    84            6.0           2.7            5.1           1.6  Iris-versicolor\n",
            "84    85            5.4           3.0            4.5           1.5  Iris-versicolor\n",
            "85    86            6.0           3.4            4.5           1.6  Iris-versicolor\n",
            "86    87            6.7           3.1            4.7           1.5  Iris-versicolor\n",
            "87    88            6.3           2.3            4.4           1.3  Iris-versicolor\n",
            "88    89            5.6           3.0            4.1           1.3  Iris-versicolor\n",
            "89    90            5.5           2.5            4.0           1.3  Iris-versicolor\n",
            "90    91            5.5           2.6            4.4           1.2  Iris-versicolor\n",
            "91    92            6.1           3.0            4.6           1.4  Iris-versicolor\n",
            "92    93            5.8           2.6            4.0           1.2  Iris-versicolor\n",
            "93    94            5.0           2.3            3.3           1.0  Iris-versicolor\n",
            "94    95            5.6           2.7            4.2           1.3  Iris-versicolor\n",
            "95    96            5.7           3.0            4.2           1.2  Iris-versicolor\n",
            "96    97            5.7           2.9            4.2           1.3  Iris-versicolor\n",
            "97    98            6.2           2.9            4.3           1.3  Iris-versicolor\n",
            "98    99            5.1           2.5            3.0           1.1  Iris-versicolor\n",
            "99   100            5.7           2.8            4.1           1.3  Iris-versicolor\n",
            "100  101            6.3           3.3            6.0           2.5   Iris-virginica\n",
            "101  102            5.8           2.7            5.1           1.9   Iris-virginica\n",
            "102  103            7.1           3.0            5.9           2.1   Iris-virginica\n",
            "103  104            6.3           2.9            5.6           1.8   Iris-virginica\n",
            "104  105            6.5           3.0            5.8           2.2   Iris-virginica\n",
            "105  106            7.6           3.0            6.6           2.1   Iris-virginica\n",
            "106  107            4.9           2.5            4.5           1.7   Iris-virginica\n",
            "107  108            7.3           2.9            6.3           1.8   Iris-virginica\n",
            "108  109            6.7           2.5            5.8           1.8   Iris-virginica\n",
            "109  110            7.2           3.6            6.1           2.5   Iris-virginica\n",
            "110  111            6.5           3.2            5.1           2.0   Iris-virginica\n",
            "111  112            6.4           2.7            5.3           1.9   Iris-virginica\n",
            "112  113            6.8           3.0            5.5           2.1   Iris-virginica\n",
            "113  114            5.7           2.5            5.0           2.0   Iris-virginica\n",
            "114  115            5.8           2.8            5.1           2.4   Iris-virginica\n",
            "115  116            6.4           3.2            5.3           2.3   Iris-virginica\n",
            "116  117            6.5           3.0            5.5           1.8   Iris-virginica\n",
            "117  118            7.7           3.8            6.7           2.2   Iris-virginica\n",
            "118  119            7.7           2.6            6.9           2.3   Iris-virginica\n",
            "119  120            6.0           2.2            5.0           1.5   Iris-virginica\n",
            "120  121            6.9           3.2            5.7           2.3   Iris-virginica\n",
            "121  122            5.6           2.8            4.9           2.0   Iris-virginica\n",
            "122  123            7.7           2.8            6.7           2.0   Iris-virginica\n",
            "123  124            6.3           2.7            4.9           1.8   Iris-virginica\n",
            "124  125            6.7           3.3            5.7           2.1   Iris-virginica\n",
            "125  126            7.2           3.2            6.0           1.8   Iris-virginica\n",
            "126  127            6.2           2.8            4.8           1.8   Iris-virginica\n",
            "127  128            6.1           3.0            4.9           1.8   Iris-virginica\n",
            "128  129            6.4           2.8            5.6           2.1   Iris-virginica\n",
            "129  130            7.2           3.0            5.8           1.6   Iris-virginica\n",
            "130  131            7.4           2.8            6.1           1.9   Iris-virginica\n",
            "131  132            7.9           3.8            6.4           2.0   Iris-virginica\n",
            "132  133            6.4           2.8            5.6           2.2   Iris-virginica\n",
            "133  134            6.3           2.8            5.1           1.5   Iris-virginica\n",
            "134  135            6.1           2.6            5.6           1.4   Iris-virginica\n",
            "135  136            7.7           3.0            6.1           2.3   Iris-virginica\n",
            "136  137            6.3           3.4            5.6           2.4   Iris-virginica\n",
            "137  138            6.4           3.1            5.5           1.8   Iris-virginica\n",
            "138  139            6.0           3.0            4.8           1.8   Iris-virginica\n",
            "139  140            6.9           3.1            5.4           2.1   Iris-virginica\n",
            "140  141            6.7           3.1            5.6           2.4   Iris-virginica\n",
            "141  142            6.9           3.1            5.1           2.3   Iris-virginica\n",
            "142  143            5.8           2.7            5.1           1.9   Iris-virginica\n",
            "143  144            6.8           3.2            5.9           2.3   Iris-virginica\n",
            "144  145            6.7           3.3            5.7           2.5   Iris-virginica\n",
            "145  146            6.7           3.0            5.2           2.3   Iris-virginica\n",
            "146  147            6.3           2.5            5.0           1.9   Iris-virginica\n",
            "147  148            6.5           3.0            5.2           2.0   Iris-virginica\n",
            "148  149            6.2           3.4            5.4           2.3   Iris-virginica\n",
            "149  150            5.9           3.0            5.1           1.8   Iris-virginica\n"
          ]
        }
      ],
      "source": [
        "import pandas as pd\n",
        "data=df = pd.read_csv('Iris.csv')\n",
        "print(df.to_string())"
      ]
    },
    {
      "cell_type": "code",
      "source": [
        "print(df.head())\n"
      ],
      "metadata": {
        "colab": {
          "base_uri": "https://localhost:8080/"
        },
        "id": "CMjpwDcG53hr",
        "outputId": "9ec20b08-2066-47dd-8f09-2bde601b505d"
      },
      "execution_count": 6,
      "outputs": [
        {
          "output_type": "stream",
          "name": "stdout",
          "text": [
            "   Id  SepalLengthCm  SepalWidthCm  PetalLengthCm  PetalWidthCm      Species\n",
            "0   1            5.1           3.5            1.4           0.2  Iris-setosa\n",
            "1   2            4.9           3.0            1.4           0.2  Iris-setosa\n",
            "2   3            4.7           3.2            1.3           0.2  Iris-setosa\n",
            "3   4            4.6           3.1            1.5           0.2  Iris-setosa\n",
            "4   5            5.0           3.6            1.4           0.2  Iris-setosa\n"
          ]
        }
      ]
    },
    {
      "cell_type": "code",
      "source": [
        "print(df.tail())"
      ],
      "metadata": {
        "colab": {
          "base_uri": "https://localhost:8080/"
        },
        "id": "BVB9m5kyAX70",
        "outputId": "17f95567-ac38-4327-c38e-0419657a19ce"
      },
      "execution_count": 7,
      "outputs": [
        {
          "output_type": "stream",
          "name": "stdout",
          "text": [
            "      Id  SepalLengthCm  SepalWidthCm  PetalLengthCm  PetalWidthCm  \\\n",
            "145  146            6.7           3.0            5.2           2.3   \n",
            "146  147            6.3           2.5            5.0           1.9   \n",
            "147  148            6.5           3.0            5.2           2.0   \n",
            "148  149            6.2           3.4            5.4           2.3   \n",
            "149  150            5.9           3.0            5.1           1.8   \n",
            "\n",
            "            Species  \n",
            "145  Iris-virginica  \n",
            "146  Iris-virginica  \n",
            "147  Iris-virginica  \n",
            "148  Iris-virginica  \n",
            "149  Iris-virginica  \n"
          ]
        }
      ]
    },
    {
      "cell_type": "code",
      "source": [
        "print(df.corr())"
      ],
      "metadata": {
        "colab": {
          "base_uri": "https://localhost:8080/"
        },
        "id": "qierh-M0AuAH",
        "outputId": "ce04ab14-7b3b-401f-dba2-5e9b2cc62d38"
      },
      "execution_count": 8,
      "outputs": [
        {
          "output_type": "stream",
          "name": "stdout",
          "text": [
            "                     Id  SepalLengthCm  SepalWidthCm  PetalLengthCm  \\\n",
            "Id             1.000000       0.716676     -0.397729       0.882747   \n",
            "SepalLengthCm  0.716676       1.000000     -0.109369       0.871754   \n",
            "SepalWidthCm  -0.397729      -0.109369      1.000000      -0.420516   \n",
            "PetalLengthCm  0.882747       0.871754     -0.420516       1.000000   \n",
            "PetalWidthCm   0.899759       0.817954     -0.356544       0.962757   \n",
            "\n",
            "               PetalWidthCm  \n",
            "Id                 0.899759  \n",
            "SepalLengthCm      0.817954  \n",
            "SepalWidthCm      -0.356544  \n",
            "PetalLengthCm      0.962757  \n",
            "PetalWidthCm       1.000000  \n"
          ]
        }
      ]
    },
    {
      "cell_type": "code",
      "source": [
        "import pandas as pd\n",
        "import numpy as np\n",
        "technologies= {\n",
        "    'Courses':[\"Spark\",\"PySpark\",\"Spark\",\"Python\",\"PySpark\"],\n",
        "    'Fee' :[22000,25000,23000,24000,26000],\n",
        "    'Discount':[1500,1000,1200,800,1300],\n",
        "    'Duration':['30days','50days','30days','35days','40days']\n",
        "          }\n",
        "df = pd.DataFrame(technologies)\n",
        "print(df)"
      ],
      "metadata": {
        "colab": {
          "base_uri": "https://localhost:8080/"
        },
        "id": "-0yX5ea5Bi5r",
        "outputId": "87a63fae-b7ae-4f76-be0f-09eeddd612bf"
      },
      "execution_count": 9,
      "outputs": [
        {
          "output_type": "stream",
          "name": "stdout",
          "text": [
            "   Courses    Fee  Discount Duration\n",
            "0    Spark  22000      1500   30days\n",
            "1  PySpark  25000      1000   50days\n",
            "2    Spark  23000      1200   30days\n",
            "3   Python  24000       800   35days\n",
            "4  PySpark  26000      1300   40days\n"
          ]
        }
      ]
    },
    {
      "cell_type": "code",
      "source": [
        "corr=df.corr()\n",
        "print(corr)"
      ],
      "metadata": {
        "colab": {
          "base_uri": "https://localhost:8080/"
        },
        "id": "7VcjklqxBlFS",
        "outputId": "7fcaa22f-4738-4a14-bc1c-9739f4074648"
      },
      "execution_count": 16,
      "outputs": [
        {
          "output_type": "stream",
          "name": "stdout",
          "text": [
            "               Fee  Discount\n",
            "Fee       1.000000 -0.351123\n",
            "Discount -0.351123  1.000000\n"
          ]
        }
      ]
    },
    {
      "cell_type": "code",
      "source": [
        "df2=df.corr()\n",
        "print(df2)"
      ],
      "metadata": {
        "colab": {
          "base_uri": "https://localhost:8080/"
        },
        "id": "xZmUKR_8Bxml",
        "outputId": "62d1c48b-0f7e-4a71-905a-1a9176beff37"
      },
      "execution_count": 11,
      "outputs": [
        {
          "output_type": "stream",
          "name": "stdout",
          "text": [
            "               Fee  Discount\n",
            "Fee       1.000000 -0.351123\n",
            "Discount -0.351123  1.000000\n"
          ]
        }
      ]
    },
    {
      "cell_type": "code",
      "source": [],
      "metadata": {
        "id": "z5T8CdM0B4TZ"
      },
      "execution_count": null,
      "outputs": []
    },
    {
      "cell_type": "code",
      "source": [
        "corr=df['Fee'].corr(df['Duration'])\n",
        "print(corr)"
      ],
      "metadata": {
        "colab": {
          "base_uri": "https://localhost:8080/",
          "height": 434
        },
        "outputId": "6326f290-b0a0-4305-c8ab-0cd021c7da4e",
        "id": "JFYHR4xYB661"
      },
      "execution_count": 13,
      "outputs": [
        {
          "output_type": "error",
          "ename": "TypeError",
          "evalue": "ignored",
          "traceback": [
            "\u001b[0;31m---------------------------------------------------------------------------\u001b[0m",
            "\u001b[0;31mTypeError\u001b[0m                                 Traceback (most recent call last)",
            "\u001b[0;32m<ipython-input-13-d23196c769e8>\u001b[0m in \u001b[0;36m<module>\u001b[0;34m\u001b[0m\n\u001b[0;32m----> 1\u001b[0;31m \u001b[0mcorr\u001b[0m\u001b[0;34m=\u001b[0m\u001b[0mdf\u001b[0m\u001b[0;34m[\u001b[0m\u001b[0;34m'Fee'\u001b[0m\u001b[0;34m]\u001b[0m\u001b[0;34m.\u001b[0m\u001b[0mcorr\u001b[0m\u001b[0;34m(\u001b[0m\u001b[0mdf\u001b[0m\u001b[0;34m[\u001b[0m\u001b[0;34m'Duration'\u001b[0m\u001b[0;34m]\u001b[0m\u001b[0;34m)\u001b[0m\u001b[0;34m\u001b[0m\u001b[0;34m\u001b[0m\u001b[0m\n\u001b[0m\u001b[1;32m      2\u001b[0m \u001b[0mprint\u001b[0m\u001b[0;34m(\u001b[0m\u001b[0mcorr\u001b[0m\u001b[0;34m)\u001b[0m\u001b[0;34m\u001b[0m\u001b[0;34m\u001b[0m\u001b[0m\n",
            "\u001b[0;32m/usr/local/lib/python3.7/dist-packages/pandas/core/series.py\u001b[0m in \u001b[0;36mcorr\u001b[0;34m(self, other, method, min_periods)\u001b[0m\n\u001b[1;32m   2507\u001b[0m         \u001b[0;32mif\u001b[0m \u001b[0mmethod\u001b[0m \u001b[0;32min\u001b[0m \u001b[0;34m[\u001b[0m\u001b[0;34m\"pearson\"\u001b[0m\u001b[0;34m,\u001b[0m \u001b[0;34m\"spearman\"\u001b[0m\u001b[0;34m,\u001b[0m \u001b[0;34m\"kendall\"\u001b[0m\u001b[0;34m]\u001b[0m \u001b[0;32mor\u001b[0m \u001b[0mcallable\u001b[0m\u001b[0;34m(\u001b[0m\u001b[0mmethod\u001b[0m\u001b[0;34m)\u001b[0m\u001b[0;34m:\u001b[0m\u001b[0;34m\u001b[0m\u001b[0;34m\u001b[0m\u001b[0m\n\u001b[1;32m   2508\u001b[0m             return nanops.nancorr(\n\u001b[0;32m-> 2509\u001b[0;31m                 \u001b[0mthis\u001b[0m\u001b[0;34m.\u001b[0m\u001b[0mvalues\u001b[0m\u001b[0;34m,\u001b[0m \u001b[0mother\u001b[0m\u001b[0;34m.\u001b[0m\u001b[0mvalues\u001b[0m\u001b[0;34m,\u001b[0m \u001b[0mmethod\u001b[0m\u001b[0;34m=\u001b[0m\u001b[0mmethod\u001b[0m\u001b[0;34m,\u001b[0m \u001b[0mmin_periods\u001b[0m\u001b[0;34m=\u001b[0m\u001b[0mmin_periods\u001b[0m\u001b[0;34m\u001b[0m\u001b[0;34m\u001b[0m\u001b[0m\n\u001b[0m\u001b[1;32m   2510\u001b[0m             )\n\u001b[1;32m   2511\u001b[0m \u001b[0;34m\u001b[0m\u001b[0m\n",
            "\u001b[0;32m/usr/local/lib/python3.7/dist-packages/pandas/core/nanops.py\u001b[0m in \u001b[0;36m_f\u001b[0;34m(*args, **kwargs)\u001b[0m\n\u001b[1;32m     92\u001b[0m             \u001b[0;32mtry\u001b[0m\u001b[0;34m:\u001b[0m\u001b[0;34m\u001b[0m\u001b[0;34m\u001b[0m\u001b[0m\n\u001b[1;32m     93\u001b[0m                 \u001b[0;32mwith\u001b[0m \u001b[0mnp\u001b[0m\u001b[0;34m.\u001b[0m\u001b[0merrstate\u001b[0m\u001b[0;34m(\u001b[0m\u001b[0minvalid\u001b[0m\u001b[0;34m=\u001b[0m\u001b[0;34m\"ignore\"\u001b[0m\u001b[0;34m)\u001b[0m\u001b[0;34m:\u001b[0m\u001b[0;34m\u001b[0m\u001b[0;34m\u001b[0m\u001b[0m\n\u001b[0;32m---> 94\u001b[0;31m                     \u001b[0;32mreturn\u001b[0m \u001b[0mf\u001b[0m\u001b[0;34m(\u001b[0m\u001b[0;34m*\u001b[0m\u001b[0margs\u001b[0m\u001b[0;34m,\u001b[0m \u001b[0;34m**\u001b[0m\u001b[0mkwargs\u001b[0m\u001b[0;34m)\u001b[0m\u001b[0;34m\u001b[0m\u001b[0;34m\u001b[0m\u001b[0m\n\u001b[0m\u001b[1;32m     95\u001b[0m             \u001b[0;32mexcept\u001b[0m \u001b[0mValueError\u001b[0m \u001b[0;32mas\u001b[0m \u001b[0me\u001b[0m\u001b[0;34m:\u001b[0m\u001b[0;34m\u001b[0m\u001b[0;34m\u001b[0m\u001b[0m\n\u001b[1;32m     96\u001b[0m                 \u001b[0;31m# we want to transform an object array\u001b[0m\u001b[0;34m\u001b[0m\u001b[0;34m\u001b[0m\u001b[0;34m\u001b[0m\u001b[0m\n",
            "\u001b[0;32m/usr/local/lib/python3.7/dist-packages/pandas/core/nanops.py\u001b[0m in \u001b[0;36mnancorr\u001b[0;34m(a, b, method, min_periods)\u001b[0m\n\u001b[1;32m   1525\u001b[0m \u001b[0;34m\u001b[0m\u001b[0m\n\u001b[1;32m   1526\u001b[0m     \u001b[0mf\u001b[0m \u001b[0;34m=\u001b[0m \u001b[0mget_corr_func\u001b[0m\u001b[0;34m(\u001b[0m\u001b[0mmethod\u001b[0m\u001b[0;34m)\u001b[0m\u001b[0;34m\u001b[0m\u001b[0;34m\u001b[0m\u001b[0m\n\u001b[0;32m-> 1527\u001b[0;31m     \u001b[0;32mreturn\u001b[0m \u001b[0mf\u001b[0m\u001b[0;34m(\u001b[0m\u001b[0ma\u001b[0m\u001b[0;34m,\u001b[0m \u001b[0mb\u001b[0m\u001b[0;34m)\u001b[0m\u001b[0;34m\u001b[0m\u001b[0;34m\u001b[0m\u001b[0m\n\u001b[0m\u001b[1;32m   1528\u001b[0m \u001b[0;34m\u001b[0m\u001b[0m\n\u001b[1;32m   1529\u001b[0m \u001b[0;34m\u001b[0m\u001b[0m\n",
            "\u001b[0;32m/usr/local/lib/python3.7/dist-packages/pandas/core/nanops.py\u001b[0m in \u001b[0;36mfunc\u001b[0;34m(a, b)\u001b[0m\n\u001b[1;32m   1546\u001b[0m \u001b[0;34m\u001b[0m\u001b[0m\n\u001b[1;32m   1547\u001b[0m         \u001b[0;32mdef\u001b[0m \u001b[0mfunc\u001b[0m\u001b[0;34m(\u001b[0m\u001b[0ma\u001b[0m\u001b[0;34m,\u001b[0m \u001b[0mb\u001b[0m\u001b[0;34m)\u001b[0m\u001b[0;34m:\u001b[0m\u001b[0;34m\u001b[0m\u001b[0;34m\u001b[0m\u001b[0m\n\u001b[0;32m-> 1548\u001b[0;31m             \u001b[0;32mreturn\u001b[0m \u001b[0mnp\u001b[0m\u001b[0;34m.\u001b[0m\u001b[0mcorrcoef\u001b[0m\u001b[0;34m(\u001b[0m\u001b[0ma\u001b[0m\u001b[0;34m,\u001b[0m \u001b[0mb\u001b[0m\u001b[0;34m)\u001b[0m\u001b[0;34m[\u001b[0m\u001b[0;36m0\u001b[0m\u001b[0;34m,\u001b[0m \u001b[0;36m1\u001b[0m\u001b[0;34m]\u001b[0m\u001b[0;34m\u001b[0m\u001b[0;34m\u001b[0m\u001b[0m\n\u001b[0m\u001b[1;32m   1549\u001b[0m \u001b[0;34m\u001b[0m\u001b[0m\n\u001b[1;32m   1550\u001b[0m         \u001b[0;32mreturn\u001b[0m \u001b[0mfunc\u001b[0m\u001b[0;34m\u001b[0m\u001b[0;34m\u001b[0m\u001b[0m\n",
            "\u001b[0;32m<__array_function__ internals>\u001b[0m in \u001b[0;36mcorrcoef\u001b[0;34m(*args, **kwargs)\u001b[0m\n",
            "\u001b[0;32m/usr/local/lib/python3.7/dist-packages/numpy/lib/function_base.py\u001b[0m in \u001b[0;36mcorrcoef\u001b[0;34m(x, y, rowvar, bias, ddof, dtype)\u001b[0m\n\u001b[1;32m   2681\u001b[0m         warnings.warn('bias and ddof have no effect and are deprecated',\n\u001b[1;32m   2682\u001b[0m                       DeprecationWarning, stacklevel=3)\n\u001b[0;32m-> 2683\u001b[0;31m     \u001b[0mc\u001b[0m \u001b[0;34m=\u001b[0m \u001b[0mcov\u001b[0m\u001b[0;34m(\u001b[0m\u001b[0mx\u001b[0m\u001b[0;34m,\u001b[0m \u001b[0my\u001b[0m\u001b[0;34m,\u001b[0m \u001b[0mrowvar\u001b[0m\u001b[0;34m,\u001b[0m \u001b[0mdtype\u001b[0m\u001b[0;34m=\u001b[0m\u001b[0mdtype\u001b[0m\u001b[0;34m)\u001b[0m\u001b[0;34m\u001b[0m\u001b[0;34m\u001b[0m\u001b[0m\n\u001b[0m\u001b[1;32m   2684\u001b[0m     \u001b[0;32mtry\u001b[0m\u001b[0;34m:\u001b[0m\u001b[0;34m\u001b[0m\u001b[0;34m\u001b[0m\u001b[0m\n\u001b[1;32m   2685\u001b[0m         \u001b[0md\u001b[0m \u001b[0;34m=\u001b[0m \u001b[0mdiag\u001b[0m\u001b[0;34m(\u001b[0m\u001b[0mc\u001b[0m\u001b[0;34m)\u001b[0m\u001b[0;34m\u001b[0m\u001b[0;34m\u001b[0m\u001b[0m\n",
            "\u001b[0;32m<__array_function__ internals>\u001b[0m in \u001b[0;36mcov\u001b[0;34m(*args, **kwargs)\u001b[0m\n",
            "\u001b[0;32m/usr/local/lib/python3.7/dist-packages/numpy/lib/function_base.py\u001b[0m in \u001b[0;36mcov\u001b[0;34m(m, y, rowvar, bias, ddof, fweights, aweights, dtype)\u001b[0m\n\u001b[1;32m   2516\u001b[0m             \u001b[0mw\u001b[0m \u001b[0;34m*=\u001b[0m \u001b[0maweights\u001b[0m\u001b[0;34m\u001b[0m\u001b[0;34m\u001b[0m\u001b[0m\n\u001b[1;32m   2517\u001b[0m \u001b[0;34m\u001b[0m\u001b[0m\n\u001b[0;32m-> 2518\u001b[0;31m     \u001b[0mavg\u001b[0m\u001b[0;34m,\u001b[0m \u001b[0mw_sum\u001b[0m \u001b[0;34m=\u001b[0m \u001b[0maverage\u001b[0m\u001b[0;34m(\u001b[0m\u001b[0mX\u001b[0m\u001b[0;34m,\u001b[0m \u001b[0maxis\u001b[0m\u001b[0;34m=\u001b[0m\u001b[0;36m1\u001b[0m\u001b[0;34m,\u001b[0m \u001b[0mweights\u001b[0m\u001b[0;34m=\u001b[0m\u001b[0mw\u001b[0m\u001b[0;34m,\u001b[0m \u001b[0mreturned\u001b[0m\u001b[0;34m=\u001b[0m\u001b[0;32mTrue\u001b[0m\u001b[0;34m)\u001b[0m\u001b[0;34m\u001b[0m\u001b[0;34m\u001b[0m\u001b[0m\n\u001b[0m\u001b[1;32m   2519\u001b[0m     \u001b[0mw_sum\u001b[0m \u001b[0;34m=\u001b[0m \u001b[0mw_sum\u001b[0m\u001b[0;34m[\u001b[0m\u001b[0;36m0\u001b[0m\u001b[0;34m]\u001b[0m\u001b[0;34m\u001b[0m\u001b[0;34m\u001b[0m\u001b[0m\n\u001b[1;32m   2520\u001b[0m \u001b[0;34m\u001b[0m\u001b[0m\n",
            "\u001b[0;32m<__array_function__ internals>\u001b[0m in \u001b[0;36maverage\u001b[0;34m(*args, **kwargs)\u001b[0m\n",
            "\u001b[0;32m/usr/local/lib/python3.7/dist-packages/numpy/lib/function_base.py\u001b[0m in \u001b[0;36maverage\u001b[0;34m(a, axis, weights, returned)\u001b[0m\n\u001b[1;32m    378\u001b[0m \u001b[0;34m\u001b[0m\u001b[0m\n\u001b[1;32m    379\u001b[0m     \u001b[0;32mif\u001b[0m \u001b[0mweights\u001b[0m \u001b[0;32mis\u001b[0m \u001b[0;32mNone\u001b[0m\u001b[0;34m:\u001b[0m\u001b[0;34m\u001b[0m\u001b[0;34m\u001b[0m\u001b[0m\n\u001b[0;32m--> 380\u001b[0;31m         \u001b[0mavg\u001b[0m \u001b[0;34m=\u001b[0m \u001b[0ma\u001b[0m\u001b[0;34m.\u001b[0m\u001b[0mmean\u001b[0m\u001b[0;34m(\u001b[0m\u001b[0maxis\u001b[0m\u001b[0;34m)\u001b[0m\u001b[0;34m\u001b[0m\u001b[0;34m\u001b[0m\u001b[0m\n\u001b[0m\u001b[1;32m    381\u001b[0m         \u001b[0mscl\u001b[0m \u001b[0;34m=\u001b[0m \u001b[0mavg\u001b[0m\u001b[0;34m.\u001b[0m\u001b[0mdtype\u001b[0m\u001b[0;34m.\u001b[0m\u001b[0mtype\u001b[0m\u001b[0;34m(\u001b[0m\u001b[0ma\u001b[0m\u001b[0;34m.\u001b[0m\u001b[0msize\u001b[0m\u001b[0;34m/\u001b[0m\u001b[0mavg\u001b[0m\u001b[0;34m.\u001b[0m\u001b[0msize\u001b[0m\u001b[0;34m)\u001b[0m\u001b[0;34m\u001b[0m\u001b[0;34m\u001b[0m\u001b[0m\n\u001b[1;32m    382\u001b[0m     \u001b[0;32melse\u001b[0m\u001b[0;34m:\u001b[0m\u001b[0;34m\u001b[0m\u001b[0;34m\u001b[0m\u001b[0m\n",
            "\u001b[0;32m/usr/local/lib/python3.7/dist-packages/numpy/core/_methods.py\u001b[0m in \u001b[0;36m_mean\u001b[0;34m(a, axis, dtype, out, keepdims, where)\u001b[0m\n\u001b[1;32m    180\u001b[0m     \u001b[0;32mif\u001b[0m \u001b[0misinstance\u001b[0m\u001b[0;34m(\u001b[0m\u001b[0mret\u001b[0m\u001b[0;34m,\u001b[0m \u001b[0mmu\u001b[0m\u001b[0;34m.\u001b[0m\u001b[0mndarray\u001b[0m\u001b[0;34m)\u001b[0m\u001b[0;34m:\u001b[0m\u001b[0;34m\u001b[0m\u001b[0;34m\u001b[0m\u001b[0m\n\u001b[1;32m    181\u001b[0m         ret = um.true_divide(\n\u001b[0;32m--> 182\u001b[0;31m                 ret, rcount, out=ret, casting='unsafe', subok=False)\n\u001b[0m\u001b[1;32m    183\u001b[0m         \u001b[0;32mif\u001b[0m \u001b[0mis_float16_result\u001b[0m \u001b[0;32mand\u001b[0m \u001b[0mout\u001b[0m \u001b[0;32mis\u001b[0m \u001b[0;32mNone\u001b[0m\u001b[0;34m:\u001b[0m\u001b[0;34m\u001b[0m\u001b[0;34m\u001b[0m\u001b[0m\n\u001b[1;32m    184\u001b[0m             \u001b[0mret\u001b[0m \u001b[0;34m=\u001b[0m \u001b[0marr\u001b[0m\u001b[0;34m.\u001b[0m\u001b[0mdtype\u001b[0m\u001b[0;34m.\u001b[0m\u001b[0mtype\u001b[0m\u001b[0;34m(\u001b[0m\u001b[0mret\u001b[0m\u001b[0;34m)\u001b[0m\u001b[0;34m\u001b[0m\u001b[0;34m\u001b[0m\u001b[0m\n",
            "\u001b[0;31mTypeError\u001b[0m: unsupported operand type(s) for /: 'str' and 'int'"
          ]
        }
      ]
    }
  ]
}