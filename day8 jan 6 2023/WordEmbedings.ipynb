{
  "nbformat": 4,
  "nbformat_minor": 0,
  "metadata": {
    "colab": {
      "provenance": []
    },
    "kernelspec": {
      "name": "python3",
      "display_name": "Python 3"
    },
    "language_info": {
      "name": "python"
    }
  },
  "cells": [
    {
      "cell_type": "code",
      "execution_count": null,
      "metadata": {
        "id": "ep8pCnAhRNSB"
      },
      "outputs": [],
      "source": [
        "from keras.layers import Embedding\n",
        "embedding_layer = Embedding(1000,64)"
      ]
    },
    {
      "cell_type": "code",
      "source": [
        "from keras.models import Sequential\n",
        "from keras.layers import Flatten,Dense,Embedding\n",
        "\n",
        "model = Sequential()\n",
        "model.add(Embedding(10000,8,input_length=20))\n",
        "model.add(Flatten())\n",
        "model.add(Dense(1,activation='sigmoid'))\n",
        "model.summary()"
      ],
      "metadata": {
        "colab": {
          "base_uri": "https://localhost:8080/"
        },
        "id": "GxcSrcuRRY9U",
        "outputId": "4a4eeef3-124e-4068-c903-bf8dd0834f84"
      },
      "execution_count": null,
      "outputs": [
        {
          "output_type": "stream",
          "name": "stdout",
          "text": [
            "Model: \"sequential\"\n",
            "_________________________________________________________________\n",
            " Layer (type)                Output Shape              Param #   \n",
            "=================================================================\n",
            " embedding_1 (Embedding)     (None, 20, 8)             80000     \n",
            "                                                                 \n",
            " flatten (Flatten)           (None, 160)               0         \n",
            "                                                                 \n",
            " dense (Dense)               (None, 1)                 161       \n",
            "                                                                 \n",
            "=================================================================\n",
            "Total params: 80,161\n",
            "Trainable params: 80,161\n",
            "Non-trainable params: 0\n",
            "_________________________________________________________________\n"
          ]
        }
      ]
    },
    {
      "cell_type": "code",
      "source": [
        "!pip install pad_sequences"
      ],
      "metadata": {
        "colab": {
          "base_uri": "https://localhost:8080/"
        },
        "id": "cJLogFV2TKPN",
        "outputId": "75c2c621-9573-4cbf-d2cf-7c56e1805370"
      },
      "execution_count": null,
      "outputs": [
        {
          "output_type": "stream",
          "name": "stdout",
          "text": [
            "Looking in indexes: https://pypi.org/simple, https://us-python.pkg.dev/colab-wheels/public/simple/\n",
            "Collecting pad_sequences\n",
            "  Downloading pad-sequences-0.6.1.tar.gz (9.5 kB)\n",
            "  Preparing metadata (setup.py) ... \u001b[?25l\u001b[?25hdone\n",
            "Building wheels for collected packages: pad_sequences\n",
            "  Building wheel for pad_sequences (setup.py) ... \u001b[?25l\u001b[?25hdone\n",
            "  Created wheel for pad_sequences: filename=pad_sequences-0.6.1-py3-none-any.whl size=10216 sha256=c0adf3b108452ac6496441c66a25833bfc223bb15304447145fac644eedae064\n",
            "  Stored in directory: /root/.cache/pip/wheels/51/e4/5c/d3610ed4476515e540ff4096e3e9a8a3e701dedfe1072eb000\n",
            "Successfully built pad_sequences\n",
            "Installing collected packages: pad_sequences\n",
            "Successfully installed pad_sequences-0.6.1\n"
          ]
        }
      ]
    },
    {
      "cell_type": "code",
      "source": [
        "from keras_preprocessing.sequence import pad_sequences"
      ],
      "metadata": {
        "id": "-ShXkGAJTt0x"
      },
      "execution_count": null,
      "outputs": []
    },
    {
      "cell_type": "code",
      "source": [
        "import keras"
      ],
      "metadata": {
        "id": "bj2xNMreZXTn"
      },
      "execution_count": null,
      "outputs": []
    },
    {
      "cell_type": "code",
      "source": [
        "from keras.datasets import imdb\n",
        "from keras import preprocessing\n",
        "from keras.models import Sequential\n",
        "from keras.layers import Flatten , Dense, Embedding\n",
        "from keras.utils.data_utils import pad_sequences\n",
        "\n",
        "\n",
        "max_features = 10000\n",
        "maxlen = 20\n",
        "\n",
        "(x_train,y_train),(x_test,y_test)=imdb.load_data(num_words=10000)\n",
        "(train_data,train_labels), (test_data,tesr_labels)=imdb.load_data(num_words=10000)\n",
        "\n",
        "\n",
        "x_train = keras.utils.pad_sequences(x_train,maxlen=maxlen)\n",
        "x_test = keras.utils.pad_sequences(x_test,maxlen=maxlen)\n",
        "\n",
        "\n",
        "model = Sequential()\n",
        "model.add(Embedding(10000,8,input_length=maxlen))\n",
        "model.add(Flatten())\n",
        "model.add(Dense(1,activation='sigmoid'))\n",
        "model.summary()"
      ],
      "metadata": {
        "colab": {
          "base_uri": "https://localhost:8080/"
        },
        "id": "edOgk8TbT6f7",
        "outputId": "f9c451c2-0357-4721-f9f5-8c49a77c8765"
      },
      "execution_count": null,
      "outputs": [
        {
          "output_type": "stream",
          "name": "stdout",
          "text": [
            "Model: \"sequential_1\"\n",
            "_________________________________________________________________\n",
            " Layer (type)                Output Shape              Param #   \n",
            "=================================================================\n",
            " embedding_2 (Embedding)     (None, 20, 8)             80000     \n",
            "                                                                 \n",
            " flatten_1 (Flatten)         (None, 160)               0         \n",
            "                                                                 \n",
            " dense_1 (Dense)             (None, 1)                 161       \n",
            "                                                                 \n",
            "=================================================================\n",
            "Total params: 80,161\n",
            "Trainable params: 80,161\n",
            "Non-trainable params: 0\n",
            "_________________________________________________________________\n"
          ]
        }
      ]
    },
    {
      "cell_type": "code",
      "source": [
        "model.compile(optimizer='rmsprop', loss='binary_crossentropy', metrics=['acc'])\n",
        "history = model.fit(x_train,y_train,epochs=10, batch_size=32, validation_split=0.2,verbose=1)"
      ],
      "metadata": {
        "colab": {
          "base_uri": "https://localhost:8080/"
        },
        "id": "HXuOKH1UUF-E",
        "outputId": "25313054-d0d7-423f-b91f-ad2465ebb4dd"
      },
      "execution_count": null,
      "outputs": [
        {
          "output_type": "stream",
          "name": "stdout",
          "text": [
            "Epoch 1/10\n",
            "625/625 [==============================] - 4s 5ms/step - loss: 0.6644 - acc: 0.6320 - val_loss: 0.6073 - val_acc: 0.7026\n",
            "Epoch 2/10\n",
            "625/625 [==============================] - 2s 3ms/step - loss: 0.5320 - acc: 0.7513 - val_loss: 0.5207 - val_acc: 0.7300\n",
            "Epoch 3/10\n",
            "625/625 [==============================] - 1s 2ms/step - loss: 0.4599 - acc: 0.7876 - val_loss: 0.4969 - val_acc: 0.7480\n",
            "Epoch 4/10\n",
            "625/625 [==============================] - 2s 3ms/step - loss: 0.4248 - acc: 0.8074 - val_loss: 0.4930 - val_acc: 0.7548\n",
            "Epoch 5/10\n",
            "625/625 [==============================] - 1s 2ms/step - loss: 0.4010 - acc: 0.8194 - val_loss: 0.4947 - val_acc: 0.7548\n",
            "Epoch 6/10\n",
            "625/625 [==============================] - 1s 2ms/step - loss: 0.3817 - acc: 0.8303 - val_loss: 0.4973 - val_acc: 0.7584\n",
            "Epoch 7/10\n",
            "625/625 [==============================] - 2s 2ms/step - loss: 0.3639 - acc: 0.8395 - val_loss: 0.5012 - val_acc: 0.7552\n",
            "Epoch 8/10\n",
            "625/625 [==============================] - 2s 3ms/step - loss: 0.3471 - acc: 0.8507 - val_loss: 0.5072 - val_acc: 0.7578\n",
            "Epoch 9/10\n",
            "625/625 [==============================] - 1s 2ms/step - loss: 0.3311 - acc: 0.8597 - val_loss: 0.5140 - val_acc: 0.7538\n",
            "Epoch 10/10\n",
            "625/625 [==============================] - 1s 2ms/step - loss: 0.3157 - acc: 0.8673 - val_loss: 0.5204 - val_acc: 0.7544\n"
          ]
        }
      ]
    },
    {
      "cell_type": "code",
      "source": [
        "import matplotlib.pyplot as plt\n",
        "\n",
        "acc=history.history['acc']\n",
        "val_acc=history.history['val_acc']\n",
        "loss=history.history['loss']\n",
        "val_loss=history.history['val_loss']\n",
        "\n",
        "epochs=range(1,len(acc)+1)\n",
        "\n",
        "plt.plot(epochs, acc, 'bo', label='acc')\n",
        "plt.plot(epochs, val_acc, 'b', label='val_acc')\n",
        "plt.legend()\n",
        "\n",
        "plt.figure()\n",
        "plt.plot(epochs, loss, 'bo', label='loss')\n",
        "plt.plot(epochs, val_loss, 'b', label='val_loss')\n",
        "plt.legend()\n",
        "\n",
        "plt.show()"
      ],
      "metadata": {
        "colab": {
          "base_uri": "https://localhost:8080/",
          "height": 513
        },
        "id": "Jn2v6tUShOQZ",
        "outputId": "abdb95d7-cfe7-4cc0-bd28-0e275a8fea7a"
      },
      "execution_count": null,
      "outputs": [
        {
          "output_type": "display_data",
          "data": {
            "text/plain": [
              "<Figure size 432x288 with 1 Axes>"
            ],
            "image/png": "[encoded data removed]"
          },
          "metadata": {
            "needs_background": "light"
          }
        },
        {
          "output_type": "display_data",
          "data": {
            "text/plain": [
              "<Figure size 432x288 with 1 Axes>"
            ],
            "image/png": "[encoded data removed]"
          },
          "metadata": {
            "needs_background": "light"
          }
        }
      ]
    },
    {
      "cell_type": "code",
      "source": [
        "import jieba\n",
        "\n",
        "text=\"I am going to the United States\"\n",
        "cut=jieba.cut(text)\n",
        "sent=list(cut)\n",
        "print(sent)"
      ],
      "metadata": {
        "colab": {
          "base_uri": "https://localhost:8080/"
        },
        "id": "-TgiITrehdRE",
        "outputId": "0376b449-4ece-4e67-f2a5-dc4cc217a3cc"
      },
      "execution_count": null,
      "outputs": [
        {
          "output_type": "stream",
          "name": "stderr",
          "text": [
            "Building prefix dict from the default dictionary ...\n",
            "DEBUG:jieba:Building prefix dict from the default dictionary ...\n",
            "Dumping model to file cache /tmp/jieba.cache\n",
            "DEBUG:jieba:Dumping model to file cache /tmp/jieba.cache\n",
            "Loading model cost 2.797 seconds.\n",
            "DEBUG:jieba:Loading model cost 2.797 seconds.\n",
            "Prefix dict has been built successfully.\n",
            "DEBUG:jieba:Prefix dict has been built successfully.\n"
          ]
        },
        {
          "output_type": "stream",
          "name": "stdout",
          "text": [
            "['I', ' ', 'am', ' ', 'going', ' ', 'to', ' ', 'the', ' ', 'United', ' ', 'States']\n"
          ]
        }
      ]
    },
    {
      "cell_type": "code",
      "source": [
        "Sent =\"I will go to United States\"\n",
        "lst_sent=Sent.split(\" \")\n",
        "of_biagram_in = []\n",
        "for i in range(len(lst_sent)-1):\n",
        "  of_biagram_in.append(lst_sent[i]+\" \"+lst_sent[i + 1])\n",
        "\n",
        "print(of_biagram_in)"
      ],
      "metadata": {
        "colab": {
          "base_uri": "https://localhost:8080/"
        },
        "id": "XrzJfxhSj8lH",
        "outputId": "61b52e59-49d3-415f-b51b-a3f14685e1e7"
      },
      "execution_count": null,
      "outputs": [
        {
          "output_type": "stream",
          "name": "stdout",
          "text": [
            "['I will', 'will go', 'go to', 'to United', 'United States']\n"
          ]
        }
      ]
    },
    {
      "cell_type": "code",
      "source": [
        "from string import punctuation\n",
        "import re\n",
        "punctuation_pattern = re.compile(r\"\" \"[.,!? \"\"]\"\" \")\n",
        "sent=\"I will go to United States\"\n",
        "no_punctuation_sent = re.sub(punctuation_pattern,\" \",sent)\n",
        "lst_sent = no_punctuation_sent.split(\" \")\n",
        "trigram=[]\n",
        "for i in range(len(lst_sent)- 2):\n",
        "  trigram.append(lst_sent[i] + \" \" + lst_sent[i + 1] + \" \" + lst_sent[i + 2])"
      ],
      "metadata": {
        "id": "RY2dJRhCkcQ9"
      },
      "execution_count": null,
      "outputs": []
    },
    {
      "cell_type": "code",
      "source": [
        "# We'll start by reading in the corpus, which preserves word order\n",
        "import pandas as pd\n",
        "\n",
        "data = pd.read_pickle('corpus.pkl')\n",
        "data"
      ],
      "metadata": {
        "colab": {
          "base_uri": "https://localhost:8080/",
          "height": 426
        },
        "id": "OhuN8QUWmH6j",
        "outputId": "d70f55d0-57c0-46b2-dc5f-55c6d5f658ec"
      },
      "execution_count": null,
      "outputs": [
        {
          "output_type": "execute_result",
          "data": {
            "text/plain": [
              "                                                transcript         full_name\n",
              "ali      Ladies and gentlemen, please welcome to the st...          Ali Wong\n",
              "anthony  Thank you. Thank you. Thank you, San Francisco...  Anthony Jeselnik\n",
              "bill     [cheers and applause] All right, thank you! Th...         Bill Burr\n",
              "bo       Bo What? Old MacDonald had a farm E I E I O An...        Bo Burnham\n",
              "dave     This is Dave. He tells dirty jokes for a livin...    Dave Chappelle\n",
              "hasan    [theme music: orchestral hip-hop] [crowd roars...      Hasan Minhaj\n",
              "jim      [Car horn honks] [Audience cheering] [Announce...     Jim Jefferies\n",
              "joe      [rock music playing] [audience cheering] [anno...         Joe Rogan\n",
              "john     All right, Petunia. Wish me luck out there. Yo...      John Mulaney\n",
              "louis    Intro\\nFade the music out. Let’s roll. Hold th...        Louis C.K.\n",
              "mike     Wow. Hey, thank you. Thanks. Thank you, guys. ...    Mike Birbiglia\n",
              "ricky    Hello. Hello! How you doing? Great. Thank you....     Ricky Gervais"
            ],
            "text/html": [
              "\n",
              "  <div id=\"df-ce42b08b-b519-4612-9fee-402f18b9df97\">\n",
              "    <div class=\"colab-df-container\">\n",
              "      <div>\n",
              "<style scoped>\n",
              "    .dataframe tbody tr th:only-of-type {\n",
              "        vertical-align: middle;\n",
              "    }\n",
              "\n",
              "    .dataframe tbody tr th {\n",
              "        vertical-align: top;\n",
              "    }\n",
              "\n",
              "    .dataframe thead th {\n",
              "        text-align: right;\n",
              "    }\n",
              "</style>\n",
              "<table border=\"1\" class=\"dataframe\">\n",
              "  <thead>\n",
              "    <tr style=\"text-align: right;\">\n",
              "      <th></th>\n",
              "      <th>transcript</th>\n",
              "      <th>full_name</th>\n",
              "    </tr>\n",
              "  </thead>\n",
              "  <tbody>\n",
              "    <tr>\n",
              "      <th>ali</th>\n",
              "      <td>Ladies and gentlemen, please welcome to the st...</td>\n",
              "      <td>Ali Wong</td>\n",
              "    </tr>\n",
              "    <tr>\n",
              "      <th>anthony</th>\n",
              "      <td>Thank you. Thank you. Thank you, San Francisco...</td>\n",
              "      <td>Anthony Jeselnik</td>\n",
              "    </tr>\n",
              "    <tr>\n",
              "      <th>bill</th>\n",
              "      <td>[cheers and applause] All right, thank you! Th...</td>\n",
              "      <td>Bill Burr</td>\n",
              "    </tr>\n",
              "    <tr>\n",
              "      <th>bo</th>\n",
              "      <td>Bo What? Old MacDonald had a farm E I E I O An...</td>\n",
              "      <td>Bo Burnham</td>\n",
              "    </tr>\n",
              "    <tr>\n",
              "      <th>dave</th>\n",
              "      <td>This is Dave. He tells dirty jokes for a livin...</td>\n",
              "      <td>Dave Chappelle</td>\n",
              "    </tr>\n",
              "    <tr>\n",
              "      <th>hasan</th>\n",
              "      <td>[theme music: orchestral hip-hop] [crowd roars...</td>\n",
              "      <td>Hasan Minhaj</td>\n",
              "    </tr>\n",
              "    <tr>\n",
              "      <th>jim</th>\n",
              "      <td>[Car horn honks] [Audience cheering] [Announce...</td>\n",
              "      <td>Jim Jefferies</td>\n",
              "    </tr>\n",
              "    <tr>\n",
              "      <th>joe</th>\n",
              "      <td>[rock music playing] [audience cheering] [anno...</td>\n",
              "      <td>Joe Rogan</td>\n",
              "    </tr>\n",
              "    <tr>\n",
              "      <th>john</th>\n",
              "      <td>All right, Petunia. Wish me luck out there. Yo...</td>\n",
              "      <td>John Mulaney</td>\n",
              "    </tr>\n",
              "    <tr>\n",
              "      <th>louis</th>\n",
              "      <td>Intro\\nFade the music out. Let’s roll. Hold th...</td>\n",
              "      <td>Louis C.K.</td>\n",
              "    </tr>\n",
              "    <tr>\n",
              "      <th>mike</th>\n",
              "      <td>Wow. Hey, thank you. Thanks. Thank you, guys. ...</td>\n",
              "      <td>Mike Birbiglia</td>\n",
              "    </tr>\n",
              "    <tr>\n",
              "      <th>ricky</th>\n",
              "      <td>Hello. Hello! How you doing? Great. Thank you....</td>\n",
              "      <td>Ricky Gervais</td>\n",
              "    </tr>\n",
              "  </tbody>\n",
              "</table>\n",
              "</div>\n",
              "      <button class=\"colab-df-convert\" onclick=\"convertToInteractive('df-ce42b08b-b519-4612-9fee-402f18b9df97')\"\n",
              "              title=\"Convert this dataframe to an interactive table.\"\n",
              "              style=\"display:none;\">\n",
              "        \n",
              "  <svg xmlns=\"http://www.w3.org/2000/svg\" height=\"24px\"viewBox=\"0 0 24 24\"\n",
              "       width=\"24px\">\n",
              "    <path d=\"M0 0h24v24H0V0z\" fill=\"none\"/>\n",
              "    <path d=\"M18.56 5.44l.94 2.06.94-2.06 2.06-.94-2.06-.94-.94-2.06-.94 2.06-2.06.94zm-11 1L8.5 8.5l.94-2.06 2.06-.94-2.06-.94L8.5 2.5l-.94 2.06-2.06.94zm10 10l.94 2.06.94-2.06 2.06-.94-2.06-.94-.94-2.06-.94 2.06-2.06.94z\"/><path d=\"M17.41 7.96l-1.37-1.37c-.4-.4-.92-.59-1.43-.59-.52 0-1.04.2-1.43.59L10.3 9.45l-7.72 7.72c-.78.78-.78 2.05 0 2.83L4 21.41c.39.39.9.59 1.41.59.51 0 1.02-.2 1.41-.59l7.78-7.78 2.81-2.81c.8-.78.8-2.07 0-2.86zM5.41 20L4 18.59l7.72-7.72 1.47 1.35L5.41 20z\"/>\n",
              "  </svg>\n",
              "      </button>\n",
              "      \n",
              "  <style>\n",
              "    .colab-df-container {\n",
              "      display:flex;\n",
              "      flex-wrap:wrap;\n",
              "      gap: 12px;\n",
              "    }\n",
              "\n",
              "    .colab-df-convert {\n",
              "      background-color: #E8F0FE;\n",
              "      border: none;\n",
              "      border-radius: 50%;\n",
              "      cursor: pointer;\n",
              "      display: none;\n",
              "      fill: #1967D2;\n",
              "      height: 32px;\n",
              "      padding: 0 0 0 0;\n",
              "      width: 32px;\n",
              "    }\n",
              "\n",
              "    .colab-df-convert:hover {\n",
              "      background-color: #E2EBFA;\n",
              "      box-shadow: 0px 1px 2px rgba(60, 64, 67, 0.3), 0px 1px 3px 1px rgba(60, 64, 67, 0.15);\n",
              "      fill: #174EA6;\n",
              "    }\n",
              "\n",
              "    [theme=dark] .colab-df-convert {\n",
              "      background-color: #3B4455;\n",
              "      fill: #D2E3FC;\n",
              "    }\n",
              "\n",
              "    [theme=dark] .colab-df-convert:hover {\n",
              "      background-color: #434B5C;\n",
              "      box-shadow: 0px 1px 3px 1px rgba(0, 0, 0, 0.15);\n",
              "      filter: drop-shadow(0px 1px 2px rgba(0, 0, 0, 0.3));\n",
              "      fill: #FFFFFF;\n",
              "    }\n",
              "  </style>\n",
              "\n",
              "      <script>\n",
              "        const buttonEl =\n",
              "          document.querySelector('#df-ce42b08b-b519-4612-9fee-402f18b9df97 button.colab-df-convert');\n",
              "        buttonEl.style.display =\n",
              "          google.colab.kernel.accessAllowed ? 'block' : 'none';\n",
              "\n",
              "        async function convertToInteractive(key) {\n",
              "          const element = document.querySelector('#df-ce42b08b-b519-4612-9fee-402f18b9df97');\n",
              "          const dataTable =\n",
              "            await google.colab.kernel.invokeFunction('convertToInteractive',\n",
              "                                                     [key], {});\n",
              "          if (!dataTable) return;\n",
              "\n",
              "          const docLinkHtml = 'Like what you see? Visit the ' +\n",
              "            '<a target=\"_blank\" href=https://colab.research.google.com/notebooks/data_table.ipynb>data table notebook</a>'\n",
              "            + ' to learn more about interactive tables.';\n",
              "          element.innerHTML = '';\n",
              "          dataTable['output_type'] = 'display_data';\n",
              "          await google.colab.output.renderOutput(dataTable, element);\n",
              "          const docLink = document.createElement('div');\n",
              "          docLink.innerHTML = docLinkHtml;\n",
              "          element.appendChild(docLink);\n",
              "        }\n",
              "      </script>\n",
              "    </div>\n",
              "  </div>\n",
              "  "
            ]
          },
          "metadata": {},
          "execution_count": 36
        }
      ]
    },
    {
      "cell_type": "code",
      "source": [
        "from textblob import TextBlob\n",
        "\n",
        "pol = lambda x: TextBlob(x).sentiment.polarity\n",
        "sub = lambda x: TextBlob(x).sentiment.subjectivity\n",
        "\n",
        "data['polarity'] = data['transcript'].apply(pol)\n",
        "data['subjectivity'] = data['transcript'].apply(sub)\n",
        "\n",
        "data"
      ],
      "metadata": {
        "colab": {
          "base_uri": "https://localhost:8080/",
          "height": 426
        },
        "id": "VbIRJ_idwXUH",
        "outputId": "3a0e7e02-cfae-4823-b867-b31ef9e05123"
      },
      "execution_count": null,
      "outputs": [
        {
          "output_type": "execute_result",
          "data": {
            "text/plain": [
              "                                                transcript         full_name  \\\n",
              "ali      Ladies and gentlemen, please welcome to the st...          Ali Wong   \n",
              "anthony  Thank you. Thank you. Thank you, San Francisco...  Anthony Jeselnik   \n",
              "bill     [cheers and applause] All right, thank you! Th...         Bill Burr   \n",
              "bo       Bo What? Old MacDonald had a farm E I E I O An...        Bo Burnham   \n",
              "dave     This is Dave. He tells dirty jokes for a livin...    Dave Chappelle   \n",
              "hasan    [theme music: orchestral hip-hop] [crowd roars...      Hasan Minhaj   \n",
              "jim      [Car horn honks] [Audience cheering] [Announce...     Jim Jefferies   \n",
              "joe      [rock music playing] [audience cheering] [anno...         Joe Rogan   \n",
              "john     All right, Petunia. Wish me luck out there. Yo...      John Mulaney   \n",
              "louis    Intro\\nFade the music out. Let’s roll. Hold th...        Louis C.K.   \n",
              "mike     Wow. Hey, thank you. Thanks. Thank you, guys. ...    Mike Birbiglia   \n",
              "ricky    Hello. Hello! How you doing? Great. Thank you....     Ricky Gervais   \n",
              "\n",
              "         polarity  subjectivity  \n",
              "ali      0.069359      0.482403  \n",
              "anthony  0.055237      0.558976  \n",
              "bill     0.016479      0.537016  \n",
              "bo       0.074514      0.539368  \n",
              "dave    -0.002690      0.513958  \n",
              "hasan    0.086856      0.460619  \n",
              "jim      0.044224      0.523382  \n",
              "joe      0.004968      0.551628  \n",
              "john     0.082355      0.484137  \n",
              "louis    0.056665      0.515796  \n",
              "mike     0.092927      0.518476  \n",
              "ricky    0.066489      0.497313  "
            ],
            "text/html": [
              "\n",
              "  <div id=\"df-f2518f0d-3de0-4dbd-ac81-45e532102f8f\">\n",
              "    <div class=\"colab-df-container\">\n",
              "      <div>\n",
              "<style scoped>\n",
              "    .dataframe tbody tr th:only-of-type {\n",
              "        vertical-align: middle;\n",
              "    }\n",
              "\n",
              "    .dataframe tbody tr th {\n",
              "        vertical-align: top;\n",
              "    }\n",
              "\n",
              "    .dataframe thead th {\n",
              "        text-align: right;\n",
              "    }\n",
              "</style>\n",
              "<table border=\"1\" class=\"dataframe\">\n",
              "  <thead>\n",
              "    <tr style=\"text-align: right;\">\n",
              "      <th></th>\n",
              "      <th>transcript</th>\n",
              "      <th>full_name</th>\n",
              "      <th>polarity</th>\n",
              "      <th>subjectivity</th>\n",
              "    </tr>\n",
              "  </thead>\n",
              "  <tbody>\n",
              "    <tr>\n",
              "      <th>ali</th>\n",
              "      <td>Ladies and gentlemen, please welcome to the st...</td>\n",
              "      <td>Ali Wong</td>\n",
              "      <td>0.069359</td>\n",
              "      <td>0.482403</td>\n",
              "    </tr>\n",
              "    <tr>\n",
              "      <th>anthony</th>\n",
              "      <td>Thank you. Thank you. Thank you, San Francisco...</td>\n",
              "      <td>Anthony Jeselnik</td>\n",
              "      <td>0.055237</td>\n",
              "      <td>0.558976</td>\n",
              "    </tr>\n",
              "    <tr>\n",
              "      <th>bill</th>\n",
              "      <td>[cheers and applause] All right, thank you! Th...</td>\n",
              "      <td>Bill Burr</td>\n",
              "      <td>0.016479</td>\n",
              "      <td>0.537016</td>\n",
              "    </tr>\n",
              "    <tr>\n",
              "      <th>bo</th>\n",
              "      <td>Bo What? Old MacDonald had a farm E I E I O An...</td>\n",
              "      <td>Bo Burnham</td>\n",
              "      <td>0.074514</td>\n",
              "      <td>0.539368</td>\n",
              "    </tr>\n",
              "    <tr>\n",
              "      <th>dave</th>\n",
              "      <td>This is Dave. He tells dirty jokes for a livin...</td>\n",
              "      <td>Dave Chappelle</td>\n",
              "      <td>-0.002690</td>\n",
              "      <td>0.513958</td>\n",
              "    </tr>\n",
              "    <tr>\n",
              "      <th>hasan</th>\n",
              "      <td>[theme music: orchestral hip-hop] [crowd roars...</td>\n",
              "      <td>Hasan Minhaj</td>\n",
              "      <td>0.086856</td>\n",
              "      <td>0.460619</td>\n",
              "    </tr>\n",
              "    <tr>\n",
              "      <th>jim</th>\n",
              "      <td>[Car horn honks] [Audience cheering] [Announce...</td>\n",
              "      <td>Jim Jefferies</td>\n",
              "      <td>0.044224</td>\n",
              "      <td>0.523382</td>\n",
              "    </tr>\n",
              "    <tr>\n",
              "      <th>joe</th>\n",
              "      <td>[rock music playing] [audience cheering] [anno...</td>\n",
              "      <td>Joe Rogan</td>\n",
              "      <td>0.004968</td>\n",
              "      <td>0.551628</td>\n",
              "    </tr>\n",
              "    <tr>\n",
              "      <th>john</th>\n",
              "      <td>All right, Petunia. Wish me luck out there. Yo...</td>\n",
              "      <td>John Mulaney</td>\n",
              "      <td>0.082355</td>\n",
              "      <td>0.484137</td>\n",
              "    </tr>\n",
              "    <tr>\n",
              "      <th>louis</th>\n",
              "      <td>Intro\\nFade the music out. Let’s roll. Hold th...</td>\n",
              "      <td>Louis C.K.</td>\n",
              "      <td>0.056665</td>\n",
              "      <td>0.515796</td>\n",
              "    </tr>\n",
              "    <tr>\n",
              "      <th>mike</th>\n",
              "      <td>Wow. Hey, thank you. Thanks. Thank you, guys. ...</td>\n",
              "      <td>Mike Birbiglia</td>\n",
              "      <td>0.092927</td>\n",
              "      <td>0.518476</td>\n",
              "    </tr>\n",
              "    <tr>\n",
              "      <th>ricky</th>\n",
              "      <td>Hello. Hello! How you doing? Great. Thank you....</td>\n",
              "      <td>Ricky Gervais</td>\n",
              "      <td>0.066489</td>\n",
              "      <td>0.497313</td>\n",
              "    </tr>\n",
              "  </tbody>\n",
              "</table>\n",
              "</div>\n",
              "      <button class=\"colab-df-convert\" onclick=\"convertToInteractive('df-f2518f0d-3de0-4dbd-ac81-45e532102f8f')\"\n",
              "              title=\"Convert this dataframe to an interactive table.\"\n",
              "              style=\"display:none;\">\n",
              "        \n",
              "  <svg xmlns=\"http://www.w3.org/2000/svg\" height=\"24px\"viewBox=\"0 0 24 24\"\n",
              "       width=\"24px\">\n",
              "    <path d=\"M0 0h24v24H0V0z\" fill=\"none\"/>\n",
              "    <path d=\"M18.56 5.44l.94 2.06.94-2.06 2.06-.94-2.06-.94-.94-2.06-.94 2.06-2.06.94zm-11 1L8.5 8.5l.94-2.06 2.06-.94-2.06-.94L8.5 2.5l-.94 2.06-2.06.94zm10 10l.94 2.06.94-2.06 2.06-.94-2.06-.94-.94-2.06-.94 2.06-2.06.94z\"/><path d=\"M17.41 7.96l-1.37-1.37c-.4-.4-.92-.59-1.43-.59-.52 0-1.04.2-1.43.59L10.3 9.45l-7.72 7.72c-.78.78-.78 2.05 0 2.83L4 21.41c.39.39.9.59 1.41.59.51 0 1.02-.2 1.41-.59l7.78-7.78 2.81-2.81c.8-.78.8-2.07 0-2.86zM5.41 20L4 18.59l7.72-7.72 1.47 1.35L5.41 20z\"/>\n",
              "  </svg>\n",
              "      </button>\n",
              "      \n",
              "  <style>\n",
              "    .colab-df-container {\n",
              "      display:flex;\n",
              "      flex-wrap:wrap;\n",
              "      gap: 12px;\n",
              "    }\n",
              "\n",
              "    .colab-df-convert {\n",
              "      background-color: #E8F0FE;\n",
              "      border: none;\n",
              "      border-radius: 50%;\n",
              "      cursor: pointer;\n",
              "      display: none;\n",
              "      fill: #1967D2;\n",
              "      height: 32px;\n",
              "      padding: 0 0 0 0;\n",
              "      width: 32px;\n",
              "    }\n",
              "\n",
              "    .colab-df-convert:hover {\n",
              "      background-color: #E2EBFA;\n",
              "      box-shadow: 0px 1px 2px rgba(60, 64, 67, 0.3), 0px 1px 3px 1px rgba(60, 64, 67, 0.15);\n",
              "      fill: #174EA6;\n",
              "    }\n",
              "\n",
              "    [theme=dark] .colab-df-convert {\n",
              "      background-color: #3B4455;\n",
              "      fill: #D2E3FC;\n",
              "    }\n",
              "\n",
              "    [theme=dark] .colab-df-convert:hover {\n",
              "      background-color: #434B5C;\n",
              "      box-shadow: 0px 1px 3px 1px rgba(0, 0, 0, 0.15);\n",
              "      filter: drop-shadow(0px 1px 2px rgba(0, 0, 0, 0.3));\n",
              "      fill: #FFFFFF;\n",
              "    }\n",
              "  </style>\n",
              "\n",
              "      <script>\n",
              "        const buttonEl =\n",
              "          document.querySelector('#df-f2518f0d-3de0-4dbd-ac81-45e532102f8f button.colab-df-convert');\n",
              "        buttonEl.style.display =\n",
              "          google.colab.kernel.accessAllowed ? 'block' : 'none';\n",
              "\n",
              "        async function convertToInteractive(key) {\n",
              "          const element = document.querySelector('#df-f2518f0d-3de0-4dbd-ac81-45e532102f8f');\n",
              "          const dataTable =\n",
              "            await google.colab.kernel.invokeFunction('convertToInteractive',\n",
              "                                                     [key], {});\n",
              "          if (!dataTable) return;\n",
              "\n",
              "          const docLinkHtml = 'Like what you see? Visit the ' +\n",
              "            '<a target=\"_blank\" href=https://colab.research.google.com/notebooks/data_table.ipynb>data table notebook</a>'\n",
              "            + ' to learn more about interactive tables.';\n",
              "          element.innerHTML = '';\n",
              "          dataTable['output_type'] = 'display_data';\n",
              "          await google.colab.output.renderOutput(dataTable, element);\n",
              "          const docLink = document.createElement('div');\n",
              "          docLink.innerHTML = docLinkHtml;\n",
              "          element.appendChild(docLink);\n",
              "        }\n",
              "      </script>\n",
              "    </div>\n",
              "  </div>\n",
              "  "
            ]
          },
          "metadata": {},
          "execution_count": 37
        }
      ]
    },
    {
      "cell_type": "code",
      "source": [
        "import matplotlib.pyplot as plt\n",
        "\n",
        "plt.rcParams['figure.figsize'] = [10,8]\n",
        "\n",
        "for index,comedian in enumerate(data.index):\n",
        "  x = data.polarity.loc[comedian]\n",
        "  y = data.subjectivity.loc[comedian]\n",
        "  plt.scatter(x,y,color='blue')\n",
        "  plt.text(x+.001, y+.001, data['full_name'][index],fontsize=10)\n",
        "  plt.xlim(-.01,.12)\n",
        "\n",
        "plt.title('Sentiment Analysis',fontsize=20)\n",
        "plt.xlabel('<-- Negative----------Positive---->', fontsize=15)\n",
        "plt.ylabel('<-- Facts-----------Opinions -->',fontsize=15)\n",
        "\n",
        "plt.show()"
      ],
      "metadata": {
        "colab": {
          "base_uri": "https://localhost:8080/",
          "height": 523
        },
        "id": "4qPdzIWnwuMr",
        "outputId": "28d954ea-a220-4d32-e4ee-82cc3963d070"
      },
      "execution_count": null,
      "outputs": [
        {
          "output_type": "display_data",
          "data": {
            "text/plain": [
              "<Figure size 720x576 with 1 Axes>"
            ],
            "image/png": "[encoded data removed]"
          },
          "metadata": {
            "needs_background": "light"
          }
        }
      ]
    },
    {
      "cell_type": "code",
      "source": [],
      "metadata": {
        "id": "0SAJibjJy_QK"
      },
      "execution_count": null,
      "outputs": []
    }
  ]
}