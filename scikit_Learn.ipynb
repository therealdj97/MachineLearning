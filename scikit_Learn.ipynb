{
  "nbformat": 4,
  "nbformat_minor": 0,
  "metadata": {
    "colab": {
      "provenance": []
    },
    "kernelspec": {
      "name": "python3",
      "display_name": "Python 3"
    },
    "language_info": {
      "name": "python"
    }
  },
  "cells": [
    {
      "cell_type": "code",
      "execution_count": 1,
      "metadata": {
        "id": "09JM3vtsIZsU"
      },
      "outputs": [],
      "source": [
        "# machineLearning Day 1\n",
        "import numpy as np\n",
        "import scipy as sp"
      ]
    },
    {
      "cell_type": "code",
      "source": [],
      "metadata": {
        "id": "SPSDUrw0Ip4w"
      },
      "execution_count": null,
      "outputs": []
    }
  ]
}