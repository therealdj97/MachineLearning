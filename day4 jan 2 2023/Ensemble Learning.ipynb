{
 "cells": [
  {
   "cell_type": "code",
   "execution_count": null,
   "id": "a1b5e957",
   "metadata": {},
   "outputs": [],
   "source": [
    "seeks better predictive performance by combining the predictions from multiple models"
   ]
  },
  {
   "cell_type": "code",
   "execution_count": null,
   "id": "996b9349",
   "metadata": {},
   "outputs": [],
   "source": [
    "Three main classes of Ensemble learning method:\n",
    "    Bagging\n",
    "    Boosting\n",
    "    Stacking"
   ]
  },
  {
   "cell_type": "code",
   "execution_count": null,
   "id": "a8e7a0f8",
   "metadata": {},
   "outputs": [],
   "source": [
    "Bagging involves fitting many decision trees on different samples of the samedataset and averaging the predictions"
   ]
  },
  {
   "cell_type": "code",
   "execution_count": null,
   "id": "33a9e178",
   "metadata": {},
   "outputs": [],
   "source": [
    "Stacking involves fitting many different model types on the same data and using another \n",
    "model to learn how to best combine the predictions"
   ]
  },
  {
   "cell_type": "code",
   "execution_count": null,
   "id": "6adf108c",
   "metadata": {},
   "outputs": [],
   "source": [
    "Boosting involves adding ensemble members sequentially that correct the predictions made by prior models and outputs a weighted\n",
    "avg of the predictions"
   ]
  },
  {
   "cell_type": "code",
   "execution_count": null,
   "id": "72817ebb",
   "metadata": {},
   "outputs": [],
   "source": []
  },
  {
   "cell_type": "code",
   "execution_count": null,
   "id": "6be1f291",
   "metadata": {},
   "outputs": [],
   "source": []
  },
  {
   "cell_type": "code",
   "execution_count": null,
   "id": "113868bd",
   "metadata": {},
   "outputs": [],
   "source": []
  },
  {
   "cell_type": "code",
   "execution_count": null,
   "id": "4c82ceb8",
   "metadata": {},
   "outputs": [],
   "source": []
  },
  {
   "cell_type": "code",
   "execution_count": null,
   "id": "25c732a8",
   "metadata": {},
   "outputs": [],
   "source": []
  },
  {
   "cell_type": "code",
   "execution_count": null,
   "id": "6e59da13",
   "metadata": {},
   "outputs": [],
   "source": []
  },
  {
   "cell_type": "code",
   "execution_count": null,
   "id": "289c6c59",
   "metadata": {},
   "outputs": [],
   "source": []
  },
  {
   "cell_type": "code",
   "execution_count": null,
   "id": "dd88207c",
   "metadata": {},
   "outputs": [],
   "source": []
  },
  {
   "cell_type": "code",
   "execution_count": null,
   "id": "3af44c9d",
   "metadata": {},
   "outputs": [],
   "source": []
  },
  {
   "cell_type": "code",
   "execution_count": null,
   "id": "3826438c",
   "metadata": {},
   "outputs": [],
   "source": []
  },
  {
   "cell_type": "code",
   "execution_count": null,
   "id": "2732cff7",
   "metadata": {},
   "outputs": [],
   "source": []
  },
  {
   "cell_type": "code",
   "execution_count": null,
   "id": "49b44288",
   "metadata": {},
   "outputs": [],
   "source": []
  },
  {
   "cell_type": "code",
   "execution_count": null,
   "id": "e9663b65",
   "metadata": {},
   "outputs": [],
   "source": []
  },
  {
   "cell_type": "code",
   "execution_count": null,
   "id": "392b1889",
   "metadata": {},
   "outputs": [],
   "source": []
  }
 ],
 "metadata": {
  "kernelspec": {
   "display_name": "Python 3 (ipykernel)",
   "language": "python",
   "name": "python3"
  },
  "language_info": {
   "codemirror_mode": {
    "name": "ipython",
    "version": 3
   },
   "file_extension": ".py",
   "mimetype": "text/x-python",
   "name": "python",
   "nbconvert_exporter": "python",
   "pygments_lexer": "ipython3",
   "version": "3.9.13"
  }
 },
 "nbformat": 4,
 "nbformat_minor": 5
}
