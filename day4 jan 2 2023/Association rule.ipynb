{
 "cells": [
  {
   "cell_type": "code",
   "execution_count": null,
   "id": "f48649f1",
   "metadata": {},
   "outputs": [],
   "source": [
    "Unsupervised learning technique\n",
    "dependency of one data item on other data item"
   ]
  },
  {
   "cell_type": "code",
   "execution_count": null,
   "id": "f8df5cf0",
   "metadata": {},
   "outputs": [],
   "source": [
    "Market basket analysis\n",
    "Web usage mining\n",
    "Continuous production"
   ]
  },
  {
   "cell_type": "code",
   "execution_count": null,
   "id": "fc9c08fb",
   "metadata": {},
   "outputs": [],
   "source": [
    "Association rule can be divided into 3 algorithms:\n",
    "   Apriori\n",
    "    EClat\n",
    "    F-G Growth"
   ]
  },
  {
   "cell_type": "code",
   "execution_count": null,
   "id": "7b81e722",
   "metadata": {},
   "outputs": [],
   "source": [
    "Concept of if and else statement\n",
    "\n",
    "If A (Antecedent) -->   Then B (Consequent)        --> Single cardinality"
   ]
  },
  {
   "cell_type": "code",
   "execution_count": null,
   "id": "bd646b79",
   "metadata": {},
   "outputs": [],
   "source": [
    "Metrics of AR:\n",
    "    Support\n",
    "    Confidence\n",
    "    Lift"
   ]
  },
  {
   "cell_type": "code",
   "execution_count": null,
   "id": "2ac24f70",
   "metadata": {},
   "outputs": [],
   "source": [
    "Support: is the frequency of A or how frequently an item appears in the dataset \n",
    "    \n",
    "    = Freq(X)/t\n",
    "    \n",
    "    T = Transaction\n",
    "    X = Itemset"
   ]
  },
  {
   "cell_type": "code",
   "execution_count": null,
   "id": "ef78c545",
   "metadata": {},
   "outputs": [],
   "source": [
    "Confidence: indicates how often the rule has been found to be true\n",
    "    Or how many times X and Y occur together in the dataset when the occurance of X is already given\n",
    "    \n",
    "    = Freq(X,Y)/Freq(X)"
   ]
  },
  {
   "cell_type": "code",
   "execution_count": null,
   "id": "3cbfab66",
   "metadata": {},
   "outputs": [],
   "source": [
    "Lift: Is the strength of any rule, which can be defined as\n",
    "    = Supp(X,Y)/Supp(X)*Supp(Y)"
   ]
  },
  {
   "cell_type": "code",
   "execution_count": null,
   "id": "ad84797f",
   "metadata": {},
   "outputs": [],
   "source": [
    "1. If Lift = 1 --> the probability of occurance of antecedent and consequent is independent of eachother\n",
    "2. If Lift > 1 --> it determines the degree to which the two itemsets are dependent on eachother\n",
    "3. If Lift < 1 --> it tells us that one item is a substitute for other items, which means one item has a \n",
    "                    negative effect on another"
   ]
  },
  {
   "cell_type": "code",
   "execution_count": null,
   "id": "cea3e33a",
   "metadata": {},
   "outputs": [],
   "source": [
    "Apriori Algorithm = uses frequent datasets to generate association rules\n",
    "It is designed to work on databases that contain transactions\n",
    "It uses a breadth - first search and hash tree to calculate the itemset efficiently"
   ]
  },
  {
   "cell_type": "code",
   "execution_count": null,
   "id": "2ae67be8",
   "metadata": {},
   "outputs": [],
   "source": [
    "Applications of ARL\n",
    "1. Market Basket Analysis = big retailers\n",
    "2. Medical diagnosis\n",
    "3. Protein Sequence"
   ]
  }
 ],
 "metadata": {
  "kernelspec": {
   "display_name": "Python 3",
   "language": "python",
   "name": "python3"
  },
  "language_info": {
   "codemirror_mode": {
    "name": "ipython",
    "version": 3
   },
   "file_extension": ".py",
   "mimetype": "text/x-python",
   "name": "python",
   "nbconvert_exporter": "python",
   "pygments_lexer": "ipython3",
   "version": "3.10.9 (tags/v3.10.9:1dd9be6, Dec  6 2022, 20:01:21) [MSC v.1934 64 bit (AMD64)]"
  },
  "vscode": {
   "interpreter": {
    "hash": "26de051ba29f2982a8de78e945f0abaf191376122a1563185a90213a26c5da77"
   }
  }
 },
 "nbformat": 4,
 "nbformat_minor": 5
}
