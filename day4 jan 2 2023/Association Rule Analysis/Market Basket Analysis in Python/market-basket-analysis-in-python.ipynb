{
 "cells": [
  {
   "cell_type": "markdown",
   "id": "cfe31e49",
   "metadata": {
    "id": "JzYVvlyzN_uH",
    "papermill": {
     "duration": 0.026839,
     "end_time": "2022-01-12T08:23:29.216671",
     "exception": false,
     "start_time": "2022-01-12T08:23:29.189832",
     "status": "completed"
    },
    "tags": []
   },
   "source": [
    "## Market Basket Analysis - Groceries Dataset"
   ]
  },
  {
   "cell_type": "markdown",
   "id": "56ea8827",
   "metadata": {
    "id": "cl2g0i_COKgs",
    "papermill": {
     "duration": 0.025333,
     "end_time": "2022-01-12T08:23:29.269969",
     "exception": false,
     "start_time": "2022-01-12T08:23:29.244636",
     "status": "completed"
    },
    "tags": []
   },
   "source": [
    "Author: Khushee Kapoor\n",
    "\n",
    "Last Updated: 20/12/2021\n",
    "\n",
    "**Meta-Data** of the Groceries Dataset:\n",
    "\n",
    "The dataset contains a list of transactions and the items purchased in each transaction in a Super-Market."
   ]
  },
  {
   "cell_type": "markdown",
   "id": "df7796c6",
   "metadata": {
    "id": "lEjPJ6W1PNYM",
    "papermill": {
     "duration": 0.025446,
     "end_time": "2022-01-12T08:23:29.321175",
     "exception": false,
     "start_time": "2022-01-12T08:23:29.295729",
     "status": "completed"
    },
    "tags": []
   },
   "source": [
    "First, we import the libraries:\n",
    "\n",
    "*   NumPy - for data manipulation.\n",
    "*   Pandas - for data manipulation.\n",
    "*   MatPlotLib - for data visualization.\n",
    "*   Seaborn - for data visualization.\n",
    "*   CSV Reader - to read the dataset.\n",
    "*   MLXtend - to apply the Apriori Algorithm."
   ]
  },
  {
   "cell_type": "code",
   "execution_count": 1,
   "id": "83c03d70",
   "metadata": {
    "execution": {
     "iopub.execute_input": "2022-01-12T08:23:29.399748Z",
     "iopub.status.busy": "2022-01-12T08:23:29.397940Z",
     "iopub.status.idle": "2022-01-12T08:23:30.554969Z",
     "shell.execute_reply": "2022-01-12T08:23:30.554192Z"
    },
    "id": "0a983bd0",
    "papermill": {
     "duration": 1.19911,
     "end_time": "2022-01-12T08:23:30.555161",
     "exception": false,
     "start_time": "2022-01-12T08:23:29.356051",
     "status": "completed"
    },
    "tags": []
   },
   "outputs": [],
   "source": [
    "# importing the libraries\n",
    "import numpy as np\n",
    "import pandas as pd\n",
    "from matplotlib import pyplot as plt\n",
    "import seaborn as sns\n",
    "from csv import reader\n",
    "from mlxtend.preprocessing import TransactionEncoder\n",
    "from mlxtend.frequent_patterns import apriori, association_rules"
   ]
  },
  {
   "cell_type": "markdown",
   "id": "e98ee391",
   "metadata": {
    "id": "uqkvDZscP2bV",
    "papermill": {
     "duration": 0.026093,
     "end_time": "2022-01-12T08:23:30.608325",
     "exception": false,
     "start_time": "2022-01-12T08:23:30.582232",
     "status": "completed"
    },
    "tags": []
   },
   "source": [
    "Next, we read the dataset into a list. Here, we use the csv_reader() function fromt the CSV Reader library instead of the read_csv() function from the Pandas library because the number of columns in each row is different (ragged arrays)."
   ]
  },
  {
   "cell_type": "code",
   "execution_count": 2,
   "id": "8bf0deef",
   "metadata": {
    "execution": {
     "iopub.execute_input": "2022-01-12T08:23:30.667292Z",
     "iopub.status.busy": "2022-01-12T08:23:30.666520Z",
     "iopub.status.idle": "2022-01-12T08:23:30.713997Z",
     "shell.execute_reply": "2022-01-12T08:23:30.713427Z"
    },
    "id": "226ec4bf",
    "papermill": {
     "duration": 0.079993,
     "end_time": "2022-01-12T08:23:30.714156",
     "exception": false,
     "start_time": "2022-01-12T08:23:30.634163",
     "status": "completed"
    },
    "tags": []
   },
   "outputs": [],
   "source": [
    "# reading the dataset\n",
    "groceries = []\n",
    "with open('../input/groceries/groceries.csv', 'r') as read_obj:\n",
    "    csv_reader = reader(read_obj)\n",
    "    for row in csv_reader:\n",
    "        groceries.append(row)"
   ]
  },
  {
   "cell_type": "markdown",
   "id": "ae62ecd6",
   "metadata": {
    "id": "dDAROAHhkTG8",
    "papermill": {
     "duration": 0.025462,
     "end_time": "2022-01-12T08:23:30.765699",
     "exception": false,
     "start_time": "2022-01-12T08:23:30.740237",
     "status": "completed"
    },
    "tags": []
   },
   "source": [
    "To solve the following questions, we prepare the transaction dataframe to a format to which we can apply the Apriori algorithm."
   ]
  },
  {
   "cell_type": "markdown",
   "id": "14318e3f",
   "metadata": {
    "id": "xeyf01VgQPX4",
    "papermill": {
     "duration": 0.025499,
     "end_time": "2022-01-12T08:23:30.816932",
     "exception": false,
     "start_time": "2022-01-12T08:23:30.791433",
     "status": "completed"
    },
    "tags": []
   },
   "source": [
    "Naive approach to form the transaction dataframe:\n",
    "\n",
    "1.   To find the unique items - flatten the list and convert it into a set. The conversion removes any duplicate values, and hence, we are left with only the unique items in the dataset.\n",
    "2.   Convert the set of unique items into an empty Pandas dataframe.\n",
    "3.   Find every item in a transaction and append 1 if found and 0 if not found. This fills the empty dataframe previously created.\n",
    "\n"
   ]
  },
  {
   "cell_type": "code",
   "execution_count": 3,
   "id": "947bf550",
   "metadata": {
    "execution": {
     "iopub.execute_input": "2022-01-12T08:23:30.875425Z",
     "iopub.status.busy": "2022-01-12T08:23:30.874460Z",
     "iopub.status.idle": "2022-01-12T08:23:30.876738Z",
     "shell.execute_reply": "2022-01-12T08:23:30.877282Z"
    },
    "id": "0b4b3dee",
    "papermill": {
     "duration": 0.03321,
     "end_time": "2022-01-12T08:23:30.877446",
     "exception": false,
     "start_time": "2022-01-12T08:23:30.844236",
     "status": "completed"
    },
    "tags": []
   },
   "outputs": [],
   "source": [
    "# items = set(sum(groceries, []))"
   ]
  },
  {
   "cell_type": "code",
   "execution_count": 4,
   "id": "6967be39",
   "metadata": {
    "execution": {
     "iopub.execute_input": "2022-01-12T08:23:30.934272Z",
     "iopub.status.busy": "2022-01-12T08:23:30.933487Z",
     "iopub.status.idle": "2022-01-12T08:23:30.936290Z",
     "shell.execute_reply": "2022-01-12T08:23:30.935743Z"
    },
    "id": "5a2f731c",
    "papermill": {
     "duration": 0.032873,
     "end_time": "2022-01-12T08:23:30.936433",
     "exception": false,
     "start_time": "2022-01-12T08:23:30.903560",
     "status": "completed"
    },
    "tags": []
   },
   "outputs": [],
   "source": [
    "# df = pd.DataFrame(columns=items)"
   ]
  },
  {
   "cell_type": "code",
   "execution_count": 5,
   "id": "ac74e0af",
   "metadata": {
    "execution": {
     "iopub.execute_input": "2022-01-12T08:23:30.993765Z",
     "iopub.status.busy": "2022-01-12T08:23:30.992885Z",
     "iopub.status.idle": "2022-01-12T08:23:30.995604Z",
     "shell.execute_reply": "2022-01-12T08:23:30.995093Z"
    },
    "id": "11152b9f",
    "papermill": {
     "duration": 0.032948,
     "end_time": "2022-01-12T08:23:30.995744",
     "exception": false,
     "start_time": "2022-01-12T08:23:30.962796",
     "status": "completed"
    },
    "tags": []
   },
   "outputs": [],
   "source": [
    "# for i in range(len(groceries)):\n",
    "#     transaction = []\n",
    "#     for item in items:\n",
    "#         if item in groceries[i]:\n",
    "#             transaction.append(1)\n",
    "#         else:\n",
    "#             transaction.append(0)\n",
    "#     print(transaction)\n",
    "#     df = df.append(transaction, ignore_index=True)          "
   ]
  },
  {
   "cell_type": "markdown",
   "id": "27c77701",
   "metadata": {
    "id": "IP2wg5NaRGu-",
    "papermill": {
     "duration": 0.026634,
     "end_time": "2022-01-12T08:23:31.049379",
     "exception": false,
     "start_time": "2022-01-12T08:23:31.022745",
     "status": "completed"
    },
    "tags": []
   },
   "source": [
    "The above method works, but is very time inefficient. To solve the problem in significantly less time, we use the TransactionEncoder class from the MLXtend library. We fit the object of the class on the list and convert it into a Pandas dataframe with 1 representing item is purchased in that transaction, and 0 representing that the item is not purchased in that transaction."
   ]
  },
  {
   "cell_type": "code",
   "execution_count": 6,
   "id": "3826c5e5",
   "metadata": {
    "execution": {
     "iopub.execute_input": "2022-01-12T08:23:31.111306Z",
     "iopub.status.busy": "2022-01-12T08:23:31.110318Z",
     "iopub.status.idle": "2022-01-12T08:23:31.137227Z",
     "shell.execute_reply": "2022-01-12T08:23:31.137742Z"
    },
    "id": "697babc3",
    "papermill": {
     "duration": 0.062115,
     "end_time": "2022-01-12T08:23:31.137933",
     "exception": false,
     "start_time": "2022-01-12T08:23:31.075818",
     "status": "completed"
    },
    "tags": []
   },
   "outputs": [],
   "source": [
    "# fitting the list and converting the transactions to true and false\n",
    "encoder = TransactionEncoder()\n",
    "transactions = encoder.fit(groceries).transform(groceries)"
   ]
  },
  {
   "cell_type": "code",
   "execution_count": 7,
   "id": "556fdcb7",
   "metadata": {
    "execution": {
     "iopub.execute_input": "2022-01-12T08:23:31.194597Z",
     "iopub.status.busy": "2022-01-12T08:23:31.193564Z",
     "iopub.status.idle": "2022-01-12T08:23:31.203409Z",
     "shell.execute_reply": "2022-01-12T08:23:31.203960Z"
    },
    "id": "d8c91759",
    "papermill": {
     "duration": 0.039711,
     "end_time": "2022-01-12T08:23:31.204159",
     "exception": false,
     "start_time": "2022-01-12T08:23:31.164448",
     "status": "completed"
    },
    "tags": []
   },
   "outputs": [],
   "source": [
    "# converting the true and false to 1 and 0\n",
    "transactions = transactions.astype('int')"
   ]
  },
  {
   "cell_type": "code",
   "execution_count": 8,
   "id": "90047b54",
   "metadata": {
    "execution": {
     "iopub.execute_input": "2022-01-12T08:23:31.260820Z",
     "iopub.status.busy": "2022-01-12T08:23:31.259849Z",
     "iopub.status.idle": "2022-01-12T08:23:31.265829Z",
     "shell.execute_reply": "2022-01-12T08:23:31.266370Z"
    },
    "id": "a3785770",
    "papermill": {
     "duration": 0.035828,
     "end_time": "2022-01-12T08:23:31.266543",
     "exception": false,
     "start_time": "2022-01-12T08:23:31.230715",
     "status": "completed"
    },
    "tags": []
   },
   "outputs": [],
   "source": [
    "# converting the transactions array to a datafrmae\n",
    "df = pd.DataFrame(transactions, columns=encoder.columns_)"
   ]
  },
  {
   "cell_type": "code",
   "execution_count": 9,
   "id": "3fc3799f",
   "metadata": {
    "execution": {
     "iopub.execute_input": "2022-01-12T08:23:31.323819Z",
     "iopub.status.busy": "2022-01-12T08:23:31.322866Z",
     "iopub.status.idle": "2022-01-12T08:23:31.351878Z",
     "shell.execute_reply": "2022-01-12T08:23:31.352452Z"
    },
    "id": "566f589f",
    "outputId": "6398f2aa-023c-458e-f681-d2b43e7ee187",
    "papermill": {
     "duration": 0.059194,
     "end_time": "2022-01-12T08:23:31.352630",
     "exception": false,
     "start_time": "2022-01-12T08:23:31.293436",
     "status": "completed"
    },
    "tags": []
   },
   "outputs": [
    {
     "data": {
      "text/html": [
       "<div>\n",
       "<style scoped>\n",
       "    .dataframe tbody tr th:only-of-type {\n",
       "        vertical-align: middle;\n",
       "    }\n",
       "\n",
       "    .dataframe tbody tr th {\n",
       "        vertical-align: top;\n",
       "    }\n",
       "\n",
       "    .dataframe thead th {\n",
       "        text-align: right;\n",
       "    }\n",
       "</style>\n",
       "<table border=\"1\" class=\"dataframe\">\n",
       "  <thead>\n",
       "    <tr style=\"text-align: right;\">\n",
       "      <th></th>\n",
       "      <th>Instant food products</th>\n",
       "      <th>UHT-milk</th>\n",
       "      <th>abrasive cleaner</th>\n",
       "      <th>artif. sweetener</th>\n",
       "      <th>baby cosmetics</th>\n",
       "      <th>baby food</th>\n",
       "      <th>bags</th>\n",
       "      <th>baking powder</th>\n",
       "      <th>bathroom cleaner</th>\n",
       "      <th>beef</th>\n",
       "      <th>...</th>\n",
       "      <th>turkey</th>\n",
       "      <th>vinegar</th>\n",
       "      <th>waffles</th>\n",
       "      <th>whipped/sour cream</th>\n",
       "      <th>whisky</th>\n",
       "      <th>white bread</th>\n",
       "      <th>white wine</th>\n",
       "      <th>whole milk</th>\n",
       "      <th>yogurt</th>\n",
       "      <th>zwieback</th>\n",
       "    </tr>\n",
       "  </thead>\n",
       "  <tbody>\n",
       "    <tr>\n",
       "      <th>0</th>\n",
       "      <td>0</td>\n",
       "      <td>0</td>\n",
       "      <td>0</td>\n",
       "      <td>0</td>\n",
       "      <td>0</td>\n",
       "      <td>0</td>\n",
       "      <td>0</td>\n",
       "      <td>0</td>\n",
       "      <td>0</td>\n",
       "      <td>0</td>\n",
       "      <td>...</td>\n",
       "      <td>0</td>\n",
       "      <td>0</td>\n",
       "      <td>0</td>\n",
       "      <td>0</td>\n",
       "      <td>0</td>\n",
       "      <td>0</td>\n",
       "      <td>0</td>\n",
       "      <td>0</td>\n",
       "      <td>0</td>\n",
       "      <td>0</td>\n",
       "    </tr>\n",
       "    <tr>\n",
       "      <th>1</th>\n",
       "      <td>0</td>\n",
       "      <td>0</td>\n",
       "      <td>0</td>\n",
       "      <td>0</td>\n",
       "      <td>0</td>\n",
       "      <td>0</td>\n",
       "      <td>0</td>\n",
       "      <td>0</td>\n",
       "      <td>0</td>\n",
       "      <td>0</td>\n",
       "      <td>...</td>\n",
       "      <td>0</td>\n",
       "      <td>0</td>\n",
       "      <td>0</td>\n",
       "      <td>0</td>\n",
       "      <td>0</td>\n",
       "      <td>0</td>\n",
       "      <td>0</td>\n",
       "      <td>0</td>\n",
       "      <td>1</td>\n",
       "      <td>0</td>\n",
       "    </tr>\n",
       "    <tr>\n",
       "      <th>2</th>\n",
       "      <td>0</td>\n",
       "      <td>0</td>\n",
       "      <td>0</td>\n",
       "      <td>0</td>\n",
       "      <td>0</td>\n",
       "      <td>0</td>\n",
       "      <td>0</td>\n",
       "      <td>0</td>\n",
       "      <td>0</td>\n",
       "      <td>0</td>\n",
       "      <td>...</td>\n",
       "      <td>0</td>\n",
       "      <td>0</td>\n",
       "      <td>0</td>\n",
       "      <td>0</td>\n",
       "      <td>0</td>\n",
       "      <td>0</td>\n",
       "      <td>0</td>\n",
       "      <td>1</td>\n",
       "      <td>0</td>\n",
       "      <td>0</td>\n",
       "    </tr>\n",
       "    <tr>\n",
       "      <th>3</th>\n",
       "      <td>0</td>\n",
       "      <td>0</td>\n",
       "      <td>0</td>\n",
       "      <td>0</td>\n",
       "      <td>0</td>\n",
       "      <td>0</td>\n",
       "      <td>0</td>\n",
       "      <td>0</td>\n",
       "      <td>0</td>\n",
       "      <td>0</td>\n",
       "      <td>...</td>\n",
       "      <td>0</td>\n",
       "      <td>0</td>\n",
       "      <td>0</td>\n",
       "      <td>0</td>\n",
       "      <td>0</td>\n",
       "      <td>0</td>\n",
       "      <td>0</td>\n",
       "      <td>0</td>\n",
       "      <td>1</td>\n",
       "      <td>0</td>\n",
       "    </tr>\n",
       "    <tr>\n",
       "      <th>4</th>\n",
       "      <td>0</td>\n",
       "      <td>0</td>\n",
       "      <td>0</td>\n",
       "      <td>0</td>\n",
       "      <td>0</td>\n",
       "      <td>0</td>\n",
       "      <td>0</td>\n",
       "      <td>0</td>\n",
       "      <td>0</td>\n",
       "      <td>0</td>\n",
       "      <td>...</td>\n",
       "      <td>0</td>\n",
       "      <td>0</td>\n",
       "      <td>0</td>\n",
       "      <td>0</td>\n",
       "      <td>0</td>\n",
       "      <td>0</td>\n",
       "      <td>0</td>\n",
       "      <td>1</td>\n",
       "      <td>0</td>\n",
       "      <td>0</td>\n",
       "    </tr>\n",
       "  </tbody>\n",
       "</table>\n",
       "<p>5 rows × 169 columns</p>\n",
       "</div>"
      ],
      "text/plain": [
       "   Instant food products  UHT-milk  abrasive cleaner  artif. sweetener  \\\n",
       "0                      0         0                 0                 0   \n",
       "1                      0         0                 0                 0   \n",
       "2                      0         0                 0                 0   \n",
       "3                      0         0                 0                 0   \n",
       "4                      0         0                 0                 0   \n",
       "\n",
       "   baby cosmetics  baby food  bags  baking powder  bathroom cleaner  beef  \\\n",
       "0               0          0     0              0                 0     0   \n",
       "1               0          0     0              0                 0     0   \n",
       "2               0          0     0              0                 0     0   \n",
       "3               0          0     0              0                 0     0   \n",
       "4               0          0     0              0                 0     0   \n",
       "\n",
       "   ...  turkey  vinegar  waffles  whipped/sour cream  whisky  white bread  \\\n",
       "0  ...       0        0        0                   0       0            0   \n",
       "1  ...       0        0        0                   0       0            0   \n",
       "2  ...       0        0        0                   0       0            0   \n",
       "3  ...       0        0        0                   0       0            0   \n",
       "4  ...       0        0        0                   0       0            0   \n",
       "\n",
       "   white wine  whole milk  yogurt  zwieback  \n",
       "0           0           0       0         0  \n",
       "1           0           0       1         0  \n",
       "2           0           1       0         0  \n",
       "3           0           0       1         0  \n",
       "4           0           1       0         0  \n",
       "\n",
       "[5 rows x 169 columns]"
      ]
     },
     "execution_count": 9,
     "metadata": {},
     "output_type": "execute_result"
    }
   ],
   "source": [
    "# viewing the first few rows of the dataframe\n",
    "df.head()"
   ]
  },
  {
   "cell_type": "markdown",
   "id": "c4cf899d",
   "metadata": {
    "id": "b96j1KF1jYGG",
    "papermill": {
     "duration": 0.027201,
     "end_time": "2022-01-12T08:23:31.407801",
     "exception": false,
     "start_time": "2022-01-12T08:23:31.380600",
     "status": "completed"
    },
    "tags": []
   },
   "source": [
    "#### **Q1** How many transactions and items are there in the data set?\n"
   ]
  },
  {
   "cell_type": "markdown",
   "id": "dc804219",
   "metadata": {
    "id": "egzmRON6jS14",
    "papermill": {
     "duration": 0.027282,
     "end_time": "2022-01-12T08:23:31.462582",
     "exception": false,
     "start_time": "2022-01-12T08:23:31.435300",
     "status": "completed"
    },
    "tags": []
   },
   "source": [
    "To solve Question 1, we use the shape attribute of a Pandas dataframe. Here, the number of rows represent the number of transactions, and the number of columns represent the number of items in the dataset."
   ]
  },
  {
   "cell_type": "code",
   "execution_count": 10,
   "id": "1fb1cbb9",
   "metadata": {
    "execution": {
     "iopub.execute_input": "2022-01-12T08:23:31.523214Z",
     "iopub.status.busy": "2022-01-12T08:23:31.522389Z",
     "iopub.status.idle": "2022-01-12T08:23:31.525553Z",
     "shell.execute_reply": "2022-01-12T08:23:31.526051Z"
    },
    "id": "IgYMylcTjJx9",
    "outputId": "567c7e25-6617-4dfa-e7c0-99b9d5883713",
    "papermill": {
     "duration": 0.036187,
     "end_time": "2022-01-12T08:23:31.526241",
     "exception": false,
     "start_time": "2022-01-12T08:23:31.490054",
     "status": "completed"
    },
    "tags": []
   },
   "outputs": [
    {
     "data": {
      "text/plain": [
       "(9835, 169)"
      ]
     },
     "execution_count": 10,
     "metadata": {},
     "output_type": "execute_result"
    }
   ],
   "source": [
    "# finding the dimensions of the dataframe\n",
    "df.shape"
   ]
  },
  {
   "cell_type": "markdown",
   "id": "d6e0b0a3",
   "metadata": {
    "id": "N6Ufsre0jolO",
    "papermill": {
     "duration": 0.027452,
     "end_time": "2022-01-12T08:23:31.581664",
     "exception": false,
     "start_time": "2022-01-12T08:23:31.554212",
     "status": "completed"
    },
    "tags": []
   },
   "source": [
    "As we can see, there are 9835 rows, meaning 9835 transactions, and 169 columns, meaning 169 items in the dataset."
   ]
  },
  {
   "cell_type": "markdown",
   "id": "16aef8bf",
   "metadata": {
    "id": "b26AOASukCKm",
    "papermill": {
     "duration": 0.027359,
     "end_time": "2022-01-12T08:23:31.637074",
     "exception": false,
     "start_time": "2022-01-12T08:23:31.609715",
     "status": "completed"
    },
    "tags": []
   },
   "source": [
    "To prepare the data for the following questions, we apply the Apriori algorithm on the dataframe and set the minimum support parameter to 2%."
   ]
  },
  {
   "cell_type": "code",
   "execution_count": 11,
   "id": "7c596208",
   "metadata": {
    "execution": {
     "iopub.execute_input": "2022-01-12T08:23:31.697546Z",
     "iopub.status.busy": "2022-01-12T08:23:31.696567Z",
     "iopub.status.idle": "2022-01-12T08:23:32.052657Z",
     "shell.execute_reply": "2022-01-12T08:23:32.051950Z"
    },
    "id": "d0d3f904",
    "outputId": "2230326d-d03f-4093-9f40-0544f7b92e2f",
    "papermill": {
     "duration": 0.387024,
     "end_time": "2022-01-12T08:23:32.052805",
     "exception": false,
     "start_time": "2022-01-12T08:23:31.665781",
     "status": "completed"
    },
    "tags": []
   },
   "outputs": [
    {
     "data": {
      "text/html": [
       "<div>\n",
       "<style scoped>\n",
       "    .dataframe tbody tr th:only-of-type {\n",
       "        vertical-align: middle;\n",
       "    }\n",
       "\n",
       "    .dataframe tbody tr th {\n",
       "        vertical-align: top;\n",
       "    }\n",
       "\n",
       "    .dataframe thead th {\n",
       "        text-align: right;\n",
       "    }\n",
       "</style>\n",
       "<table border=\"1\" class=\"dataframe\">\n",
       "  <thead>\n",
       "    <tr style=\"text-align: right;\">\n",
       "      <th></th>\n",
       "      <th>support</th>\n",
       "      <th>itemsets</th>\n",
       "      <th>length</th>\n",
       "    </tr>\n",
       "  </thead>\n",
       "  <tbody>\n",
       "    <tr>\n",
       "      <th>0</th>\n",
       "      <td>0.033452</td>\n",
       "      <td>(UHT-milk)</td>\n",
       "      <td>1</td>\n",
       "    </tr>\n",
       "    <tr>\n",
       "      <th>1</th>\n",
       "      <td>0.052466</td>\n",
       "      <td>(beef)</td>\n",
       "      <td>1</td>\n",
       "    </tr>\n",
       "    <tr>\n",
       "      <th>2</th>\n",
       "      <td>0.033249</td>\n",
       "      <td>(berries)</td>\n",
       "      <td>1</td>\n",
       "    </tr>\n",
       "    <tr>\n",
       "      <th>3</th>\n",
       "      <td>0.026029</td>\n",
       "      <td>(beverages)</td>\n",
       "      <td>1</td>\n",
       "    </tr>\n",
       "    <tr>\n",
       "      <th>4</th>\n",
       "      <td>0.080529</td>\n",
       "      <td>(bottled beer)</td>\n",
       "      <td>1</td>\n",
       "    </tr>\n",
       "    <tr>\n",
       "      <th>...</th>\n",
       "      <td>...</td>\n",
       "      <td>...</td>\n",
       "      <td>...</td>\n",
       "    </tr>\n",
       "    <tr>\n",
       "      <th>117</th>\n",
       "      <td>0.032232</td>\n",
       "      <td>(whipped/sour cream, whole milk)</td>\n",
       "      <td>2</td>\n",
       "    </tr>\n",
       "    <tr>\n",
       "      <th>118</th>\n",
       "      <td>0.020742</td>\n",
       "      <td>(yogurt, whipped/sour cream)</td>\n",
       "      <td>2</td>\n",
       "    </tr>\n",
       "    <tr>\n",
       "      <th>119</th>\n",
       "      <td>0.056024</td>\n",
       "      <td>(yogurt, whole milk)</td>\n",
       "      <td>2</td>\n",
       "    </tr>\n",
       "    <tr>\n",
       "      <th>120</th>\n",
       "      <td>0.023183</td>\n",
       "      <td>(root vegetables, other vegetables, whole milk)</td>\n",
       "      <td>3</td>\n",
       "    </tr>\n",
       "    <tr>\n",
       "      <th>121</th>\n",
       "      <td>0.022267</td>\n",
       "      <td>(other vegetables, yogurt, whole milk)</td>\n",
       "      <td>3</td>\n",
       "    </tr>\n",
       "  </tbody>\n",
       "</table>\n",
       "<p>122 rows × 3 columns</p>\n",
       "</div>"
      ],
      "text/plain": [
       "      support                                         itemsets  length\n",
       "0    0.033452                                       (UHT-milk)       1\n",
       "1    0.052466                                           (beef)       1\n",
       "2    0.033249                                        (berries)       1\n",
       "3    0.026029                                      (beverages)       1\n",
       "4    0.080529                                   (bottled beer)       1\n",
       "..        ...                                              ...     ...\n",
       "117  0.032232                 (whipped/sour cream, whole milk)       2\n",
       "118  0.020742                     (yogurt, whipped/sour cream)       2\n",
       "119  0.056024                             (yogurt, whole milk)       2\n",
       "120  0.023183  (root vegetables, other vegetables, whole milk)       3\n",
       "121  0.022267           (other vegetables, yogurt, whole milk)       3\n",
       "\n",
       "[122 rows x 3 columns]"
      ]
     },
     "execution_count": 11,
     "metadata": {},
     "output_type": "execute_result"
    }
   ],
   "source": [
    "# applying the apriori algorithm\n",
    "frequent_itemsets = apriori(df, min_support=0.02, use_colnames=True)\n",
    "frequent_itemsets['length'] = frequent_itemsets['itemsets'].apply(lambda x: len(x))\n",
    "frequent_itemsets"
   ]
  },
  {
   "cell_type": "markdown",
   "id": "b311beea",
   "metadata": {
    "id": "Fh_LM3hwjyfk",
    "papermill": {
     "duration": 0.028335,
     "end_time": "2022-01-12T08:23:32.110627",
     "exception": false,
     "start_time": "2022-01-12T08:23:32.082292",
     "status": "completed"
    },
    "tags": []
   },
   "source": [
    "#### **Q4** Find top selling items with minimum support of 2%."
   ]
  },
  {
   "cell_type": "markdown",
   "id": "fc23ee3f",
   "metadata": {
    "id": "pr_MR217lJh7",
    "papermill": {
     "duration": 0.028274,
     "end_time": "2022-01-12T08:23:32.167476",
     "exception": false,
     "start_time": "2022-01-12T08:23:32.139202",
     "status": "completed"
    },
    "tags": []
   },
   "source": [
    "To solve Question 4, first we sort the dataframe by support in the descending order by using the sort_values() function from the Pandas library and setting the by and ascending parameters to support and False respectively."
   ]
  },
  {
   "cell_type": "code",
   "execution_count": 12,
   "id": "f339c5a3",
   "metadata": {
    "execution": {
     "iopub.execute_input": "2022-01-12T08:23:32.232074Z",
     "iopub.status.busy": "2022-01-12T08:23:32.231003Z",
     "iopub.status.idle": "2022-01-12T08:23:32.238282Z",
     "shell.execute_reply": "2022-01-12T08:23:32.238760Z"
    },
    "id": "4150dad1",
    "papermill": {
     "duration": 0.042,
     "end_time": "2022-01-12T08:23:32.238938",
     "exception": false,
     "start_time": "2022-01-12T08:23:32.196938",
     "status": "completed"
    },
    "tags": []
   },
   "outputs": [],
   "source": [
    "# sorting the dataframe\n",
    "frequent_itemsets = frequent_itemsets.sort_values(by='support', ascending=False)"
   ]
  },
  {
   "cell_type": "markdown",
   "id": "30745a32",
   "metadata": {
    "id": "sXHv3XTblpKk",
    "papermill": {
     "duration": 0.029013,
     "end_time": "2022-01-12T08:23:32.297279",
     "exception": false,
     "start_time": "2022-01-12T08:23:32.268266",
     "status": "completed"
    },
    "tags": []
   },
   "source": [
    "Next, we filter the dataframe to find items with length 1 and support more than equal to 2%. Then we splice the sorted and filtered dataframe to show only the top 5 entries."
   ]
  },
  {
   "cell_type": "code",
   "execution_count": 13,
   "id": "0d033df9",
   "metadata": {
    "execution": {
     "iopub.execute_input": "2022-01-12T08:23:32.368862Z",
     "iopub.status.busy": "2022-01-12T08:23:32.368080Z",
     "iopub.status.idle": "2022-01-12T08:23:32.371277Z",
     "shell.execute_reply": "2022-01-12T08:23:32.371758Z"
    },
    "id": "6f82245e",
    "outputId": "fbca0826-fad2-47f2-f14f-9957f5f9166f",
    "papermill": {
     "duration": 0.04615,
     "end_time": "2022-01-12T08:23:32.371923",
     "exception": false,
     "start_time": "2022-01-12T08:23:32.325773",
     "status": "completed"
    },
    "tags": []
   },
   "outputs": [
    {
     "data": {
      "text/html": [
       "<div>\n",
       "<style scoped>\n",
       "    .dataframe tbody tr th:only-of-type {\n",
       "        vertical-align: middle;\n",
       "    }\n",
       "\n",
       "    .dataframe tbody tr th {\n",
       "        vertical-align: top;\n",
       "    }\n",
       "\n",
       "    .dataframe thead th {\n",
       "        text-align: right;\n",
       "    }\n",
       "</style>\n",
       "<table border=\"1\" class=\"dataframe\">\n",
       "  <thead>\n",
       "    <tr style=\"text-align: right;\">\n",
       "      <th></th>\n",
       "      <th>support</th>\n",
       "      <th>itemsets</th>\n",
       "      <th>length</th>\n",
       "    </tr>\n",
       "  </thead>\n",
       "  <tbody>\n",
       "    <tr>\n",
       "      <th>57</th>\n",
       "      <td>0.255516</td>\n",
       "      <td>(whole milk)</td>\n",
       "      <td>1</td>\n",
       "    </tr>\n",
       "    <tr>\n",
       "      <th>39</th>\n",
       "      <td>0.193493</td>\n",
       "      <td>(other vegetables)</td>\n",
       "      <td>1</td>\n",
       "    </tr>\n",
       "    <tr>\n",
       "      <th>43</th>\n",
       "      <td>0.183935</td>\n",
       "      <td>(rolls/buns)</td>\n",
       "      <td>1</td>\n",
       "    </tr>\n",
       "    <tr>\n",
       "      <th>49</th>\n",
       "      <td>0.174377</td>\n",
       "      <td>(soda)</td>\n",
       "      <td>1</td>\n",
       "    </tr>\n",
       "    <tr>\n",
       "      <th>58</th>\n",
       "      <td>0.139502</td>\n",
       "      <td>(yogurt)</td>\n",
       "      <td>1</td>\n",
       "    </tr>\n",
       "  </tbody>\n",
       "</table>\n",
       "</div>"
      ],
      "text/plain": [
       "     support            itemsets  length\n",
       "57  0.255516        (whole milk)       1\n",
       "39  0.193493  (other vegetables)       1\n",
       "43  0.183935        (rolls/buns)       1\n",
       "49  0.174377              (soda)       1\n",
       "58  0.139502            (yogurt)       1"
      ]
     },
     "execution_count": 13,
     "metadata": {},
     "output_type": "execute_result"
    }
   ],
   "source": [
    "# finding top 5 items with minimum support of 2%\n",
    "frequent_itemsets[ (frequent_itemsets['length'] == 1) &\n",
    "                   (frequent_itemsets['support'] >= 0.02) ][0:5]"
   ]
  },
  {
   "cell_type": "markdown",
   "id": "9532dc30",
   "metadata": {
    "id": "gC8Gc-B_l_ox",
    "papermill": {
     "duration": 0.029044,
     "end_time": "2022-01-12T08:23:32.430096",
     "exception": false,
     "start_time": "2022-01-12T08:23:32.401052",
     "status": "completed"
    },
    "tags": []
   },
   "source": [
    "As we can see, whole milk, other vegetables, rolls/buns, soda and yogurt are the top 5 selling items with support of 25%, 19%, 18%, 17%, and 14% respectively."
   ]
  },
  {
   "cell_type": "markdown",
   "id": "7a29cddf",
   "metadata": {
    "id": "ZxQ3qwRQmOH_",
    "papermill": {
     "duration": 0.02863,
     "end_time": "2022-01-12T08:23:32.487682",
     "exception": false,
     "start_time": "2022-01-12T08:23:32.459052",
     "status": "completed"
    },
    "tags": []
   },
   "source": [
    "#### **Q5.** Find all frequent itemsets with minimum support of 5%."
   ]
  },
  {
   "cell_type": "markdown",
   "id": "948fa7e6",
   "metadata": {
    "id": "HftmWC1MmSbe",
    "papermill": {
     "duration": 0.029003,
     "end_time": "2022-01-12T08:23:32.545915",
     "exception": false,
     "start_time": "2022-01-12T08:23:32.516912",
     "status": "completed"
    },
    "tags": []
   },
   "source": [
    "To solve Question 5, we filter the dataframe to find itemsets having length more than 1, and support more than 5%."
   ]
  },
  {
   "cell_type": "code",
   "execution_count": 14,
   "id": "2133f2d5",
   "metadata": {
    "execution": {
     "iopub.execute_input": "2022-01-12T08:23:32.609098Z",
     "iopub.status.busy": "2022-01-12T08:23:32.608120Z",
     "iopub.status.idle": "2022-01-12T08:23:32.620367Z",
     "shell.execute_reply": "2022-01-12T08:23:32.619688Z"
    },
    "id": "110a29d9",
    "outputId": "9ef5c144-dad2-4947-e442-52aab84ee55f",
    "papermill": {
     "duration": 0.044691,
     "end_time": "2022-01-12T08:23:32.620507",
     "exception": false,
     "start_time": "2022-01-12T08:23:32.575816",
     "status": "completed"
    },
    "tags": []
   },
   "outputs": [
    {
     "data": {
      "text/html": [
       "<div>\n",
       "<style scoped>\n",
       "    .dataframe tbody tr th:only-of-type {\n",
       "        vertical-align: middle;\n",
       "    }\n",
       "\n",
       "    .dataframe tbody tr th {\n",
       "        vertical-align: top;\n",
       "    }\n",
       "\n",
       "    .dataframe thead th {\n",
       "        text-align: right;\n",
       "    }\n",
       "</style>\n",
       "<table border=\"1\" class=\"dataframe\">\n",
       "  <thead>\n",
       "    <tr style=\"text-align: right;\">\n",
       "      <th></th>\n",
       "      <th>support</th>\n",
       "      <th>itemsets</th>\n",
       "      <th>length</th>\n",
       "    </tr>\n",
       "  </thead>\n",
       "  <tbody>\n",
       "    <tr>\n",
       "      <th>91</th>\n",
       "      <td>0.074835</td>\n",
       "      <td>(other vegetables, whole milk)</td>\n",
       "      <td>2</td>\n",
       "    </tr>\n",
       "    <tr>\n",
       "      <th>103</th>\n",
       "      <td>0.056634</td>\n",
       "      <td>(rolls/buns, whole milk)</td>\n",
       "      <td>2</td>\n",
       "    </tr>\n",
       "    <tr>\n",
       "      <th>119</th>\n",
       "      <td>0.056024</td>\n",
       "      <td>(yogurt, whole milk)</td>\n",
       "      <td>2</td>\n",
       "    </tr>\n",
       "  </tbody>\n",
       "</table>\n",
       "</div>"
      ],
      "text/plain": [
       "      support                        itemsets  length\n",
       "91   0.074835  (other vegetables, whole milk)       2\n",
       "103  0.056634        (rolls/buns, whole milk)       2\n",
       "119  0.056024            (yogurt, whole milk)       2"
      ]
     },
     "execution_count": 14,
     "metadata": {},
     "output_type": "execute_result"
    }
   ],
   "source": [
    "# finding itemsets having length more than 1 and minimum support of 5%\n",
    "frequent_itemsets[(frequent_itemsets['length'] > 1) & \n",
    "                  (frequent_itemsets['support'] >= 0.05)]"
   ]
  },
  {
   "cell_type": "markdown",
   "id": "f55a28df",
   "metadata": {
    "id": "bo_rG1J0mlFX",
    "papermill": {
     "duration": 0.029495,
     "end_time": "2022-01-12T08:23:32.679867",
     "exception": false,
     "start_time": "2022-01-12T08:23:32.650372",
     "status": "completed"
    },
    "tags": []
   },
   "source": [
    "As we can see, there are only 3 itemsets - other vegetables and whole milk, rolls/buns and whole milk, and yogurt and whole milk each of length 2 and having support of 7%, 5.66% and 5.60% respectively."
   ]
  },
  {
   "cell_type": "markdown",
   "id": "4e50a1b9",
   "metadata": {
    "id": "YLSQ4RO1nC8H",
    "papermill": {
     "duration": 0.02987,
     "end_time": "2022-01-12T08:23:32.739604",
     "exception": false,
     "start_time": "2022-01-12T08:23:32.709734",
     "status": "completed"
    },
    "tags": []
   },
   "source": [
    "#### **Q6.**  Find all frequent itemsets of length 2 with minimum support of 2%."
   ]
  },
  {
   "cell_type": "markdown",
   "id": "8f56b331",
   "metadata": {
    "id": "OBX_8MEjnJn2",
    "papermill": {
     "duration": 0.02936,
     "end_time": "2022-01-12T08:23:32.798576",
     "exception": false,
     "start_time": "2022-01-12T08:23:32.769216",
     "status": "completed"
    },
    "tags": []
   },
   "source": [
    "To solve Question 6, we filter the dataframe to find itemsets having length 2 and minimum support of 2%."
   ]
  },
  {
   "cell_type": "code",
   "execution_count": 15,
   "id": "f3d76e1f",
   "metadata": {
    "execution": {
     "iopub.execute_input": "2022-01-12T08:23:32.862997Z",
     "iopub.status.busy": "2022-01-12T08:23:32.862067Z",
     "iopub.status.idle": "2022-01-12T08:23:32.878363Z",
     "shell.execute_reply": "2022-01-12T08:23:32.878879Z"
    },
    "id": "fdcc06e9",
    "outputId": "590de7e5-4fd4-4e10-d91c-f82a674f73b0",
    "papermill": {
     "duration": 0.05073,
     "end_time": "2022-01-12T08:23:32.879080",
     "exception": false,
     "start_time": "2022-01-12T08:23:32.828350",
     "status": "completed"
    },
    "tags": []
   },
   "outputs": [
    {
     "data": {
      "text/html": [
       "<div>\n",
       "<style scoped>\n",
       "    .dataframe tbody tr th:only-of-type {\n",
       "        vertical-align: middle;\n",
       "    }\n",
       "\n",
       "    .dataframe tbody tr th {\n",
       "        vertical-align: top;\n",
       "    }\n",
       "\n",
       "    .dataframe thead th {\n",
       "        text-align: right;\n",
       "    }\n",
       "</style>\n",
       "<table border=\"1\" class=\"dataframe\">\n",
       "  <thead>\n",
       "    <tr style=\"text-align: right;\">\n",
       "      <th></th>\n",
       "      <th>support</th>\n",
       "      <th>itemsets</th>\n",
       "      <th>length</th>\n",
       "    </tr>\n",
       "  </thead>\n",
       "  <tbody>\n",
       "    <tr>\n",
       "      <th>91</th>\n",
       "      <td>0.074835</td>\n",
       "      <td>(other vegetables, whole milk)</td>\n",
       "      <td>2</td>\n",
       "    </tr>\n",
       "    <tr>\n",
       "      <th>103</th>\n",
       "      <td>0.056634</td>\n",
       "      <td>(rolls/buns, whole milk)</td>\n",
       "      <td>2</td>\n",
       "    </tr>\n",
       "    <tr>\n",
       "      <th>119</th>\n",
       "      <td>0.056024</td>\n",
       "      <td>(yogurt, whole milk)</td>\n",
       "      <td>2</td>\n",
       "    </tr>\n",
       "    <tr>\n",
       "      <th>106</th>\n",
       "      <td>0.048907</td>\n",
       "      <td>(root vegetables, whole milk)</td>\n",
       "      <td>2</td>\n",
       "    </tr>\n",
       "    <tr>\n",
       "      <th>85</th>\n",
       "      <td>0.047382</td>\n",
       "      <td>(root vegetables, other vegetables)</td>\n",
       "      <td>2</td>\n",
       "    </tr>\n",
       "    <tr>\n",
       "      <th>...</th>\n",
       "      <td>...</td>\n",
       "      <td>...</td>\n",
       "      <td>...</td>\n",
       "    </tr>\n",
       "    <tr>\n",
       "      <th>75</th>\n",
       "      <td>0.020539</td>\n",
       "      <td>(frankfurter, whole milk)</td>\n",
       "      <td>2</td>\n",
       "    </tr>\n",
       "    <tr>\n",
       "      <th>60</th>\n",
       "      <td>0.020437</td>\n",
       "      <td>(whole milk, bottled beer)</td>\n",
       "      <td>2</td>\n",
       "    </tr>\n",
       "    <tr>\n",
       "      <th>76</th>\n",
       "      <td>0.020437</td>\n",
       "      <td>(frozen vegetables, whole milk)</td>\n",
       "      <td>2</td>\n",
       "    </tr>\n",
       "    <tr>\n",
       "      <th>96</th>\n",
       "      <td>0.020437</td>\n",
       "      <td>(tropical fruit, pip fruit)</td>\n",
       "      <td>2</td>\n",
       "    </tr>\n",
       "    <tr>\n",
       "      <th>67</th>\n",
       "      <td>0.020031</td>\n",
       "      <td>(butter, other vegetables)</td>\n",
       "      <td>2</td>\n",
       "    </tr>\n",
       "  </tbody>\n",
       "</table>\n",
       "<p>61 rows × 3 columns</p>\n",
       "</div>"
      ],
      "text/plain": [
       "      support                             itemsets  length\n",
       "91   0.074835       (other vegetables, whole milk)       2\n",
       "103  0.056634             (rolls/buns, whole milk)       2\n",
       "119  0.056024                 (yogurt, whole milk)       2\n",
       "106  0.048907        (root vegetables, whole milk)       2\n",
       "85   0.047382  (root vegetables, other vegetables)       2\n",
       "..        ...                                  ...     ...\n",
       "75   0.020539            (frankfurter, whole milk)       2\n",
       "60   0.020437           (whole milk, bottled beer)       2\n",
       "76   0.020437      (frozen vegetables, whole milk)       2\n",
       "96   0.020437          (tropical fruit, pip fruit)       2\n",
       "67   0.020031           (butter, other vegetables)       2\n",
       "\n",
       "[61 rows x 3 columns]"
      ]
     },
     "execution_count": 15,
     "metadata": {},
     "output_type": "execute_result"
    }
   ],
   "source": [
    "# finding itemsets having length 2 and minimum support of 2%\n",
    "frequent_itemsets[(frequent_itemsets['length'] == 2) & \n",
    "                  (frequent_itemsets['support'] >= 0.02)]"
   ]
  },
  {
   "cell_type": "markdown",
   "id": "28e0bd6d",
   "metadata": {
    "id": "M39MY1kcnrYV",
    "papermill": {
     "duration": 0.030132,
     "end_time": "2022-01-12T08:23:32.940108",
     "exception": false,
     "start_time": "2022-01-12T08:23:32.909976",
     "status": "completed"
    },
    "tags": []
   },
   "source": [
    "As we can see, there are 61 itemsets having length 2 with support more than or equal to 2%. The support ranges between 7% and 2% with other vegetables and whole milk having the highest support, and butter and other vegetables having the minimum support."
   ]
  },
  {
   "cell_type": "markdown",
   "id": "61f7c7a2",
   "metadata": {
    "id": "Ot-IhhhCoQro",
    "papermill": {
     "duration": 0.029994,
     "end_time": "2022-01-12T08:23:33.000518",
     "exception": false,
     "start_time": "2022-01-12T08:23:32.970524",
     "status": "completed"
    },
    "tags": []
   },
   "source": [
    "#### **Q7.** Find the top 10 association rules with minimum support of 2%, sorted by confidence in descending order.\n"
   ]
  },
  {
   "cell_type": "markdown",
   "id": "ef7cd7a2",
   "metadata": {
    "id": "AP82Glvbojbq",
    "papermill": {
     "duration": 0.030397,
     "end_time": "2022-01-12T08:23:33.061295",
     "exception": false,
     "start_time": "2022-01-12T08:23:33.030898",
     "status": "completed"
    },
    "tags": []
   },
   "source": [
    "To solve Question 7, we first find the association rules using the association_rules() function from the MLXtend library and set the parameter metric to support, and the min_threshold to 2%."
   ]
  },
  {
   "cell_type": "code",
   "execution_count": 16,
   "id": "5bc31a43",
   "metadata": {
    "execution": {
     "iopub.execute_input": "2022-01-12T08:23:33.127463Z",
     "iopub.status.busy": "2022-01-12T08:23:33.126504Z",
     "iopub.status.idle": "2022-01-12T08:23:33.156572Z",
     "shell.execute_reply": "2022-01-12T08:23:33.155879Z"
    },
    "id": "3f93ed48",
    "outputId": "e51a2673-eaf6-4dc4-8362-e6b78ba2af8f",
    "papermill": {
     "duration": 0.064,
     "end_time": "2022-01-12T08:23:33.156720",
     "exception": false,
     "start_time": "2022-01-12T08:23:33.092720",
     "status": "completed"
    },
    "tags": []
   },
   "outputs": [
    {
     "data": {
      "text/html": [
       "<div>\n",
       "<style scoped>\n",
       "    .dataframe tbody tr th:only-of-type {\n",
       "        vertical-align: middle;\n",
       "    }\n",
       "\n",
       "    .dataframe tbody tr th {\n",
       "        vertical-align: top;\n",
       "    }\n",
       "\n",
       "    .dataframe thead th {\n",
       "        text-align: right;\n",
       "    }\n",
       "</style>\n",
       "<table border=\"1\" class=\"dataframe\">\n",
       "  <thead>\n",
       "    <tr style=\"text-align: right;\">\n",
       "      <th></th>\n",
       "      <th>antecedents</th>\n",
       "      <th>consequents</th>\n",
       "      <th>antecedent support</th>\n",
       "      <th>consequent support</th>\n",
       "      <th>support</th>\n",
       "      <th>confidence</th>\n",
       "      <th>lift</th>\n",
       "      <th>leverage</th>\n",
       "      <th>conviction</th>\n",
       "    </tr>\n",
       "  </thead>\n",
       "  <tbody>\n",
       "    <tr>\n",
       "      <th>0</th>\n",
       "      <td>(other vegetables)</td>\n",
       "      <td>(whole milk)</td>\n",
       "      <td>0.193493</td>\n",
       "      <td>0.255516</td>\n",
       "      <td>0.074835</td>\n",
       "      <td>0.386758</td>\n",
       "      <td>1.513634</td>\n",
       "      <td>0.025394</td>\n",
       "      <td>1.214013</td>\n",
       "    </tr>\n",
       "    <tr>\n",
       "      <th>1</th>\n",
       "      <td>(whole milk)</td>\n",
       "      <td>(other vegetables)</td>\n",
       "      <td>0.255516</td>\n",
       "      <td>0.193493</td>\n",
       "      <td>0.074835</td>\n",
       "      <td>0.292877</td>\n",
       "      <td>1.513634</td>\n",
       "      <td>0.025394</td>\n",
       "      <td>1.140548</td>\n",
       "    </tr>\n",
       "    <tr>\n",
       "      <th>2</th>\n",
       "      <td>(rolls/buns)</td>\n",
       "      <td>(whole milk)</td>\n",
       "      <td>0.183935</td>\n",
       "      <td>0.255516</td>\n",
       "      <td>0.056634</td>\n",
       "      <td>0.307905</td>\n",
       "      <td>1.205032</td>\n",
       "      <td>0.009636</td>\n",
       "      <td>1.075696</td>\n",
       "    </tr>\n",
       "    <tr>\n",
       "      <th>3</th>\n",
       "      <td>(whole milk)</td>\n",
       "      <td>(rolls/buns)</td>\n",
       "      <td>0.255516</td>\n",
       "      <td>0.183935</td>\n",
       "      <td>0.056634</td>\n",
       "      <td>0.221647</td>\n",
       "      <td>1.205032</td>\n",
       "      <td>0.009636</td>\n",
       "      <td>1.048452</td>\n",
       "    </tr>\n",
       "    <tr>\n",
       "      <th>4</th>\n",
       "      <td>(yogurt)</td>\n",
       "      <td>(whole milk)</td>\n",
       "      <td>0.139502</td>\n",
       "      <td>0.255516</td>\n",
       "      <td>0.056024</td>\n",
       "      <td>0.401603</td>\n",
       "      <td>1.571735</td>\n",
       "      <td>0.020379</td>\n",
       "      <td>1.244132</td>\n",
       "    </tr>\n",
       "    <tr>\n",
       "      <th>...</th>\n",
       "      <td>...</td>\n",
       "      <td>...</td>\n",
       "      <td>...</td>\n",
       "      <td>...</td>\n",
       "      <td>...</td>\n",
       "      <td>...</td>\n",
       "      <td>...</td>\n",
       "      <td>...</td>\n",
       "      <td>...</td>\n",
       "    </tr>\n",
       "    <tr>\n",
       "      <th>129</th>\n",
       "      <td>(whole milk)</td>\n",
       "      <td>(frozen vegetables)</td>\n",
       "      <td>0.255516</td>\n",
       "      <td>0.048094</td>\n",
       "      <td>0.020437</td>\n",
       "      <td>0.079984</td>\n",
       "      <td>1.663094</td>\n",
       "      <td>0.008149</td>\n",
       "      <td>1.034663</td>\n",
       "    </tr>\n",
       "    <tr>\n",
       "      <th>130</th>\n",
       "      <td>(tropical fruit)</td>\n",
       "      <td>(pip fruit)</td>\n",
       "      <td>0.104931</td>\n",
       "      <td>0.075648</td>\n",
       "      <td>0.020437</td>\n",
       "      <td>0.194767</td>\n",
       "      <td>2.574648</td>\n",
       "      <td>0.012499</td>\n",
       "      <td>1.147931</td>\n",
       "    </tr>\n",
       "    <tr>\n",
       "      <th>131</th>\n",
       "      <td>(pip fruit)</td>\n",
       "      <td>(tropical fruit)</td>\n",
       "      <td>0.075648</td>\n",
       "      <td>0.104931</td>\n",
       "      <td>0.020437</td>\n",
       "      <td>0.270161</td>\n",
       "      <td>2.574648</td>\n",
       "      <td>0.012499</td>\n",
       "      <td>1.226392</td>\n",
       "    </tr>\n",
       "    <tr>\n",
       "      <th>132</th>\n",
       "      <td>(butter)</td>\n",
       "      <td>(other vegetables)</td>\n",
       "      <td>0.055414</td>\n",
       "      <td>0.193493</td>\n",
       "      <td>0.020031</td>\n",
       "      <td>0.361468</td>\n",
       "      <td>1.868122</td>\n",
       "      <td>0.009308</td>\n",
       "      <td>1.263065</td>\n",
       "    </tr>\n",
       "    <tr>\n",
       "      <th>133</th>\n",
       "      <td>(other vegetables)</td>\n",
       "      <td>(butter)</td>\n",
       "      <td>0.193493</td>\n",
       "      <td>0.055414</td>\n",
       "      <td>0.020031</td>\n",
       "      <td>0.103521</td>\n",
       "      <td>1.868122</td>\n",
       "      <td>0.009308</td>\n",
       "      <td>1.053661</td>\n",
       "    </tr>\n",
       "  </tbody>\n",
       "</table>\n",
       "<p>134 rows × 9 columns</p>\n",
       "</div>"
      ],
      "text/plain": [
       "            antecedents          consequents  antecedent support  \\\n",
       "0    (other vegetables)         (whole milk)            0.193493   \n",
       "1          (whole milk)   (other vegetables)            0.255516   \n",
       "2          (rolls/buns)         (whole milk)            0.183935   \n",
       "3          (whole milk)         (rolls/buns)            0.255516   \n",
       "4              (yogurt)         (whole milk)            0.139502   \n",
       "..                  ...                  ...                 ...   \n",
       "129        (whole milk)  (frozen vegetables)            0.255516   \n",
       "130    (tropical fruit)          (pip fruit)            0.104931   \n",
       "131         (pip fruit)     (tropical fruit)            0.075648   \n",
       "132            (butter)   (other vegetables)            0.055414   \n",
       "133  (other vegetables)             (butter)            0.193493   \n",
       "\n",
       "     consequent support   support  confidence      lift  leverage  conviction  \n",
       "0              0.255516  0.074835    0.386758  1.513634  0.025394    1.214013  \n",
       "1              0.193493  0.074835    0.292877  1.513634  0.025394    1.140548  \n",
       "2              0.255516  0.056634    0.307905  1.205032  0.009636    1.075696  \n",
       "3              0.183935  0.056634    0.221647  1.205032  0.009636    1.048452  \n",
       "4              0.255516  0.056024    0.401603  1.571735  0.020379    1.244132  \n",
       "..                  ...       ...         ...       ...       ...         ...  \n",
       "129            0.048094  0.020437    0.079984  1.663094  0.008149    1.034663  \n",
       "130            0.075648  0.020437    0.194767  2.574648  0.012499    1.147931  \n",
       "131            0.104931  0.020437    0.270161  2.574648  0.012499    1.226392  \n",
       "132            0.193493  0.020031    0.361468  1.868122  0.009308    1.263065  \n",
       "133            0.055414  0.020031    0.103521  1.868122  0.009308    1.053661  \n",
       "\n",
       "[134 rows x 9 columns]"
      ]
     },
     "execution_count": 16,
     "metadata": {},
     "output_type": "execute_result"
    }
   ],
   "source": [
    "# finding top 10 association rules with minimum support of 2%\n",
    "rules = association_rules(frequent_itemsets, metric='support', min_threshold=0.02)\n",
    "rules"
   ]
  },
  {
   "cell_type": "markdown",
   "id": "ceefd1af",
   "metadata": {
    "id": "L9Or_027oyRE",
    "papermill": {
     "duration": 0.031032,
     "end_time": "2022-01-12T08:23:33.218952",
     "exception": false,
     "start_time": "2022-01-12T08:23:33.187920",
     "status": "completed"
    },
    "tags": []
   },
   "source": [
    "Then we sort the generated association rules in the descending order by confidence by using the sort_values() function from the Pandas library and setting the by and ascending parameters to confidence and False respectively. Then we splice the sorted dataframe to show the top 10 rules."
   ]
  },
  {
   "cell_type": "code",
   "execution_count": 17,
   "id": "53d168d2",
   "metadata": {
    "execution": {
     "iopub.execute_input": "2022-01-12T08:23:33.295404Z",
     "iopub.status.busy": "2022-01-12T08:23:33.285957Z",
     "iopub.status.idle": "2022-01-12T08:23:33.308852Z",
     "shell.execute_reply": "2022-01-12T08:23:33.308295Z"
    },
    "id": "0c871ba3",
    "outputId": "0b9fd56f-ff01-4a94-d515-2758939d0b88",
    "papermill": {
     "duration": 0.058891,
     "end_time": "2022-01-12T08:23:33.308986",
     "exception": false,
     "start_time": "2022-01-12T08:23:33.250095",
     "status": "completed"
    },
    "tags": []
   },
   "outputs": [
    {
     "data": {
      "text/html": [
       "<div>\n",
       "<style scoped>\n",
       "    .dataframe tbody tr th:only-of-type {\n",
       "        vertical-align: middle;\n",
       "    }\n",
       "\n",
       "    .dataframe tbody tr th {\n",
       "        vertical-align: top;\n",
       "    }\n",
       "\n",
       "    .dataframe thead th {\n",
       "        text-align: right;\n",
       "    }\n",
       "</style>\n",
       "<table border=\"1\" class=\"dataframe\">\n",
       "  <thead>\n",
       "    <tr style=\"text-align: right;\">\n",
       "      <th></th>\n",
       "      <th>antecedents</th>\n",
       "      <th>consequents</th>\n",
       "      <th>antecedent support</th>\n",
       "      <th>consequent support</th>\n",
       "      <th>support</th>\n",
       "      <th>confidence</th>\n",
       "      <th>lift</th>\n",
       "      <th>leverage</th>\n",
       "      <th>conviction</th>\n",
       "    </tr>\n",
       "  </thead>\n",
       "  <tbody>\n",
       "    <tr>\n",
       "      <th>96</th>\n",
       "      <td>(yogurt, other vegetables)</td>\n",
       "      <td>(whole milk)</td>\n",
       "      <td>0.043416</td>\n",
       "      <td>0.255516</td>\n",
       "      <td>0.022267</td>\n",
       "      <td>0.512881</td>\n",
       "      <td>2.007235</td>\n",
       "      <td>0.011174</td>\n",
       "      <td>1.528340</td>\n",
       "    </tr>\n",
       "    <tr>\n",
       "      <th>50</th>\n",
       "      <td>(butter)</td>\n",
       "      <td>(whole milk)</td>\n",
       "      <td>0.055414</td>\n",
       "      <td>0.255516</td>\n",
       "      <td>0.027555</td>\n",
       "      <td>0.497248</td>\n",
       "      <td>1.946053</td>\n",
       "      <td>0.013395</td>\n",
       "      <td>1.480817</td>\n",
       "    </tr>\n",
       "    <tr>\n",
       "      <th>60</th>\n",
       "      <td>(curd)</td>\n",
       "      <td>(whole milk)</td>\n",
       "      <td>0.053279</td>\n",
       "      <td>0.255516</td>\n",
       "      <td>0.026131</td>\n",
       "      <td>0.490458</td>\n",
       "      <td>1.919481</td>\n",
       "      <td>0.012517</td>\n",
       "      <td>1.461085</td>\n",
       "    </tr>\n",
       "    <tr>\n",
       "      <th>86</th>\n",
       "      <td>(root vegetables, other vegetables)</td>\n",
       "      <td>(whole milk)</td>\n",
       "      <td>0.047382</td>\n",
       "      <td>0.255516</td>\n",
       "      <td>0.023183</td>\n",
       "      <td>0.489270</td>\n",
       "      <td>1.914833</td>\n",
       "      <td>0.011076</td>\n",
       "      <td>1.457687</td>\n",
       "    </tr>\n",
       "    <tr>\n",
       "      <th>87</th>\n",
       "      <td>(root vegetables, whole milk)</td>\n",
       "      <td>(other vegetables)</td>\n",
       "      <td>0.048907</td>\n",
       "      <td>0.193493</td>\n",
       "      <td>0.023183</td>\n",
       "      <td>0.474012</td>\n",
       "      <td>2.449770</td>\n",
       "      <td>0.013719</td>\n",
       "      <td>1.533320</td>\n",
       "    </tr>\n",
       "    <tr>\n",
       "      <th>38</th>\n",
       "      <td>(domestic eggs)</td>\n",
       "      <td>(whole milk)</td>\n",
       "      <td>0.063447</td>\n",
       "      <td>0.255516</td>\n",
       "      <td>0.029995</td>\n",
       "      <td>0.472756</td>\n",
       "      <td>1.850203</td>\n",
       "      <td>0.013783</td>\n",
       "      <td>1.412030</td>\n",
       "    </tr>\n",
       "    <tr>\n",
       "      <th>30</th>\n",
       "      <td>(whipped/sour cream)</td>\n",
       "      <td>(whole milk)</td>\n",
       "      <td>0.071683</td>\n",
       "      <td>0.255516</td>\n",
       "      <td>0.032232</td>\n",
       "      <td>0.449645</td>\n",
       "      <td>1.759754</td>\n",
       "      <td>0.013916</td>\n",
       "      <td>1.352735</td>\n",
       "    </tr>\n",
       "    <tr>\n",
       "      <th>6</th>\n",
       "      <td>(root vegetables)</td>\n",
       "      <td>(whole milk)</td>\n",
       "      <td>0.108998</td>\n",
       "      <td>0.255516</td>\n",
       "      <td>0.048907</td>\n",
       "      <td>0.448694</td>\n",
       "      <td>1.756031</td>\n",
       "      <td>0.021056</td>\n",
       "      <td>1.350401</td>\n",
       "    </tr>\n",
       "    <tr>\n",
       "      <th>8</th>\n",
       "      <td>(root vegetables)</td>\n",
       "      <td>(other vegetables)</td>\n",
       "      <td>0.108998</td>\n",
       "      <td>0.193493</td>\n",
       "      <td>0.047382</td>\n",
       "      <td>0.434701</td>\n",
       "      <td>2.246605</td>\n",
       "      <td>0.026291</td>\n",
       "      <td>1.426693</td>\n",
       "    </tr>\n",
       "    <tr>\n",
       "      <th>128</th>\n",
       "      <td>(frozen vegetables)</td>\n",
       "      <td>(whole milk)</td>\n",
       "      <td>0.048094</td>\n",
       "      <td>0.255516</td>\n",
       "      <td>0.020437</td>\n",
       "      <td>0.424947</td>\n",
       "      <td>1.663094</td>\n",
       "      <td>0.008149</td>\n",
       "      <td>1.294636</td>\n",
       "    </tr>\n",
       "  </tbody>\n",
       "</table>\n",
       "</div>"
      ],
      "text/plain": [
       "                             antecedents         consequents  \\\n",
       "96            (yogurt, other vegetables)        (whole milk)   \n",
       "50                              (butter)        (whole milk)   \n",
       "60                                (curd)        (whole milk)   \n",
       "86   (root vegetables, other vegetables)        (whole milk)   \n",
       "87         (root vegetables, whole milk)  (other vegetables)   \n",
       "38                       (domestic eggs)        (whole milk)   \n",
       "30                  (whipped/sour cream)        (whole milk)   \n",
       "6                      (root vegetables)        (whole milk)   \n",
       "8                      (root vegetables)  (other vegetables)   \n",
       "128                  (frozen vegetables)        (whole milk)   \n",
       "\n",
       "     antecedent support  consequent support   support  confidence      lift  \\\n",
       "96             0.043416            0.255516  0.022267    0.512881  2.007235   \n",
       "50             0.055414            0.255516  0.027555    0.497248  1.946053   \n",
       "60             0.053279            0.255516  0.026131    0.490458  1.919481   \n",
       "86             0.047382            0.255516  0.023183    0.489270  1.914833   \n",
       "87             0.048907            0.193493  0.023183    0.474012  2.449770   \n",
       "38             0.063447            0.255516  0.029995    0.472756  1.850203   \n",
       "30             0.071683            0.255516  0.032232    0.449645  1.759754   \n",
       "6              0.108998            0.255516  0.048907    0.448694  1.756031   \n",
       "8              0.108998            0.193493  0.047382    0.434701  2.246605   \n",
       "128            0.048094            0.255516  0.020437    0.424947  1.663094   \n",
       "\n",
       "     leverage  conviction  \n",
       "96   0.011174    1.528340  \n",
       "50   0.013395    1.480817  \n",
       "60   0.012517    1.461085  \n",
       "86   0.011076    1.457687  \n",
       "87   0.013719    1.533320  \n",
       "38   0.013783    1.412030  \n",
       "30   0.013916    1.352735  \n",
       "6    0.021056    1.350401  \n",
       "8    0.026291    1.426693  \n",
       "128  0.008149    1.294636  "
      ]
     },
     "execution_count": 17,
     "metadata": {},
     "output_type": "execute_result"
    }
   ],
   "source": [
    "# sorting the rules in the descending order by confidence\n",
    "rules.sort_values(by='confidence', ascending=False)[0:10]"
   ]
  },
  {
   "cell_type": "markdown",
   "id": "88e3f39d",
   "metadata": {
    "id": "t5cDegVbpNIb",
    "papermill": {
     "duration": 0.032042,
     "end_time": "2022-01-12T08:23:33.373095",
     "exception": false,
     "start_time": "2022-01-12T08:23:33.341053",
     "status": "completed"
    },
    "tags": []
   },
   "source": [
    "As we can see, the top association rule is that if a customer buys other vegetables and yogurt, they also by whole milk, with a support of 2%, confidence of 51% and lift value of 2 indicating a positive correlation (if the sales of other vegetables and yogurt goes up, the sales of whole milk also goes up and vice versa). Similarly, we can read and interpret the other rules."
   ]
  },
  {
   "cell_type": "markdown",
   "id": "2f1935c6",
   "metadata": {
    "id": "rd1umcrBqD9n",
    "papermill": {
     "duration": 0.031765,
     "end_time": "2022-01-12T08:23:33.437102",
     "exception": false,
     "start_time": "2022-01-12T08:23:33.405337",
     "status": "completed"
    },
    "tags": []
   },
   "source": [
    "#### **Q8.** Find association rules with minimum support of 2% and lift of more than 1.0.\n"
   ]
  },
  {
   "cell_type": "markdown",
   "id": "8ca64d0f",
   "metadata": {
    "id": "3mu02XqmqJCb",
    "papermill": {
     "duration": 0.031817,
     "end_time": "2022-01-12T08:23:33.500974",
     "exception": false,
     "start_time": "2022-01-12T08:23:33.469157",
     "status": "completed"
    },
    "tags": []
   },
   "source": [
    "To solve Question 8, we filter the dataframe to have lift more than 1."
   ]
  },
  {
   "cell_type": "code",
   "execution_count": 18,
   "id": "f00e5457",
   "metadata": {
    "execution": {
     "iopub.execute_input": "2022-01-12T08:23:33.570728Z",
     "iopub.status.busy": "2022-01-12T08:23:33.569765Z",
     "iopub.status.idle": "2022-01-12T08:23:33.596415Z",
     "shell.execute_reply": "2022-01-12T08:23:33.596969Z"
    },
    "id": "eeff6ece",
    "outputId": "a5ce33e5-30f8-4b26-8ce2-457ba42dcd97",
    "papermill": {
     "duration": 0.062813,
     "end_time": "2022-01-12T08:23:33.597159",
     "exception": false,
     "start_time": "2022-01-12T08:23:33.534346",
     "status": "completed"
    },
    "tags": []
   },
   "outputs": [
    {
     "data": {
      "text/html": [
       "<div>\n",
       "<style scoped>\n",
       "    .dataframe tbody tr th:only-of-type {\n",
       "        vertical-align: middle;\n",
       "    }\n",
       "\n",
       "    .dataframe tbody tr th {\n",
       "        vertical-align: top;\n",
       "    }\n",
       "\n",
       "    .dataframe thead th {\n",
       "        text-align: right;\n",
       "    }\n",
       "</style>\n",
       "<table border=\"1\" class=\"dataframe\">\n",
       "  <thead>\n",
       "    <tr style=\"text-align: right;\">\n",
       "      <th></th>\n",
       "      <th>antecedents</th>\n",
       "      <th>consequents</th>\n",
       "      <th>antecedent support</th>\n",
       "      <th>consequent support</th>\n",
       "      <th>support</th>\n",
       "      <th>confidence</th>\n",
       "      <th>lift</th>\n",
       "      <th>leverage</th>\n",
       "      <th>conviction</th>\n",
       "    </tr>\n",
       "  </thead>\n",
       "  <tbody>\n",
       "    <tr>\n",
       "      <th>0</th>\n",
       "      <td>(other vegetables)</td>\n",
       "      <td>(whole milk)</td>\n",
       "      <td>0.193493</td>\n",
       "      <td>0.255516</td>\n",
       "      <td>0.074835</td>\n",
       "      <td>0.386758</td>\n",
       "      <td>1.513634</td>\n",
       "      <td>0.025394</td>\n",
       "      <td>1.214013</td>\n",
       "    </tr>\n",
       "    <tr>\n",
       "      <th>1</th>\n",
       "      <td>(whole milk)</td>\n",
       "      <td>(other vegetables)</td>\n",
       "      <td>0.255516</td>\n",
       "      <td>0.193493</td>\n",
       "      <td>0.074835</td>\n",
       "      <td>0.292877</td>\n",
       "      <td>1.513634</td>\n",
       "      <td>0.025394</td>\n",
       "      <td>1.140548</td>\n",
       "    </tr>\n",
       "    <tr>\n",
       "      <th>2</th>\n",
       "      <td>(rolls/buns)</td>\n",
       "      <td>(whole milk)</td>\n",
       "      <td>0.183935</td>\n",
       "      <td>0.255516</td>\n",
       "      <td>0.056634</td>\n",
       "      <td>0.307905</td>\n",
       "      <td>1.205032</td>\n",
       "      <td>0.009636</td>\n",
       "      <td>1.075696</td>\n",
       "    </tr>\n",
       "    <tr>\n",
       "      <th>3</th>\n",
       "      <td>(whole milk)</td>\n",
       "      <td>(rolls/buns)</td>\n",
       "      <td>0.255516</td>\n",
       "      <td>0.183935</td>\n",
       "      <td>0.056634</td>\n",
       "      <td>0.221647</td>\n",
       "      <td>1.205032</td>\n",
       "      <td>0.009636</td>\n",
       "      <td>1.048452</td>\n",
       "    </tr>\n",
       "    <tr>\n",
       "      <th>4</th>\n",
       "      <td>(yogurt)</td>\n",
       "      <td>(whole milk)</td>\n",
       "      <td>0.139502</td>\n",
       "      <td>0.255516</td>\n",
       "      <td>0.056024</td>\n",
       "      <td>0.401603</td>\n",
       "      <td>1.571735</td>\n",
       "      <td>0.020379</td>\n",
       "      <td>1.244132</td>\n",
       "    </tr>\n",
       "    <tr>\n",
       "      <th>...</th>\n",
       "      <td>...</td>\n",
       "      <td>...</td>\n",
       "      <td>...</td>\n",
       "      <td>...</td>\n",
       "      <td>...</td>\n",
       "      <td>...</td>\n",
       "      <td>...</td>\n",
       "      <td>...</td>\n",
       "      <td>...</td>\n",
       "    </tr>\n",
       "    <tr>\n",
       "      <th>129</th>\n",
       "      <td>(whole milk)</td>\n",
       "      <td>(frozen vegetables)</td>\n",
       "      <td>0.255516</td>\n",
       "      <td>0.048094</td>\n",
       "      <td>0.020437</td>\n",
       "      <td>0.079984</td>\n",
       "      <td>1.663094</td>\n",
       "      <td>0.008149</td>\n",
       "      <td>1.034663</td>\n",
       "    </tr>\n",
       "    <tr>\n",
       "      <th>130</th>\n",
       "      <td>(tropical fruit)</td>\n",
       "      <td>(pip fruit)</td>\n",
       "      <td>0.104931</td>\n",
       "      <td>0.075648</td>\n",
       "      <td>0.020437</td>\n",
       "      <td>0.194767</td>\n",
       "      <td>2.574648</td>\n",
       "      <td>0.012499</td>\n",
       "      <td>1.147931</td>\n",
       "    </tr>\n",
       "    <tr>\n",
       "      <th>131</th>\n",
       "      <td>(pip fruit)</td>\n",
       "      <td>(tropical fruit)</td>\n",
       "      <td>0.075648</td>\n",
       "      <td>0.104931</td>\n",
       "      <td>0.020437</td>\n",
       "      <td>0.270161</td>\n",
       "      <td>2.574648</td>\n",
       "      <td>0.012499</td>\n",
       "      <td>1.226392</td>\n",
       "    </tr>\n",
       "    <tr>\n",
       "      <th>132</th>\n",
       "      <td>(butter)</td>\n",
       "      <td>(other vegetables)</td>\n",
       "      <td>0.055414</td>\n",
       "      <td>0.193493</td>\n",
       "      <td>0.020031</td>\n",
       "      <td>0.361468</td>\n",
       "      <td>1.868122</td>\n",
       "      <td>0.009308</td>\n",
       "      <td>1.263065</td>\n",
       "    </tr>\n",
       "    <tr>\n",
       "      <th>133</th>\n",
       "      <td>(other vegetables)</td>\n",
       "      <td>(butter)</td>\n",
       "      <td>0.193493</td>\n",
       "      <td>0.055414</td>\n",
       "      <td>0.020031</td>\n",
       "      <td>0.103521</td>\n",
       "      <td>1.868122</td>\n",
       "      <td>0.009308</td>\n",
       "      <td>1.053661</td>\n",
       "    </tr>\n",
       "  </tbody>\n",
       "</table>\n",
       "<p>126 rows × 9 columns</p>\n",
       "</div>"
      ],
      "text/plain": [
       "            antecedents          consequents  antecedent support  \\\n",
       "0    (other vegetables)         (whole milk)            0.193493   \n",
       "1          (whole milk)   (other vegetables)            0.255516   \n",
       "2          (rolls/buns)         (whole milk)            0.183935   \n",
       "3          (whole milk)         (rolls/buns)            0.255516   \n",
       "4              (yogurt)         (whole milk)            0.139502   \n",
       "..                  ...                  ...                 ...   \n",
       "129        (whole milk)  (frozen vegetables)            0.255516   \n",
       "130    (tropical fruit)          (pip fruit)            0.104931   \n",
       "131         (pip fruit)     (tropical fruit)            0.075648   \n",
       "132            (butter)   (other vegetables)            0.055414   \n",
       "133  (other vegetables)             (butter)            0.193493   \n",
       "\n",
       "     consequent support   support  confidence      lift  leverage  conviction  \n",
       "0              0.255516  0.074835    0.386758  1.513634  0.025394    1.214013  \n",
       "1              0.193493  0.074835    0.292877  1.513634  0.025394    1.140548  \n",
       "2              0.255516  0.056634    0.307905  1.205032  0.009636    1.075696  \n",
       "3              0.183935  0.056634    0.221647  1.205032  0.009636    1.048452  \n",
       "4              0.255516  0.056024    0.401603  1.571735  0.020379    1.244132  \n",
       "..                  ...       ...         ...       ...       ...         ...  \n",
       "129            0.048094  0.020437    0.079984  1.663094  0.008149    1.034663  \n",
       "130            0.075648  0.020437    0.194767  2.574648  0.012499    1.147931  \n",
       "131            0.104931  0.020437    0.270161  2.574648  0.012499    1.226392  \n",
       "132            0.193493  0.020031    0.361468  1.868122  0.009308    1.263065  \n",
       "133            0.055414  0.020031    0.103521  1.868122  0.009308    1.053661  \n",
       "\n",
       "[126 rows x 9 columns]"
      ]
     },
     "execution_count": 18,
     "metadata": {},
     "output_type": "execute_result"
    }
   ],
   "source": [
    "# finding association rules with minimum support of 2% and having lift more than 1\n",
    "rules[(rules['support'] >= 0.02) &\n",
    "      (rules['lift'] > 1.0)]"
   ]
  },
  {
   "cell_type": "markdown",
   "id": "62da1c88",
   "metadata": {
    "id": "1OKeo-cFp6-8",
    "papermill": {
     "duration": 0.032627,
     "end_time": "2022-01-12T08:23:33.662747",
     "exception": false,
     "start_time": "2022-01-12T08:23:33.630120",
     "status": "completed"
    },
    "tags": []
   },
   "source": [
    "As we can see, there are 126 rules having support of 2% or more and lift more than 1. All the items in these rules have a positive correlation with each other, indicating if the sales of one goes up, the sales of the other goes up as well and vice versa."
   ]
  }
 ],
 "metadata": {
  "kernelspec": {
   "display_name": "Python 3",
   "language": "python",
   "name": "python3"
  },
  "language_info": {
   "codemirror_mode": {
    "name": "ipython",
    "version": 3
   },
   "file_extension": ".py",
   "mimetype": "text/x-python",
   "name": "python",
   "nbconvert_exporter": "python",
   "pygments_lexer": "ipython3",
   "version": "3.7.12"
  },
  "papermill": {
   "default_parameters": {},
   "duration": 15.2426,
   "end_time": "2022-01-12T08:23:34.406181",
   "environment_variables": {},
   "exception": null,
   "input_path": "__notebook__.ipynb",
   "output_path": "__notebook__.ipynb",
   "parameters": {},
   "start_time": "2022-01-12T08:23:19.163581",
   "version": "2.3.3"
  }
 },
 "nbformat": 4,
 "nbformat_minor": 5
}
