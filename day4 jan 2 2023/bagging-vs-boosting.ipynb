{
 "cells": [
  {
   "cell_type": "markdown",
   "metadata": {},
   "source": [
    "<a class=\"anchor\" id=\"0\"></a>\n",
    "# **Bagging Vs Boosting** \n",
    "\n",
    "\n",
    "\n",
    "Hello friends,\n",
    "\n",
    "\n",
    "In this kernel, I will discuss **Bagging** and **Boosting**. These (**Bagging** and **Boosting**) are commonly used terms by data scientists all over the world. But what exactly these terms mean and how does it help the data scientists. In this kernel, we will learn about bagging and boosting and how they are used in practice.\n",
    "\n",
    "\n",
    "So, let's get started."
   ]
  },
  {
   "cell_type": "markdown",
   "metadata": {},
   "source": [
    "**If this kernel helped in your learning, then please <font color=\"red\"><b>UPVOTE</b></font>  – because they are the source of motivation!**"
   ]
  },
  {
   "cell_type": "markdown",
   "metadata": {},
   "source": [
    "<a class=\"anchor\" id=\"0.1\"></a>\n",
    "# **Notebook Contents**\n",
    "\n",
    "1. [Introduction to Ensemble Learning](#1)\n",
    "1. [Bootstrapping](#2)\n",
    "1. [Bagging](#3)\n",
    "1. [Boosting](#4)\n",
    "1. [Getting N learners for Bagging and Boosting](#5)\n",
    "1. [Weighted data elements](#6)\n",
    "1. [Classification stage in action](#7)\n",
    "1. [Select the best technique - Bagging or Boosting](#8)\n",
    "1. [Similarities between Bagging and Boosting](#9)\n",
    "1. [Differences between Bagging and Boosting](#10)\n",
    "1. [Summary and conclusion](#11)\n",
    "1. [References](#12)\n",
    "\n",
    "\n",
    "\n"
   ]
  },
  {
   "cell_type": "markdown",
   "metadata": {},
   "source": [
    "# **1. Introduction to Ensemble Learning** <a class=\"anchor\" id=\"1\"></a>\n",
    "\n",
    "[Back to Notebook Contents](#0.1)\n",
    "\n",
    "\n",
    "- **Bagging** and **boosting** are both ensemble learning methods in machine learning. \n",
    "\n",
    "\n",
    "- **Bagging** and **boosting** are similar in that they are both ensemble techniques, where a set of weak learners are combined to create a strong learner that obtains better performance than a single one.\n",
    "\n",
    "\n",
    "- Ensemble learning helps to improve machine learning model performance by combining several models. This approach allows the production of better predictive performance compared to a single model. \n",
    "\n",
    "\n",
    "- The basic idea behind ensemble learning is to learn a set of classifiers (experts) and to allow them to vote. This diversification in Machine Learning is achieved by a technique called **ensemble learning**. The idea here is to train multiple models, each with the objective to predict or classify a set of results.\n",
    "\n",
    "\n",
    "- **Bagging** and **boosting** are two types of ensemble learning techniques. These two decrease the variance of single estimate as they combine several estimates from different models. So the result may be a model with higher stability.\n",
    "\n",
    "\n",
    "- The main causes of error in learning are due to **noise, bias and variance**. Ensemble helps to minimize these factors. By using ensemble methods, we’re able to increase the stability of the final model and reduce the errors mentioned previously. \n",
    "\n",
    "\n",
    "  - **Bagging helps to decrease the model’s variance.**\n",
    "    \n",
    "    \n",
    "  - **Boosting helps to decrease the model’s bias.**\n",
    " \n",
    "    \n",
    "- These methods are designed to improve the stability and the accuracy of Machine Learning algorithms. Combinations of multiple classifiers decrease variance, especially in the case of unstable classifiers, and may produce a more reliable classification than a single classifier.\n",
    "\n",
    "\n",
    "- To use Bagging or Boosting you must select a base learner algorithm. For example, if we choose a classification tree, Bagging and Boosting would consist of a pool of trees as big as we want as shown in the following diagram:"
   ]
  },
  {
   "cell_type": "markdown",
   "metadata": {},
   "source": [
    "![Pool of trees in Bagging and Boosting](https://quantdare.com/wp-content/uploads/2016/04/bb1-800x221.png)"
   ]
  },
  {
   "cell_type": "markdown",
   "metadata": {},
   "source": [
    "Before understanding bagging and boosting and how different classifiers are selected in the two algorithms, we need to first understand about **Bootstrapping.**"
   ]
  },
  {
   "cell_type": "markdown",
   "metadata": {},
   "source": [
    "# **2. Bootstrapping** <a class=\"anchor\" id=\"2\"></a>\n",
    "\n",
    "[Back to Notebook Contents](#0.1)\n",
    "\n",
    "\n",
    "- **Bootstrap** refers to random sampling with replacement. Bootstrap allows us to better understand the bias and the variance with the dataset. \n",
    "\n",
    "- So, **Bootstrapping** is a sampling technique in which we create subsets of observations from the original dataset with replacement. The size of the subsets is the same as the size of the original set.\n",
    "\n",
    "- Bootstrap involves random sampling of small subset of data from the dataset. This subset can be replaced. \n",
    "\n",
    "- The selection of all the example in the dataset has equal probability. This method can help to better understand the mean and standand deviation from the dataset.\n",
    "\n",
    "- Let’s assume we have a sample of ‘n’ values (x) and we want an estimate of the mean of the sample. We can calculate it as follows:\n",
    "\n",
    "   `mean(x) = 1/n * sum(x)`\n",
    "   \n",
    "- Bootstrapping can be represented diagrammatically as follows:"
   ]
  },
  {
   "cell_type": "markdown",
   "metadata": {},
   "source": [
    "![Bootstrapping](https://miro.medium.com/max/1010/1*YYom-NKDaZ-B7RB_891DgQ.png)"
   ]
  },
  {
   "cell_type": "markdown",
   "metadata": {},
   "source": [
    "Now, we turn our attention to bagging and boosting."
   ]
  },
  {
   "cell_type": "markdown",
   "metadata": {},
   "source": [
    " # **3. Bagging** <a class=\"anchor\" id=\"3\"></a>\n",
    "\n",
    "\n",
    "[Back to Notebook Contents](#0.1)\n",
    "\n",
    "\n",
    "- Bagging ( or Bootstrap Aggregation), is a simple and very powerful ensemble method. Bagging is the application of the Bootstrap procedure to a high-variance machine learning algorithm, typically decision trees.\n",
    "\n",
    "- The idea behind bagging is combining the results of multiple models (for instance, all decision trees) to get a generalized result. Now, bootstrapping comes into picture.\n",
    "\n",
    "- Bagging (or Bootstrap Aggregating) technique uses these subsets (bags) to get a fair idea of the distribution (complete set). The size of subsets created for bagging may be less than the original set.\n",
    "\n",
    "- It can be represented as follows:"
   ]
  },
  {
   "cell_type": "markdown",
   "metadata": {},
   "source": [
    "![Sample subsets in bagging](https://miro.medium.com/max/978/0*g7yNQvSRuqEgjj25.png)"
   ]
  },
  {
   "cell_type": "markdown",
   "metadata": {},
   "source": [
    "**Bagging** works as follows:-\n",
    "\n",
    "\n",
    "1. Multiple subsets are created from the original dataset, selecting observations with replacement.\n",
    "\n",
    "2. A base model (weak model) is created on each of these subsets.\n",
    "\n",
    "3. The models run in parallel and are independent of each other.\n",
    "\n",
    "4. The final predictions are determined by combining the predictions from all the models.\n",
    "\n",
    "\n",
    "Now, bagging can be represented diagrammatically as follows:"
   ]
  },
  {
   "cell_type": "markdown",
   "metadata": {},
   "source": [
    "![Bagging](https://miro.medium.com/max/1012/0*mA5rdZipfga2HLjO.png)"
   ]
  },
  {
   "cell_type": "markdown",
   "metadata": {},
   "source": [
    "# **4. Boosting** <a class=\"anchor\" id=\"4\"></a>\n",
    "\n",
    "[Back to Notebook Contents](#0.1)\n",
    "\n",
    "\n",
    "- Boosting is a sequential process, where each subsequent model attempts to correct the errors of the previous model. The succeeding models are dependent on the previous model. \n",
    "\n",
    "- In this technique, learners are learned sequentially with early learners fitting simple models to the data and then analyzing data for errors. In other words, we fit consecutive trees (random sample) and at every step, the goal is to solve for net error from the prior tree.\n",
    "\n",
    "- When an input is misclassified by a hypothesis, its weight is increased so that next hypothesis is more likely to classify it correctly. By combining the whole set at the end converts weak learners into better performing model.\n",
    "\n",
    "- Let’s understand the way boosting works in the below steps.\n",
    "\n",
    "  1. A subset is created from the original dataset.\n",
    "  \n",
    "  2. Initially, all data points are given equal weights.\n",
    "  \n",
    "  3. A base model is created on this subset.\n",
    "  \n",
    "  4. This model is used to make predictions on the whole dataset."
   ]
  },
  {
   "cell_type": "markdown",
   "metadata": {},
   "source": [
    "![Boosting 1](https://miro.medium.com/max/171/0*u3Li30F4gRAV_3Fb.png)"
   ]
  },
  {
   "cell_type": "markdown",
   "metadata": {},
   "source": [
    "   5. Errors are calculated using the actual values and predicted values.\n",
    "  \n",
    "   6. The observations which are incorrectly predicted, are given higher weights. (Here, the three misclassified blue-plus points will be given higher weights)\n",
    "  \n",
    "   7. Another model is created and predictions are made on the dataset. (This model tries to correct the errors from the previous model)"
   ]
  },
  {
   "cell_type": "markdown",
   "metadata": {},
   "source": [
    "![Boosting 2](https://miro.medium.com/max/166/0*yRk4nLMrvoA4cvC6.png)"
   ]
  },
  {
   "cell_type": "markdown",
   "metadata": {},
   "source": [
    "8. Similarly, multiple models are created, each correcting the errors of the previous model.\n",
    "\n",
    "9. The final model (strong learner) is the weighted mean of all the models (weak learners)."
   ]
  },
  {
   "cell_type": "markdown",
   "metadata": {},
   "source": [
    "![Boosting 3](https://miro.medium.com/max/1202/1*k-HYpwcgzCq_Yy--05_LAw.png)"
   ]
  },
  {
   "cell_type": "markdown",
   "metadata": {},
   "source": [
    "- Thus, the boosting algorithm combines a number of weak learners to form a strong learner. \n",
    "\n",
    "- The individual models would not perform well on the entire dataset, but they work well for some part of the dataset. \n",
    "\n",
    "- Thus, each model actually boosts the performance of the ensemble."
   ]
  },
  {
   "cell_type": "markdown",
   "metadata": {},
   "source": [
    "![Boosting](https://miro.medium.com/max/180/0*AHlYVBCC5mpDCedP.png)"
   ]
  },
  {
   "cell_type": "markdown",
   "metadata": {},
   "source": [
    "# **5. Getting N learners for Bagging and Boosting** <a class=\"anchor\" id=\"5\"></a>\n",
    "\n",
    "[Back to Notebook Contents](#0.1)\n",
    "\n",
    "\n",
    "- Bagging and Boosting get N learners by generating additional data in the training stage. \n",
    "\n",
    "- N new training data sets are produced by random sampling with replacement from the original set. \n",
    "\n",
    "- By sampling with replacement some observations may be repeated in each new training data set.\n",
    "\n",
    "- In the case of Bagging, any element has the same probability to appear in a new data set. \n",
    "\n",
    "- However, for Boosting the observations are weighted and therefore some of them will take part in the new sets more often.\n",
    "\n",
    "- These multiple sets are used to train the same learner algorithm and therefore different classifiers are produced.\n",
    "\n",
    "- This is represented diagrammatically as follows:\n"
   ]
  },
  {
   "cell_type": "markdown",
   "metadata": {},
   "source": [
    "![Getting N learners for Bagging and Boosting](https://quantdare.com/wp-content/uploads/2016/04/bb2-800x307.png)"
   ]
  },
  {
   "cell_type": "markdown",
   "metadata": {},
   "source": [
    "# **6. Weighted data elements** <a class=\"anchor\" id=\"6\"></a>\n",
    "\n",
    "[Back to Notebook Contents](#0.1)\n",
    "\n",
    "\n",
    "- Now, we know the main difference between the two methods. \n",
    "\n",
    "- While the training stage is parallel for Bagging (i.e., each model is built independently), Boosting builds the new learner in a sequential way as follows:"
   ]
  },
  {
   "cell_type": "markdown",
   "metadata": {},
   "source": [
    "![Weighted data elements](https://quantdare.com/wp-content/uploads/2016/04/bb3-800x307.png)"
   ]
  },
  {
   "cell_type": "markdown",
   "metadata": {},
   "source": [
    "- In Boosting algorithms each classifier is trained on data, taking into account the previous classifiers’ success.\n",
    "\n",
    "- After each training step, the weights are redistributed. Misclassified data increases its weights to emphasise the most difficult cases. \n",
    "\n",
    "- In this way, subsequent learners will focus on them during their training."
   ]
  },
  {
   "cell_type": "markdown",
   "metadata": {},
   "source": [
    "# **7. Classification stage in action** <a class=\"anchor\" id=\"7\"></a>\n",
    "\n",
    "[Back to Notebook Contents](#0.1)\n",
    "\n",
    "- To predict the class of new data we only need to apply the N learners to the new observations. \n",
    "\n",
    "- In Bagging the result is obtained by averaging the responses of the N learners (or majority vote). \n",
    "\n",
    "- However, Boosting assigns a second set of weights, this time for the N classifiers, in order to take a weighted average of their estimates.\n",
    "\n",
    "- This is shown diagrammatically below:"
   ]
  },
  {
   "cell_type": "markdown",
   "metadata": {},
   "source": [
    "![Classification stage in action](https://quantdare.com/wp-content/uploads/2016/04/bb4-800x307.png)"
   ]
  },
  {
   "cell_type": "markdown",
   "metadata": {},
   "source": [
    "- In the Boosting training stage, the algorithm allocates weights to each resulting model. \n",
    "\n",
    "- A learner with good a classification result on the training data will be assigned a higher weight than a poor one. \n",
    "\n",
    "- So when evaluating a new learner, Boosting needs to keep track of learners’ errors, too. \n",
    "\n",
    "- Let’s see the differences in the procedures:"
   ]
  },
  {
   "cell_type": "markdown",
   "metadata": {},
   "source": [
    "![Difference in procedures](https://quantdare.com/wp-content/uploads/2016/04/bb5-800x285.png)"
   ]
  },
  {
   "cell_type": "markdown",
   "metadata": {},
   "source": [
    "- Some of the Boosting techniques include an extra-condition to keep or discard a single learner. \n",
    "\n",
    "- For example, in AdaBoost, the most renowned, an error less than 50% is required to maintain the model; otherwise, the iteration is repeated until achieving a learner better than a random guess.\n",
    "\n",
    "- The previous image shows the general process of a Boosting method, but several alternatives exist with different ways to determine the weights to use in the next training step and in the classification stage."
   ]
  },
  {
   "cell_type": "markdown",
   "metadata": {},
   "source": [
    "# **8. Selecting the best technique- Bagging or Boosting** <a class=\"anchor\" id=\"8\"></a>\n",
    "\n",
    "[Back to Notebook Contents](#0.1)\n",
    "\n",
    "\n",
    "- Now, the question may come to our mind - whether to select Bagging or Boosting for a particular problem.\n",
    "\n",
    "- It depends on the data, the simulation and the circumstances.\n",
    "\n",
    "- Bagging and Boosting decrease the variance of your single estimate as they combine several estimates from different models. So the result may be a model with higher stability.\n",
    "\n",
    "- If the problem is that the single model gets a very low performance, Bagging will rarely get a better bias. However, Boosting could generate a combined model with lower errors as it optimises the advantages and reduces pitfalls of the single model.\n",
    "\n",
    "- By contrast, if the difficulty of the single model is over-fitting, then Bagging is the best option. Boosting for its part doesn’t help to avoid over-fitting. \n",
    "\n",
    "- In fact, this technique is faced with this problem itself. For this reason, Bagging is effective more often than Boosting."
   ]
  },
  {
   "cell_type": "markdown",
   "metadata": {},
   "source": [
    "# **9. Similarities between Bagging and Boosting** <a class=\"anchor\" id=\"9\"></a>\n",
    "\n",
    "[Back to Notebook Contents](#0.1)\n",
    "\n",
    "\n",
    "Similarities between Bagging and Boosting are as follows:-\n",
    "\n",
    "\n",
    "1. Both are ensemble methods to get N learners from 1 learner.\n",
    "    \n",
    "2. Both generate several training data sets by random sampling.\n",
    "    \n",
    "3. Both make the final decision by averaging the N learners (or taking the majority of them i.e Majority Voting).\n",
    "    \n",
    "4. Both are good at reducing variance and provide higher stability."
   ]
  },
  {
   "cell_type": "markdown",
   "metadata": {},
   "source": [
    "# **10. Differences between Bagging and Boosting** <a class=\"anchor\" id=\"10\"></a>\n",
    "\n",
    "[Back to Notebook Contents](#0.1)\n",
    "\n",
    "Differences between Bagging and Boosting are as follows:-\n",
    "\n",
    "\n",
    "1. **Bagging** is the simplest way of combining predictions that belong to the same type while **Boosting** is\ta way of combining predictions that belong to the different types.\n",
    "  \n",
    "2. **Bagging** aims to decrease variance, not bias while **Boosting**\taims to decrease bias, not variance.\n",
    "  \n",
    "3. In **Baggiing** each model receives equal weight whereas in **Boosting** models are weighted according to their performance.\n",
    "  \n",
    "4. In **Bagging** each model is built independently whereas in **Boosting** new models are influenced by performance of previously built models.\n",
    "  \n",
    "5. In **Bagging** different training data subsets are randomly drawn with replacement from the entire training dataset. In **Boosting** every new subsets contains the elements that were misclassified by previous models.\n",
    "  \n",
    "6. **Bagging** tries to solve over-fitting problem while **Boosting** tries to reduce bias.\n",
    "\n",
    "7. If the classifier is unstable (high variance), then we should apply **Bagging**. If the classifier is stable and simple (high bias) then we should apply **Boosting**.\n",
    "\n",
    "8.\t**Bagging** is extended to Random forest model while **Boosting** is extended to **Gradient boosting**.\n"
   ]
  },
  {
   "cell_type": "markdown",
   "metadata": {},
   "source": [
    "# **11. Summary and Conclusion** <a class=\"anchor\" id=\"11\"></a>\n",
    "\n",
    "[Back to Notebook Contents](#0.1)\n",
    "\n",
    "\n",
    "- In this kernel, we discussed two very important ensemble learning techniques - **Bagging** and **Boosting**.\n",
    "\n",
    "- We have discussed **Bootstrapping**, **Bagging** and **Boosting** in detail.\n",
    "\n",
    "- We have discussed classification stage in action.\n",
    "\n",
    "- Then, we have shown how to select the best technique - **Bagging** or **Boosting** for a particular problem.\n",
    "\n",
    "- Lastly, we have discussed similarities and differences between **Bagging** and **Boosting**.\n",
    "\n",
    "- I hope this article would have given you a solid understanding of **Bagging** and **Boosting**."
   ]
  },
  {
   "cell_type": "markdown",
   "metadata": {},
   "source": [
    "# **12. References** <a class=\"anchor\" id=\"12\"></a>\n",
    "\n",
    "[Back to Notebook Contents](#0.1)\n",
    "\n",
    "\n",
    "The ideas, concepts and diagrams are taken from the following websites:\n",
    "\n",
    "  - https://quantdare.com/what-is-the-difference-between-bagging-and-boosting/\n",
    "\n",
    "  - https://medium.com/swlh/difference-between-bagging-and-boosting-f996253acd22\n",
    "\n",
    "  - https://www.geeksforgeeks.org/comparison-b-w-bagging-and-boosting-data-mining/\n",
    "\n",
    "  - https://hub.packtpub.com/ensemble-methods-optimize-machine-learning-models/\n",
    "\n",
    "  - https://towardsdatascience.com/decision-tree-ensembles-bagging-and-boosting-266a8ba60fd9\n"
   ]
  },
  {
   "cell_type": "markdown",
   "metadata": {},
   "source": [
    "So, now we will come to the end of this kernel.\n",
    "\n",
    "I hope you find this kernel useful and enjoyable.\n",
    "\n",
    "Your comments and feedback are most welcome.\n",
    "\n",
    "Thank you\n"
   ]
  },
  {
   "cell_type": "markdown",
   "metadata": {},
   "source": [
    "[Go to Top](#0)"
   ]
  }
 ],
 "metadata": {
  "kernelspec": {
   "display_name": "Python 3 (ipykernel)",
   "language": "python",
   "name": "python3"
  },
  "language_info": {
   "codemirror_mode": {
    "name": "ipython",
    "version": 3
   },
   "file_extension": ".py",
   "mimetype": "text/x-python",
   "name": "python",
   "nbconvert_exporter": "python",
   "pygments_lexer": "ipython3",
   "version": "3.9.13"
  }
 },
 "nbformat": 4,
 "nbformat_minor": 4
}
