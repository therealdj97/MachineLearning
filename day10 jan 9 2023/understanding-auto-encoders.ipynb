{
 "cells": [
  {
   "cell_type": "code",
   "execution_count": 9,
   "metadata": {
    "_cell_guid": "b1076dfc-b9ad-4769-8c92-a6c4dae69d19",
    "_uuid": "8f2839f25d086af736a60e9eeb907d3b93b6e0e5",
    "execution": {
     "iopub.execute_input": "2022-11-12T05:18:00.743194Z",
     "iopub.status.busy": "2022-11-12T05:18:00.742752Z",
     "iopub.status.idle": "2022-11-12T05:18:00.752715Z",
     "shell.execute_reply": "2022-11-12T05:18:00.751635Z",
     "shell.execute_reply.started": "2022-11-12T05:18:00.743091Z"
    }
   },
   "outputs": [],
   "source": [
    "# This Python 3 environment comes with many helpful analytics libraries installed\n",
    "# It is defined by the kaggle/python Docker image: https://github.com/kaggle/docker-python\n",
    "# For example, here's several helpful packages to load\n",
    "\n",
    "import numpy as np # linear algebra\n",
    "import pandas as pd # data processing, CSV file I/O (e.g. pd.read_csv)\n",
    "\n",
    "# Input data files are available in the read-only \"../input/\" directory\n",
    "# For example, running this (by clicking run or pressing Shift+Enter) will list all files under the input directory\n",
    "\n",
    "import os\n",
    "for dirname, _, filenames in os.walk('/kaggle/input'):\n",
    "    for filename in filenames:\n",
    "        print(os.path.join(dirname, filename))\n",
    "\n",
    "# You can write up to 20GB to the current directory (/kaggle/working/) that gets preserved as output when you create a version using \"Save & Run All\" \n",
    "# You can also write temporary files to /kaggle/temp/, but they won't be saved outside of the current session"
   ]
  },
  {
   "cell_type": "markdown",
   "metadata": {},
   "source": [
    "**Autoencoders** are an unsupervised learning technique in which we leverage neural networks for the task of representation learning. \n",
    "\n",
    "Specifically, we'll design a neural network architecture such that we impose a bottleneck in the network which forces a compressed knowledge representation of the original input. If the input features were each independent of one another, this compression and subsequent reconstruction would be a very difficult task. However, if some sort of structure exists in the data (ie. correlations between input features), this structure can be learned and consequently leveraged when forcing the input through the network's bottleneck.\n",
    "\n",
    "<hr />\n",
    "\n",
    "<h5>Connect with the Author of this Notebook <a href=\"https://linkedin.com/in/rocky-jagtiani-3b390649/\">here.</a> \n",
    "    <br /> Mr. Rocky Jagtiani works as a Head for Training & Content Development at <a href=\"https://datascience.suvenconsultants.com/\">Suven Consultants & Technology Pvt ltd.</a> </h5>\n",
    "    \n",
    "<hr />\n",
    "\n",
    "![Autoencoder concept diagram](https://drive.google.com/uc?id=1jVwyxbaF8vitrUxL5brfFziiaRsEyFZ1)\n"
   ]
  },
  {
   "cell_type": "markdown",
   "metadata": {},
   "source": [
    "As visualized above, we can take an unlabeled dataset and frame it as a supervised learning problem tasked with outputting x^, a reconstruction of the original input x. This network can be trained by minimizing the reconstruction error, **`L(x,x^)`**, which measures the differences between our original input and the consequent reconstruction. The bottleneck is a key attribute of our network design; without the presence of an information bottleneck, our network could easily learn to simply memorize the input values by passing these values along through the network"
   ]
  },
  {
   "cell_type": "markdown",
   "metadata": {},
   "source": [
    "So, upto we `theoritically` know that **Autoencoder is a type of neural network that can be used to learn a compressed representation of raw data**.\n",
    "\n",
    "An autoencoder is composed of an encoder and a decoder sub-models. The encoder compresses the input and the decoder attempts to recreate the input from the compressed version provided by the encoder. After training, the encoder model is saved and the decoder is discarded.\n",
    "\n",
    "The encoder can then be used as a **`data preparation`** technique to perform feature extraction on raw data that can be used to train a different machine learning model.\n",
    "\n",
    "<h3>In this Notebook, you will learn how to develop and evaluate an autoencoder for classification predictive modeling. </h3>\n",
    "\n",
    "After completing this Note book , you will know:\n",
    "\n",
    "> An autoencoder is a neural network model that can be used to learn a compressed representation of raw data.\n",
    "\n",
    "> How to train an autoencoder model on a training dataset and save just the encoder part of the model.\n",
    "\n",
    "> How to use the encoder as a data preparation step when training a machine learning model."
   ]
  },
  {
   "cell_type": "markdown",
   "metadata": {},
   "source": [
    "This tutorial Notebook is divided into two parts; they are:\n",
    "\n",
    "> Autoencoders for Feature Extraction\n",
    "\n",
    "> Encoder as Data Preparation for Predictive Model\n",
    "\n",
    "<hr />\n",
    "\n",
    "## Autoencoders for Feature Extraction\n",
    "\n",
    "We will develop an autoencoder to learn a compressed representation of the input features for a classification predictive modeling problem.\n",
    "\n",
    "First, let’s define a classification predictive modeling problem.\n",
    "\n",
    "We will use the `make_classification()` scikit-learn function to define a synthetic binary (2-class) classification task with 100 input features (columns) and 1,000 examples (rows). Importantly, we will define the problem in such a way that most of the input variables are redundant (90 of the 100 or 90 percent), **`allowing the autoencoder later to learn a useful compressed representation`**.\n",
    "\n",
    "The code below defines the dataset and summarizes its shape.\n"
   ]
  },
  {
   "cell_type": "code",
   "execution_count": 2,
   "metadata": {
    "execution": {
     "iopub.execute_input": "2022-11-12T05:18:00.773073Z",
     "iopub.status.busy": "2022-11-12T05:18:00.772516Z",
     "iopub.status.idle": "2022-11-12T05:18:01.704696Z",
     "shell.execute_reply": "2022-11-12T05:18:01.703696Z",
     "shell.execute_reply.started": "2022-11-12T05:18:00.773030Z"
    }
   },
   "outputs": [
    {
     "name": "stdout",
     "output_type": "stream",
     "text": [
      "(1000, 100) (1000,)\n",
      "[1 0 0 1 0]\n"
     ]
    }
   ],
   "source": [
    "from sklearn.datasets import make_classification\n",
    "# define dataset\n",
    "X, y = make_classification(n_samples=1000, n_features=100, n_informative=10, n_redundant=90, random_state=1)\n",
    "# summarize the dataset\n",
    "print(X.shape, y.shape)\n",
    "\n",
    "# recording the n(columns) to use later\n",
    "n_inputs = X.shape[1]\n",
    "\n",
    "print(y[:5])"
   ]
  },
  {
   "cell_type": "markdown",
   "metadata": {},
   "source": [
    "**Next, we will develop a Multilayer Perceptron (MLP) autoencoder model**.\n",
    "\n",
    "<font color='dark greeen'><b>The model will take all of the input columns, then output the same values. It will learn to recreate the input pattern exactly.</b></font>\n",
    "\n",
    "The autoencoder consists of two parts: the encoder and the decoder. The encoder learns how to interpret the input and compress it to an internal representation defined by the bottleneck layer. The decoder takes the output of the encoder (the bottleneck layer) and attempts to recreate the input.\n",
    "\n",
    "Once the autoencoder is trained, the decoder is discarded and we only keep the encoder and use it to compress examples of input to vectors output by the bottleneck layer.\n",
    "\n",
    "<font color='dark greeen'><b>In this first autoencoder, we won’t compress the input at all and will use a bottleneck layer the same size as the input. This should be an easy problem that the model will learn nearly perfectly and is intended to confirm our model is implemented correctly or not !!. </b></font>"
   ]
  },
  {
   "cell_type": "code",
   "execution_count": 3,
   "metadata": {
    "execution": {
     "iopub.execute_input": "2022-11-12T05:18:01.868207Z",
     "iopub.status.busy": "2022-11-12T05:18:01.867786Z",
     "iopub.status.idle": "2022-11-12T05:18:01.934542Z",
     "shell.execute_reply": "2022-11-12T05:18:01.933303Z",
     "shell.execute_reply.started": "2022-11-12T05:18:01.868133Z"
    }
   },
   "outputs": [],
   "source": [
    "## Prior to defining and fitting the model, \n",
    "## we will split the data into train and test sets \n",
    "## and scale the input data by normalizing the values to the range 0-1, \n",
    "## a good practice with MLPs.\n",
    "\n",
    "\n",
    "from sklearn.preprocessing import MinMaxScaler\n",
    "from sklearn.model_selection import train_test_split\n",
    "\n",
    "# split into train test sets\n",
    "X_train, X_test, y_train, y_test = train_test_split(X, y, test_size=0.33, random_state=1)\n",
    "\n",
    "# scale data\n",
    "t = MinMaxScaler()\n",
    "t.fit(X_train)\n",
    "X_train = t.transform(X_train)\n",
    "X_test = t.transform(X_test)"
   ]
  },
  {
   "cell_type": "markdown",
   "metadata": {},
   "source": [
    "We will define the encoder to have two hidden layers, the first with two times the number of inputs (e.g. 200) and the second with the same number of inputs (100), followed by the bottleneck layer with the same number of inputs as the dataset (100).\n",
    "\n",
    "To ensure the model learns well, we will use batch normalization and leaky ReLU activation."
   ]
  },
  {
   "cell_type": "code",
   "execution_count": 4,
   "metadata": {
    "execution": {
     "iopub.execute_input": "2022-11-12T05:18:01.936471Z",
     "iopub.status.busy": "2022-11-12T05:18:01.936186Z",
     "iopub.status.idle": "2022-11-12T05:18:08.228864Z",
     "shell.execute_reply": "2022-11-12T05:18:08.227940Z",
     "shell.execute_reply.started": "2022-11-12T05:18:01.936439Z"
    }
   },
   "outputs": [],
   "source": [
    "from tensorflow.keras.models import Model\n",
    "from tensorflow.keras.layers import Input\n",
    "from tensorflow.keras.layers import Dense\n",
    "from tensorflow.keras.layers import LeakyReLU\n",
    "from tensorflow.keras.layers import BatchNormalization\n",
    "\n",
    "# define encoder\n",
    "visible = Input(shape=(n_inputs,))\n",
    "\n",
    "# encoder level 1\n",
    "e = Dense(n_inputs * 2)(visible)\n",
    "e = BatchNormalization()(e)\n",
    "e = LeakyReLU()(e)\n",
    "\n",
    "# encoder level 2\n",
    "e = Dense(n_inputs)(e)\n",
    "e = BatchNormalization()(e)\n",
    "e = LeakyReLU()(e)\n",
    "\n",
    "# bottleneck\n",
    "n_bottleneck = n_inputs\n",
    "bottleneck = Dense(n_bottleneck)(e)"
   ]
  },
  {
   "cell_type": "markdown",
   "metadata": {},
   "source": [
    "**`The decoder will be defined with a similar structure, although in reverse`**.\n",
    "\n",
    "It will have two hidden layers, the first with the number of inputs in the dataset (e.g. 100) and the second with double the number of inputs (e.g. 200). The output layer will have the same number of nodes as there are columns in the input data and will use a linear activation function to output numeric values."
   ]
  },
  {
   "cell_type": "code",
   "execution_count": 5,
   "metadata": {
    "execution": {
     "iopub.execute_input": "2022-11-12T05:18:08.230655Z",
     "iopub.status.busy": "2022-11-12T05:18:08.230410Z",
     "iopub.status.idle": "2022-11-12T05:18:08.472350Z",
     "shell.execute_reply": "2022-11-12T05:18:08.471307Z",
     "shell.execute_reply.started": "2022-11-12T05:18:08.230628Z"
    }
   },
   "outputs": [],
   "source": [
    "# define decoder, level 1\n",
    "d = Dense(n_inputs)(bottleneck)\n",
    "d = BatchNormalization()(d)\n",
    "d = LeakyReLU()(d)\n",
    "\n",
    "# decoder level 2\n",
    "d = Dense(n_inputs*2)(d)\n",
    "d = BatchNormalization()(d)\n",
    "d = LeakyReLU()(d)\n",
    "\n",
    "# output layer\n",
    "output = Dense(n_inputs, activation='linear')(d)\n",
    "\n",
    "# define autoencoder model\n",
    "model = Model(inputs=visible, outputs=output)"
   ]
  },
  {
   "cell_type": "markdown",
   "metadata": {},
   "source": [
    "The model will be fit using the efficient **`Adam version`** of stochastic gradient descent and minimizes the mean squared error, given that reconstruction is a type of **`multi-output regression`** problem."
   ]
  },
  {
   "cell_type": "code",
   "execution_count": 6,
   "metadata": {
    "execution": {
     "iopub.execute_input": "2022-11-12T05:18:08.473854Z",
     "iopub.status.busy": "2022-11-12T05:18:08.473608Z",
     "iopub.status.idle": "2022-11-12T05:18:08.489631Z",
     "shell.execute_reply": "2022-11-12T05:18:08.488488Z",
     "shell.execute_reply.started": "2022-11-12T05:18:08.473829Z"
    }
   },
   "outputs": [],
   "source": [
    "# compile autoencoder model\n",
    "model.compile(optimizer='adam', loss='mse')"
   ]
  },
  {
   "cell_type": "code",
   "execution_count": 12,
   "metadata": {
    "execution": {
     "iopub.execute_input": "2022-11-12T05:18:08.491654Z",
     "iopub.status.busy": "2022-11-12T05:18:08.491303Z",
     "iopub.status.idle": "2022-11-12T05:18:09.072777Z",
     "shell.execute_reply": "2022-11-12T05:18:09.071538Z",
     "shell.execute_reply.started": "2022-11-12T05:18:08.491613Z"
    }
   },
   "outputs": [
    {
     "name": "stdout",
     "output_type": "stream",
     "text": [
      "You must install pydot (`pip install pydot`) and install graphviz (see instructions at https://graphviz.gitlab.io/download/) for plot_model to work.\n"
     ]
    }
   ],
   "source": [
    "## We can plot the layers in the autoencoder model to get a feeling for how the data flows through the model.\n",
    "\n",
    "# plot the autoencoder\n",
    "from tensorflow.keras.utils import plot_model\n",
    "plot_model(model, 'autoencoder_no_compress.png', show_shapes=True)"
   ]
  },
  {
   "cell_type": "code",
   "execution_count": 8,
   "metadata": {
    "execution": {
     "iopub.execute_input": "2022-11-12T05:18:09.074395Z",
     "iopub.status.busy": "2022-11-12T05:18:09.074042Z",
     "iopub.status.idle": "2022-11-12T05:18:41.002698Z",
     "shell.execute_reply": "2022-11-12T05:18:41.001832Z",
     "shell.execute_reply.started": "2022-11-12T05:18:09.074354Z"
    }
   },
   "outputs": [],
   "source": [
    "## Next, we can train the model to reproduce the input and keep track of the performance of the model \n",
    "## on the hold-out test set.\n",
    "\n",
    "# fit the autoencoder model to reconstruct input\n",
    "history = model.fit(X_train, X_train, epochs=200, batch_size=16, verbose=0, validation_data=(X_test,X_test))"
   ]
  },
  {
   "cell_type": "code",
   "execution_count": 9,
   "metadata": {
    "execution": {
     "iopub.execute_input": "2022-11-12T05:18:41.005317Z",
     "iopub.status.busy": "2022-11-12T05:18:41.005010Z",
     "iopub.status.idle": "2022-11-12T05:18:41.180266Z",
     "shell.execute_reply": "2022-11-12T05:18:41.179201Z",
     "shell.execute_reply.started": "2022-11-12T05:18:41.005285Z"
    }
   },
   "outputs": [
    {
     "data": {
      "image/png": "[encoded data removed]",
      "text/plain": [
       "<Figure size 432x288 with 1 Axes>"
      ]
     },
     "metadata": {
      "needs_background": "light"
     },
     "output_type": "display_data"
    }
   ],
   "source": [
    "## After training, we can plot the learning curves for the train and test sets to confirm the model learned \n",
    "## the reconstruction problem well.\n",
    "\n",
    "from matplotlib import pyplot\n",
    "\n",
    "# plot loss\n",
    "pyplot.plot(history.history['loss'], label='train')\n",
    "pyplot.plot(history.history['val_loss'], label='test')\n",
    "pyplot.legend()\n",
    "pyplot.show()"
   ]
  },
  {
   "cell_type": "code",
   "execution_count": 10,
   "metadata": {
    "execution": {
     "iopub.execute_input": "2022-11-12T05:18:41.182127Z",
     "iopub.status.busy": "2022-11-12T05:18:41.181770Z",
     "iopub.status.idle": "2022-11-12T05:18:41.291464Z",
     "shell.execute_reply": "2022-11-12T05:18:41.290814Z",
     "shell.execute_reply.started": "2022-11-12T05:18:41.182067Z"
    }
   },
   "outputs": [
    {
     "data": {
      "image/png": "[encoded data removed]",
      "text/plain": [
       "<IPython.core.display.Image object>"
      ]
     },
     "execution_count": 10,
     "metadata": {},
     "output_type": "execute_result"
    }
   ],
   "source": [
    "## Finally, we can save the encoder model for use later. We would need it !!\n",
    "\n",
    "# define an encoder model (without the decoder)\n",
    "encoder = Model(inputs=visible, outputs=bottleneck)\n",
    "plot_model(encoder, 'encoder_no_compress.png', show_shapes=True)"
   ]
  },
  {
   "cell_type": "code",
   "execution_count": 11,
   "metadata": {
    "execution": {
     "iopub.execute_input": "2022-11-12T05:18:41.293340Z",
     "iopub.status.busy": "2022-11-12T05:18:41.292839Z",
     "iopub.status.idle": "2022-11-12T05:18:41.319462Z",
     "shell.execute_reply": "2022-11-12T05:18:41.318620Z",
     "shell.execute_reply.started": "2022-11-12T05:18:41.293303Z"
    }
   },
   "outputs": [],
   "source": [
    "# save the encoder to file\n",
    "encoder.save('encoder.h5')\n",
    "## https://fileinfo.com/extension/h5"
   ]
  },
  {
   "cell_type": "markdown",
   "metadata": {},
   "source": [
    "<h3> So far, so good. We know how to develop an autoencoder without compression. </h3>\n",
    "\n",
    "Next, let’s change the configuration of the model so that the bottleneck layer has half the number of nodes (e.g. 50). Also try with 25 and 10 nodes in the bottleneck layer."
   ]
  },
  {
   "cell_type": "code",
   "execution_count": 15,
   "metadata": {
    "execution": {
     "iopub.execute_input": "2022-11-12T05:25:21.442359Z",
     "iopub.status.busy": "2022-11-12T05:25:21.441947Z",
     "iopub.status.idle": "2022-11-12T05:25:56.870370Z",
     "shell.execute_reply": "2022-11-12T05:25:56.868997Z",
     "shell.execute_reply.started": "2022-11-12T05:25:21.442322Z"
    }
   },
   "outputs": [
    {
     "name": "stdout",
     "output_type": "stream",
     "text": [
      "Epoch 1/200\n",
      "42/42 - 1s - loss: 0.2295 - val_loss: 0.1807\n",
      "Epoch 2/200\n",
      "42/42 - 0s - loss: 0.0346 - val_loss: 0.1109\n",
      "Epoch 3/200\n",
      "42/42 - 0s - loss: 0.0225 - val_loss: 0.0635\n",
      "Epoch 4/200\n",
      "42/42 - 0s - loss: 0.0191 - val_loss: 0.0351\n",
      "Epoch 5/200\n",
      "42/42 - 0s - loss: 0.0168 - val_loss: 0.0228\n",
      "Epoch 6/200\n",
      "42/42 - 0s - loss: 0.0158 - val_loss: 0.0162\n",
      "Epoch 7/200\n",
      "42/42 - 0s - loss: 0.0141 - val_loss: 0.0125\n",
      "Epoch 8/200\n",
      "42/42 - 0s - loss: 0.0134 - val_loss: 0.0103\n",
      "Epoch 9/200\n",
      "42/42 - 0s - loss: 0.0122 - val_loss: 0.0096\n",
      "Epoch 10/200\n",
      "42/42 - 0s - loss: 0.0112 - val_loss: 0.0074\n",
      "Epoch 11/200\n",
      "42/42 - 0s - loss: 0.0120 - val_loss: 0.0072\n",
      "Epoch 12/200\n",
      "42/42 - 0s - loss: 0.0106 - val_loss: 0.0065\n",
      "Epoch 13/200\n",
      "42/42 - 0s - loss: 0.0097 - val_loss: 0.0061\n",
      "Epoch 14/200\n",
      "42/42 - 0s - loss: 0.0096 - val_loss: 0.0078\n",
      "Epoch 15/200\n",
      "42/42 - 0s - loss: 0.0098 - val_loss: 0.0060\n",
      "Epoch 16/200\n",
      "42/42 - 0s - loss: 0.0091 - val_loss: 0.0059\n",
      "Epoch 17/200\n",
      "42/42 - 0s - loss: 0.0084 - val_loss: 0.0085\n",
      "Epoch 18/200\n",
      "42/42 - 0s - loss: 0.0098 - val_loss: 0.0062\n",
      "Epoch 19/200\n",
      "42/42 - 0s - loss: 0.0087 - val_loss: 0.0047\n",
      "Epoch 20/200\n",
      "42/42 - 0s - loss: 0.0083 - val_loss: 0.0057\n",
      "Epoch 21/200\n",
      "42/42 - 0s - loss: 0.0083 - val_loss: 0.0056\n",
      "Epoch 22/200\n",
      "42/42 - 0s - loss: 0.0077 - val_loss: 0.0041\n",
      "Epoch 23/200\n",
      "42/42 - 0s - loss: 0.0081 - val_loss: 0.0045\n",
      "Epoch 24/200\n",
      "42/42 - 0s - loss: 0.0075 - val_loss: 0.0041\n",
      "Epoch 25/200\n",
      "42/42 - 0s - loss: 0.0069 - val_loss: 0.0037\n",
      "Epoch 26/200\n",
      "42/42 - 0s - loss: 0.0067 - val_loss: 0.0046\n",
      "Epoch 27/200\n",
      "42/42 - 0s - loss: 0.0071 - val_loss: 0.0036\n",
      "Epoch 28/200\n",
      "42/42 - 0s - loss: 0.0069 - val_loss: 0.0043\n",
      "Epoch 29/200\n",
      "42/42 - 0s - loss: 0.0068 - val_loss: 0.0040\n",
      "Epoch 30/200\n",
      "42/42 - 0s - loss: 0.0070 - val_loss: 0.0036\n",
      "Epoch 31/200\n",
      "42/42 - 0s - loss: 0.0061 - val_loss: 0.0032\n",
      "Epoch 32/200\n",
      "42/42 - 0s - loss: 0.0060 - val_loss: 0.0025\n",
      "Epoch 33/200\n",
      "42/42 - 0s - loss: 0.0068 - val_loss: 0.0031\n",
      "Epoch 34/200\n",
      "42/42 - 0s - loss: 0.0058 - val_loss: 0.0031\n",
      "Epoch 35/200\n",
      "42/42 - 0s - loss: 0.0070 - val_loss: 0.0032\n",
      "Epoch 36/200\n",
      "42/42 - 0s - loss: 0.0064 - val_loss: 0.0034\n",
      "Epoch 37/200\n",
      "42/42 - 0s - loss: 0.0060 - val_loss: 0.0033\n",
      "Epoch 38/200\n",
      "42/42 - 0s - loss: 0.0060 - val_loss: 0.0029\n",
      "Epoch 39/200\n",
      "42/42 - 0s - loss: 0.0060 - val_loss: 0.0034\n",
      "Epoch 40/200\n",
      "42/42 - 0s - loss: 0.0059 - val_loss: 0.0031\n",
      "Epoch 41/200\n",
      "42/42 - 0s - loss: 0.0063 - val_loss: 0.0025\n",
      "Epoch 42/200\n",
      "42/42 - 0s - loss: 0.0060 - val_loss: 0.0030\n",
      "Epoch 43/200\n",
      "42/42 - 0s - loss: 0.0062 - val_loss: 0.0043\n",
      "Epoch 44/200\n",
      "42/42 - 0s - loss: 0.0056 - val_loss: 0.0023\n",
      "Epoch 45/200\n",
      "42/42 - 0s - loss: 0.0057 - val_loss: 0.0028\n",
      "Epoch 46/200\n",
      "42/42 - 0s - loss: 0.0053 - val_loss: 0.0021\n",
      "Epoch 47/200\n",
      "42/42 - 0s - loss: 0.0057 - val_loss: 0.0035\n",
      "Epoch 48/200\n",
      "42/42 - 0s - loss: 0.0053 - val_loss: 0.0023\n",
      "Epoch 49/200\n",
      "42/42 - 0s - loss: 0.0051 - val_loss: 0.0023\n",
      "Epoch 50/200\n",
      "42/42 - 0s - loss: 0.0050 - val_loss: 0.0024\n",
      "Epoch 51/200\n",
      "42/42 - 0s - loss: 0.0052 - val_loss: 0.0022\n",
      "Epoch 52/200\n",
      "42/42 - 0s - loss: 0.0051 - val_loss: 0.0026\n",
      "Epoch 53/200\n",
      "42/42 - 0s - loss: 0.0050 - val_loss: 0.0021\n",
      "Epoch 54/200\n",
      "42/42 - 0s - loss: 0.0052 - val_loss: 0.0030\n",
      "Epoch 55/200\n",
      "42/42 - 0s - loss: 0.0054 - val_loss: 0.0030\n",
      "Epoch 56/200\n",
      "42/42 - 0s - loss: 0.0053 - val_loss: 0.0023\n",
      "Epoch 57/200\n",
      "42/42 - 0s - loss: 0.0054 - val_loss: 0.0020\n",
      "Epoch 58/200\n",
      "42/42 - 0s - loss: 0.0050 - val_loss: 0.0025\n",
      "Epoch 59/200\n",
      "42/42 - 0s - loss: 0.0051 - val_loss: 0.0021\n",
      "Epoch 60/200\n",
      "42/42 - 0s - loss: 0.0048 - val_loss: 0.0026\n",
      "Epoch 61/200\n",
      "42/42 - 0s - loss: 0.0053 - val_loss: 0.0027\n",
      "Epoch 62/200\n",
      "42/42 - 0s - loss: 0.0052 - val_loss: 0.0033\n",
      "Epoch 63/200\n",
      "42/42 - 0s - loss: 0.0051 - val_loss: 0.0029\n",
      "Epoch 64/200\n",
      "42/42 - 0s - loss: 0.0053 - val_loss: 0.0034\n",
      "Epoch 65/200\n",
      "42/42 - 0s - loss: 0.0049 - val_loss: 0.0020\n",
      "Epoch 66/200\n",
      "42/42 - 0s - loss: 0.0049 - val_loss: 0.0022\n",
      "Epoch 67/200\n",
      "42/42 - 0s - loss: 0.0047 - val_loss: 0.0029\n",
      "Epoch 68/200\n",
      "42/42 - 0s - loss: 0.0044 - val_loss: 0.0022\n",
      "Epoch 69/200\n",
      "42/42 - 0s - loss: 0.0048 - val_loss: 0.0018\n",
      "Epoch 70/200\n",
      "42/42 - 0s - loss: 0.0049 - val_loss: 0.0020\n",
      "Epoch 71/200\n",
      "42/42 - 0s - loss: 0.0047 - val_loss: 0.0019\n",
      "Epoch 72/200\n",
      "42/42 - 0s - loss: 0.0046 - val_loss: 0.0028\n",
      "Epoch 73/200\n",
      "42/42 - 0s - loss: 0.0048 - val_loss: 0.0029\n",
      "Epoch 74/200\n",
      "42/42 - 0s - loss: 0.0047 - val_loss: 0.0022\n",
      "Epoch 75/200\n",
      "42/42 - 0s - loss: 0.0049 - val_loss: 0.0027\n",
      "Epoch 76/200\n",
      "42/42 - 0s - loss: 0.0048 - val_loss: 0.0021\n",
      "Epoch 77/200\n",
      "42/42 - 0s - loss: 0.0047 - val_loss: 0.0025\n",
      "Epoch 78/200\n",
      "42/42 - 0s - loss: 0.0047 - val_loss: 0.0033\n",
      "Epoch 79/200\n",
      "42/42 - 0s - loss: 0.0050 - val_loss: 0.0020\n",
      "Epoch 80/200\n",
      "42/42 - 0s - loss: 0.0044 - val_loss: 0.0026\n",
      "Epoch 81/200\n",
      "42/42 - 0s - loss: 0.0049 - val_loss: 0.0017\n",
      "Epoch 82/200\n",
      "42/42 - 0s - loss: 0.0047 - val_loss: 0.0019\n",
      "Epoch 83/200\n",
      "42/42 - 0s - loss: 0.0044 - val_loss: 0.0017\n",
      "Epoch 84/200\n",
      "42/42 - 0s - loss: 0.0041 - val_loss: 0.0019\n",
      "Epoch 85/200\n",
      "42/42 - 0s - loss: 0.0043 - val_loss: 0.0015\n",
      "Epoch 86/200\n",
      "42/42 - 0s - loss: 0.0043 - val_loss: 0.0024\n",
      "Epoch 87/200\n",
      "42/42 - 0s - loss: 0.0047 - val_loss: 0.0020\n",
      "Epoch 88/200\n",
      "42/42 - 0s - loss: 0.0049 - val_loss: 0.0030\n",
      "Epoch 89/200\n",
      "42/42 - 0s - loss: 0.0044 - val_loss: 0.0026\n",
      "Epoch 90/200\n",
      "42/42 - 0s - loss: 0.0047 - val_loss: 0.0024\n",
      "Epoch 91/200\n",
      "42/42 - 0s - loss: 0.0042 - val_loss: 0.0021\n",
      "Epoch 92/200\n",
      "42/42 - 0s - loss: 0.0043 - val_loss: 0.0022\n",
      "Epoch 93/200\n",
      "42/42 - 0s - loss: 0.0049 - val_loss: 0.0032\n",
      "Epoch 94/200\n",
      "42/42 - 0s - loss: 0.0045 - val_loss: 0.0039\n",
      "Epoch 95/200\n",
      "42/42 - 0s - loss: 0.0045 - val_loss: 0.0018\n",
      "Epoch 96/200\n",
      "42/42 - 0s - loss: 0.0045 - val_loss: 0.0028\n",
      "Epoch 97/200\n",
      "42/42 - 0s - loss: 0.0044 - val_loss: 0.0020\n",
      "Epoch 98/200\n",
      "42/42 - 0s - loss: 0.0044 - val_loss: 0.0027\n",
      "Epoch 99/200\n",
      "42/42 - 0s - loss: 0.0050 - val_loss: 0.0020\n",
      "Epoch 100/200\n",
      "42/42 - 0s - loss: 0.0042 - val_loss: 0.0015\n",
      "Epoch 101/200\n",
      "42/42 - 0s - loss: 0.0042 - val_loss: 0.0015\n",
      "Epoch 102/200\n",
      "42/42 - 0s - loss: 0.0040 - val_loss: 0.0022\n",
      "Epoch 103/200\n",
      "42/42 - 0s - loss: 0.0046 - val_loss: 0.0025\n",
      "Epoch 104/200\n",
      "42/42 - 0s - loss: 0.0040 - val_loss: 0.0022\n",
      "Epoch 105/200\n",
      "42/42 - 0s - loss: 0.0045 - val_loss: 0.0025\n",
      "Epoch 106/200\n",
      "42/42 - 0s - loss: 0.0043 - val_loss: 0.0023\n",
      "Epoch 107/200\n",
      "42/42 - 0s - loss: 0.0048 - val_loss: 0.0025\n",
      "Epoch 108/200\n",
      "42/42 - 0s - loss: 0.0044 - val_loss: 0.0018\n",
      "Epoch 109/200\n",
      "42/42 - 0s - loss: 0.0044 - val_loss: 0.0026\n",
      "Epoch 110/200\n",
      "42/42 - 0s - loss: 0.0040 - val_loss: 0.0019\n",
      "Epoch 111/200\n",
      "42/42 - 0s - loss: 0.0042 - val_loss: 0.0021\n",
      "Epoch 112/200\n",
      "42/42 - 0s - loss: 0.0044 - val_loss: 0.0026\n",
      "Epoch 113/200\n",
      "42/42 - 0s - loss: 0.0039 - val_loss: 0.0016\n",
      "Epoch 114/200\n",
      "42/42 - 0s - loss: 0.0042 - val_loss: 0.0026\n",
      "Epoch 115/200\n",
      "42/42 - 0s - loss: 0.0044 - val_loss: 0.0025\n",
      "Epoch 116/200\n",
      "42/42 - 0s - loss: 0.0040 - val_loss: 0.0019\n",
      "Epoch 117/200\n",
      "42/42 - 0s - loss: 0.0042 - val_loss: 0.0015\n",
      "Epoch 118/200\n",
      "42/42 - 0s - loss: 0.0042 - val_loss: 0.0020\n",
      "Epoch 119/200\n",
      "42/42 - 0s - loss: 0.0039 - val_loss: 0.0017\n",
      "Epoch 120/200\n",
      "42/42 - 0s - loss: 0.0037 - val_loss: 0.0021\n",
      "Epoch 121/200\n",
      "42/42 - 0s - loss: 0.0038 - val_loss: 0.0013\n",
      "Epoch 122/200\n",
      "42/42 - 0s - loss: 0.0041 - val_loss: 0.0021\n",
      "Epoch 123/200\n",
      "42/42 - 0s - loss: 0.0040 - val_loss: 0.0017\n",
      "Epoch 124/200\n",
      "42/42 - 0s - loss: 0.0040 - val_loss: 0.0015\n",
      "Epoch 125/200\n",
      "42/42 - 0s - loss: 0.0038 - val_loss: 0.0018\n",
      "Epoch 126/200\n",
      "42/42 - 0s - loss: 0.0038 - val_loss: 0.0014\n",
      "Epoch 127/200\n",
      "42/42 - 0s - loss: 0.0039 - val_loss: 0.0020\n",
      "Epoch 128/200\n",
      "42/42 - 0s - loss: 0.0038 - val_loss: 0.0018\n",
      "Epoch 129/200\n",
      "42/42 - 0s - loss: 0.0038 - val_loss: 0.0012\n",
      "Epoch 130/200\n",
      "42/42 - 0s - loss: 0.0036 - val_loss: 0.0012\n",
      "Epoch 131/200\n",
      "42/42 - 0s - loss: 0.0039 - val_loss: 0.0021\n",
      "Epoch 132/200\n",
      "42/42 - 0s - loss: 0.0039 - val_loss: 0.0015\n",
      "Epoch 133/200\n",
      "42/42 - 0s - loss: 0.0042 - val_loss: 0.0014\n",
      "Epoch 134/200\n",
      "42/42 - 0s - loss: 0.0034 - val_loss: 0.0027\n",
      "Epoch 135/200\n",
      "42/42 - 0s - loss: 0.0036 - val_loss: 0.0013\n",
      "Epoch 136/200\n",
      "42/42 - 0s - loss: 0.0038 - val_loss: 0.0016\n",
      "Epoch 137/200\n",
      "42/42 - 0s - loss: 0.0038 - val_loss: 0.0022\n",
      "Epoch 138/200\n",
      "42/42 - 0s - loss: 0.0037 - val_loss: 0.0020\n",
      "Epoch 139/200\n",
      "42/42 - 0s - loss: 0.0038 - val_loss: 0.0018\n",
      "Epoch 140/200\n",
      "42/42 - 0s - loss: 0.0037 - val_loss: 0.0014\n",
      "Epoch 141/200\n",
      "42/42 - 0s - loss: 0.0037 - val_loss: 0.0017\n",
      "Epoch 142/200\n",
      "42/42 - 0s - loss: 0.0040 - val_loss: 0.0015\n",
      "Epoch 143/200\n",
      "42/42 - 0s - loss: 0.0038 - val_loss: 0.0019\n",
      "Epoch 144/200\n",
      "42/42 - 0s - loss: 0.0041 - val_loss: 0.0020\n",
      "Epoch 145/200\n",
      "42/42 - 0s - loss: 0.0042 - val_loss: 0.0020\n",
      "Epoch 146/200\n",
      "42/42 - 0s - loss: 0.0034 - val_loss: 0.0021\n",
      "Epoch 147/200\n",
      "42/42 - 0s - loss: 0.0037 - val_loss: 0.0016\n",
      "Epoch 148/200\n",
      "42/42 - 0s - loss: 0.0040 - val_loss: 0.0023\n",
      "Epoch 149/200\n",
      "42/42 - 0s - loss: 0.0037 - val_loss: 0.0017\n",
      "Epoch 150/200\n",
      "42/42 - 0s - loss: 0.0039 - val_loss: 0.0020\n",
      "Epoch 151/200\n",
      "42/42 - 0s - loss: 0.0035 - val_loss: 0.0014\n",
      "Epoch 152/200\n",
      "42/42 - 0s - loss: 0.0035 - val_loss: 0.0018\n",
      "Epoch 153/200\n",
      "42/42 - 0s - loss: 0.0037 - val_loss: 0.0015\n",
      "Epoch 154/200\n",
      "42/42 - 0s - loss: 0.0036 - val_loss: 0.0016\n",
      "Epoch 155/200\n",
      "42/42 - 0s - loss: 0.0037 - val_loss: 0.0017\n",
      "Epoch 156/200\n",
      "42/42 - 0s - loss: 0.0039 - val_loss: 0.0016\n",
      "Epoch 157/200\n",
      "42/42 - 0s - loss: 0.0036 - val_loss: 0.0014\n",
      "Epoch 158/200\n",
      "42/42 - 0s - loss: 0.0035 - val_loss: 0.0011\n",
      "Epoch 159/200\n",
      "42/42 - 0s - loss: 0.0040 - val_loss: 0.0022\n",
      "Epoch 160/200\n",
      "42/42 - 0s - loss: 0.0041 - val_loss: 0.0016\n",
      "Epoch 161/200\n",
      "42/42 - 0s - loss: 0.0037 - val_loss: 0.0019\n",
      "Epoch 162/200\n",
      "42/42 - 0s - loss: 0.0034 - val_loss: 0.0012\n",
      "Epoch 163/200\n",
      "42/42 - 0s - loss: 0.0036 - val_loss: 0.0026\n",
      "Epoch 164/200\n",
      "42/42 - 0s - loss: 0.0037 - val_loss: 0.0013\n",
      "Epoch 165/200\n",
      "42/42 - 0s - loss: 0.0038 - val_loss: 0.0016\n",
      "Epoch 166/200\n",
      "42/42 - 0s - loss: 0.0036 - val_loss: 0.0018\n",
      "Epoch 167/200\n",
      "42/42 - 0s - loss: 0.0032 - val_loss: 0.0012\n",
      "Epoch 168/200\n",
      "42/42 - 0s - loss: 0.0035 - val_loss: 0.0012\n",
      "Epoch 169/200\n",
      "42/42 - 0s - loss: 0.0039 - val_loss: 0.0020\n",
      "Epoch 170/200\n",
      "42/42 - 0s - loss: 0.0032 - val_loss: 0.0018\n",
      "Epoch 171/200\n",
      "42/42 - 0s - loss: 0.0037 - val_loss: 0.0017\n",
      "Epoch 172/200\n",
      "42/42 - 0s - loss: 0.0036 - val_loss: 0.0012\n",
      "Epoch 173/200\n",
      "42/42 - 0s - loss: 0.0035 - val_loss: 0.0021\n",
      "Epoch 174/200\n",
      "42/42 - 0s - loss: 0.0036 - val_loss: 0.0015\n",
      "Epoch 175/200\n",
      "42/42 - 0s - loss: 0.0035 - val_loss: 0.0012\n",
      "Epoch 176/200\n",
      "42/42 - 0s - loss: 0.0033 - val_loss: 8.5803e-04\n",
      "Epoch 177/200\n",
      "42/42 - 0s - loss: 0.0032 - val_loss: 0.0012\n",
      "Epoch 178/200\n",
      "42/42 - 0s - loss: 0.0032 - val_loss: 8.1726e-04\n",
      "Epoch 179/200\n",
      "42/42 - 0s - loss: 0.0032 - val_loss: 0.0017\n",
      "Epoch 180/200\n",
      "42/42 - 0s - loss: 0.0038 - val_loss: 0.0016\n",
      "Epoch 181/200\n",
      "42/42 - 0s - loss: 0.0033 - val_loss: 0.0018\n",
      "Epoch 182/200\n",
      "42/42 - 0s - loss: 0.0034 - val_loss: 0.0018\n",
      "Epoch 183/200\n",
      "42/42 - 0s - loss: 0.0035 - val_loss: 0.0014\n",
      "Epoch 184/200\n",
      "42/42 - 0s - loss: 0.0034 - val_loss: 0.0013\n",
      "Epoch 185/200\n",
      "42/42 - 0s - loss: 0.0038 - val_loss: 0.0018\n",
      "Epoch 186/200\n",
      "42/42 - 0s - loss: 0.0033 - val_loss: 0.0011\n",
      "Epoch 187/200\n",
      "42/42 - 0s - loss: 0.0033 - val_loss: 0.0014\n",
      "Epoch 188/200\n",
      "42/42 - 0s - loss: 0.0038 - val_loss: 0.0018\n",
      "Epoch 189/200\n",
      "42/42 - 0s - loss: 0.0037 - val_loss: 0.0014\n",
      "Epoch 190/200\n",
      "42/42 - 0s - loss: 0.0032 - val_loss: 0.0014\n",
      "Epoch 191/200\n",
      "42/42 - 0s - loss: 0.0035 - val_loss: 0.0011\n",
      "Epoch 192/200\n",
      "42/42 - 0s - loss: 0.0033 - val_loss: 0.0016\n",
      "Epoch 193/200\n",
      "42/42 - 0s - loss: 0.0036 - val_loss: 0.0012\n",
      "Epoch 194/200\n",
      "42/42 - 0s - loss: 0.0034 - val_loss: 0.0010\n",
      "Epoch 195/200\n",
      "42/42 - 0s - loss: 0.0036 - val_loss: 0.0017\n",
      "Epoch 196/200\n",
      "42/42 - 0s - loss: 0.0033 - val_loss: 0.0014\n",
      "Epoch 197/200\n",
      "42/42 - 0s - loss: 0.0032 - val_loss: 0.0020\n",
      "Epoch 198/200\n",
      "42/42 - 0s - loss: 0.0033 - val_loss: 0.0011\n",
      "Epoch 199/200\n",
      "42/42 - 0s - loss: 0.0037 - val_loss: 0.0012\n",
      "Epoch 200/200\n",
      "42/42 - 0s - loss: 0.0033 - val_loss: 0.0014\n"
     ]
    },
    {
     "data": {
      "image/png": "[encoded data removed]",
      "text/plain": [
       "<Figure size 432x288 with 1 Axes>"
      ]
     },
     "metadata": {
      "needs_background": "light"
     },
     "output_type": "display_data"
    }
   ],
   "source": [
    "# train autoencoder for classification with compression in the bottleneck layer\n",
    "from sklearn.datasets import make_classification\n",
    "from sklearn.preprocessing import MinMaxScaler\n",
    "from sklearn.model_selection import train_test_split\n",
    "from tensorflow.keras.models import Model\n",
    "from tensorflow.keras.layers import Input\n",
    "from tensorflow.keras.layers import Dense\n",
    "from tensorflow.keras.layers import LeakyReLU\n",
    "from tensorflow.keras.layers import BatchNormalization\n",
    "from tensorflow.keras.utils import plot_model\n",
    "from matplotlib import pyplot\n",
    "\n",
    "# define dataset\n",
    "X, y = make_classification(n_samples=1000, n_features=100, n_informative=10, n_redundant=90, random_state=1)\n",
    "\n",
    "# number of input columns\n",
    "n_inputs = X.shape[1]\n",
    "\n",
    "# split into train test sets\n",
    "X_train, X_test, y_train, y_test = train_test_split(X, y, test_size=0.33, random_state=1)\n",
    "\n",
    "# scale data\n",
    "t = MinMaxScaler()\n",
    "t.fit(X_train)\n",
    "X_train = t.transform(X_train)\n",
    "X_test = t.transform(X_test)\n",
    "\n",
    "# define encoder\n",
    "visible = Input(shape=(n_inputs,))\n",
    "\n",
    "# encoder level 1\n",
    "e = Dense(n_inputs*2)(visible)\n",
    "e = BatchNormalization()(e)\n",
    "e = LeakyReLU()(e)\n",
    "\n",
    "# encoder level 2\n",
    "e = Dense(n_inputs)(e)\n",
    "e = BatchNormalization()(e)\n",
    "e = LeakyReLU()(e)\n",
    "\n",
    "# bottleneck\n",
    "n_bottleneck = round(float(n_inputs) / 10.0)   ## NOTE this carefully !!\n",
    "bottleneck = Dense(n_bottleneck)(e)\n",
    "\n",
    "# define decoder, level 1\n",
    "d = Dense(n_inputs)(bottleneck)\n",
    "d = BatchNormalization()(d)\n",
    "d = LeakyReLU()(d)\n",
    "\n",
    "# decoder level 2\n",
    "d = Dense(n_inputs*2)(d)\n",
    "d = BatchNormalization()(d)\n",
    "d = LeakyReLU()(d)\n",
    "\n",
    "# output layer\n",
    "output = Dense(n_inputs, activation='linear')(d)\n",
    "\n",
    "# define autoencoder model\n",
    "model = Model(inputs=visible, outputs=output)\n",
    "\n",
    "# compile autoencoder model\n",
    "model.compile(optimizer='adam', loss='mse')\n",
    "\n",
    "# plot the autoencoder\n",
    "plot_model(model, 'autoencoder_compress.png', show_shapes=True)\n",
    "\n",
    "# fit the autoencoder model to reconstruct input\n",
    "history = model.fit(X_train, X_train, epochs=200, batch_size=16, verbose=2, validation_data=(X_test,X_test))\n",
    "\n",
    "# plot loss\n",
    "pyplot.plot(history.history['loss'], label='train')\n",
    "pyplot.plot(history.history['val_loss'], label='test')\n",
    "pyplot.legend()\n",
    "pyplot.show()\n",
    "\n",
    "# define an encoder model (without the decoder)\n",
    "encoder = Model(inputs=visible, outputs=bottleneck)\n",
    "plot_model(encoder, 'encoder_compress.png', show_shapes=True)\n",
    "\n",
    "# save the encoder to file\n",
    "encoder.save('encoder.h5')"
   ]
  },
  {
   "cell_type": "markdown",
   "metadata": {},
   "source": [
    "In this case, **`we see that loss gets similarly low as the above example without compression, suggesting that perhaps the model performs just as well with a bottleneck half the size`**.\n",
    "\n",
    "A plot of the learning curves is created, again showing that the model achieves a good fit in reconstructing the input, which holds steady throughout training, not overfitting."
   ]
  },
  {
   "cell_type": "markdown",
   "metadata": {},
   "source": [
    "## Encoder as Data Preparation for Predictive Model\n",
    "\n",
    "We will `use the trained encoder` from the autoencoder to compress input data and train a different predictive model.\n",
    "\n",
    "First, let’s establish a baseline in performance on this problem. This is important as if the performance of a model is not improved by the compressed encoding, then the compressed encoding does not add value to the project and should not be used.\n",
    "\n",
    "We can train a logistic regression model on the training dataset directly and evaluate the performance of the model on the holdout test set."
   ]
  },
  {
   "cell_type": "code",
   "execution_count": 13,
   "metadata": {
    "execution": {
     "iopub.execute_input": "2022-11-12T05:19:14.509313Z",
     "iopub.status.busy": "2022-11-12T05:19:14.508877Z",
     "iopub.status.idle": "2022-11-12T05:19:14.645936Z",
     "shell.execute_reply": "2022-11-12T05:19:14.645244Z",
     "shell.execute_reply.started": "2022-11-12T05:19:14.509183Z"
    }
   },
   "outputs": [
    {
     "name": "stdout",
     "output_type": "stream",
     "text": [
      "0.8939393939393939\n"
     ]
    }
   ],
   "source": [
    "# baseline in performance with logistic regression model\n",
    "from sklearn.datasets import make_classification\n",
    "from sklearn.preprocessing import MinMaxScaler\n",
    "from sklearn.preprocessing import LabelEncoder\n",
    "from sklearn.model_selection import train_test_split\n",
    "from sklearn.linear_model import LogisticRegression\n",
    "from sklearn.metrics import accuracy_score\n",
    "\n",
    "# define dataset\n",
    "X, y = make_classification(n_samples=1000, n_features=100, n_informative=10, n_redundant=90, random_state=1)\n",
    "\n",
    "# split into train test sets\n",
    "X_train, X_test, y_train, y_test = train_test_split(X, y, test_size=0.33, random_state=1)\n",
    "\n",
    "# scale data\n",
    "t = MinMaxScaler()\n",
    "t.fit(X_train)\n",
    "X_train = t.transform(X_train)\n",
    "X_test = t.transform(X_test)\n",
    "\n",
    "# define model\n",
    "model = LogisticRegression()\n",
    "\n",
    "# fit model on training set\n",
    "model.fit(X_train, y_train)\n",
    "\n",
    "# make prediction on test set\n",
    "yhat = model.predict(X_test)\n",
    "\n",
    "# calculate accuracy\n",
    "acc = accuracy_score(y_test, yhat)\n",
    "print(acc)"
   ]
  },
  {
   "cell_type": "markdown",
   "metadata": {},
   "source": [
    "**`In this case, we can see that the model achieves a classification accuracy of about 89.3 percent`**.\n",
    "\n",
    "We would hope and expect that a logistic regression model fit on an encoded version of the input to achieve better accuracy for the encoding to be considered useful."
   ]
  },
  {
   "cell_type": "code",
   "execution_count": 14,
   "metadata": {
    "execution": {
     "iopub.execute_input": "2022-11-12T05:19:14.650701Z",
     "iopub.status.busy": "2022-11-12T05:19:14.649129Z",
     "iopub.status.idle": "2022-11-12T05:19:14.957046Z",
     "shell.execute_reply": "2022-11-12T05:19:14.956301Z",
     "shell.execute_reply.started": "2022-11-12T05:19:14.650667Z"
    }
   },
   "outputs": [
    {
     "name": "stdout",
     "output_type": "stream",
     "text": [
      "0.8909090909090909\n"
     ]
    }
   ],
   "source": [
    "# evaluate logistic regression on encoded input\n",
    "from sklearn.datasets import make_classification\n",
    "from sklearn.preprocessing import MinMaxScaler\n",
    "from sklearn.preprocessing import LabelEncoder\n",
    "from sklearn.model_selection import train_test_split\n",
    "from sklearn.linear_model import LogisticRegression\n",
    "from sklearn.metrics import accuracy_score\n",
    "from tensorflow.keras.models import load_model\n",
    "\n",
    "# define dataset\n",
    "X, y = make_classification(n_samples=1000, n_features=100, n_informative=10, n_redundant=90, random_state=1)\n",
    "\n",
    "# split into train test sets\n",
    "X_train, X_test, y_train, y_test = train_test_split(X, y, test_size=0.33, random_state=1)\n",
    "\n",
    "# scale data\n",
    "t = MinMaxScaler()\n",
    "t.fit(X_train)\n",
    "X_train = t.transform(X_train)\n",
    "X_test = t.transform(X_test)\n",
    "\n",
    "# load the model from file\n",
    "encoder = load_model('encoder.h5')\n",
    "\n",
    "## We can then use the encoder to transform the raw input data (e.g. 100 columns) \n",
    "## into bottleneck vectors (e.g. 50 element vectors).\n",
    "# encode the train data\n",
    "X_train_encode = encoder.predict(X_train)\n",
    "# encode the test data\n",
    "X_test_encode = encoder.predict(X_test)\n",
    "## So effectively , its like dimensinality reduction or feature extraction\n",
    "\n",
    "# define the model\n",
    "model = LogisticRegression(max_iter = 200)  \n",
    "## specifying max_iter = 200 , to avoid the CONVERGENCE WARNING\n",
    "## Why do we get CONVERGENCE WARNING ?\n",
    "## because the model has converged already , but our loop is still training ovwr many epochs.\n",
    "## Reduce the epochs\n",
    "\n",
    "# fit the model on the training set\n",
    "model.fit(X_train_encode, y_train)\n",
    "\n",
    "# make predictions on the test set\n",
    "yhat = model.predict(X_test_encode)\n",
    "\n",
    "# calculate classification accuracy\n",
    "acc = accuracy_score(y_test, yhat)\n",
    "print(acc)"
   ]
  },
  {
   "cell_type": "markdown",
   "metadata": {},
   "source": [
    "`In this case, we can see that the model achieves a classification accuracy of about ~ 93 or 94 percent.`\n",
    "\n",
    "This is a better classification accuracy than the same model evaluated on the raw dataset, **`suggesting that the encoding is helpful for our chosen model`** "
   ]
  },
  {
   "cell_type": "markdown",
   "metadata": {},
   "source": [
    "## Summary \n",
    "\n",
    "1. We know WHAT are Auto Encoders -> They are 2 models combined -> Encoder + Decoder \n",
    "\n",
    "2. We understood WHY Autoencoders are used -> mainly for feature extraction -> finding important features which describe the data best\n",
    "\n",
    "3. We understood WHERE to use it -> by solving a simple CLASSIFICATION problem feeding it data encoded by an Trained Autoencoder\n",
    "\n",
    "4. Other Applications of Autoencoders are like : \n",
    "\n",
    "> Image Compression\n",
    "\n",
    "> Image Denoising\n",
    "\n",
    "> Image generation\n",
    "\n",
    "> Sequence to sequence prediction\n",
    "\n",
    "> Recommendation system\n",
    "\n",
    "<hr />\n",
    "\n",
    "<h4>We can be connected over on Linkedin  <a href=\"linkedin.com/in/rocky-jagtiani-3b390649/\">here.</a></h4>\n",
    "\n",
    "<hr />\n",
    "\n",
    "More Reading : <br />\n",
    "https://iq.opengenus.org/applications-of-autoencoders/"
   ]
  }
 ],
 "metadata": {
  "kernelspec": {
   "display_name": "Python 3",
   "language": "python",
   "name": "python3"
  },
  "language_info": {
   "codemirror_mode": {
    "name": "ipython",
    "version": 3
   },
   "file_extension": ".py",
   "mimetype": "text/x-python",
   "name": "python",
   "nbconvert_exporter": "python",
   "pygments_lexer": "ipython3",
   "version": "3.10.9 (tags/v3.10.9:1dd9be6, Dec  6 2022, 20:01:21) [MSC v.1934 64 bit (AMD64)]"
  },
  "vscode": {
   "interpreter": {
    "hash": "26de051ba29f2982a8de78e945f0abaf191376122a1563185a90213a26c5da77"
   }
  }
 },
 "nbformat": 4,
 "nbformat_minor": 4
}
