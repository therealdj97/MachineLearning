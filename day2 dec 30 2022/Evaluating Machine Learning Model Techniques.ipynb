{
 "cells": [
  {
   "cell_type": "markdown",
   "id": "50d20e7a",
   "metadata": {},
   "source": [
    "# Evaluating Binary Classifier Predictions"
   ]
  },
  {
   "cell_type": "code",
   "execution_count": null,
   "id": "6d47d08a",
   "metadata": {},
   "outputs": [],
   "source": [
    "Accuracy is a performance metric that is used to tell a strong classification model from one that is weak\n",
    "\n",
    "Accuracy is the total proportion of observations that have been correctly predicted\n",
    "\n",
    "There are 4 main components that comprise the mathematical formula for calculating accuracy: TP, TN, FP, FN, these \n",
    "    components grant us the ability to explore other ML Model Evaluation Metrics"
   ]
  },
  {
   "cell_type": "code",
   "execution_count": null,
   "id": "35c3eae7",
   "metadata": {},
   "outputs": [],
   "source": [
    "TP represents the number of True Positives.\n",
    "Refers to the total number of observations that belong to the positive class and have been predicted correctly"
   ]
  },
  {
   "cell_type": "code",
   "execution_count": null,
   "id": "8d07f37c",
   "metadata": {},
   "outputs": [],
   "source": [
    "TN = True Negatives\n",
    "This is the total no. of observations that belong to the negative class and have been predicted correctly"
   ]
  },
  {
   "cell_type": "code",
   "execution_count": null,
   "id": "6ff3ad9a",
   "metadata": {},
   "outputs": [],
   "source": [
    "FP = False Positive = Type1 Error\n",
    "Total no. of obs that have been predicted to belong to the positive class, but instead they actually belong to -ve class"
   ]
  },
  {
   "cell_type": "code",
   "execution_count": null,
   "id": "4108905b",
   "metadata": {},
   "outputs": [],
   "source": [
    "FN = False Negative = Type 2 Error\n",
    "Total no. of obs that have been predicted to be a part of the negative class but instead belong to +ve class"
   ]
  },
  {
   "cell_type": "markdown",
   "id": "653ef8f6",
   "metadata": {},
   "source": [
    "# Accuracy = TP + TN/(TP+FP+TN+FN)"
   ]
  },
  {
   "cell_type": "markdown",
   "id": "ca5f7a98",
   "metadata": {},
   "source": [
    "# Preicison = TP/TP+FP"
   ]
  },
  {
   "cell_type": "markdown",
   "id": "f312d7da",
   "metadata": {},
   "source": [
    "# Recall = TP/TP+FN"
   ]
  },
  {
   "cell_type": "code",
   "execution_count": null,
   "id": "15d7721b",
   "metadata": {},
   "outputs": [],
   "source": [
    "Recall is the proportion of obs predicted to belong to the +ve class, that truly belongs to the +ve class.\n",
    "It indirectly tells us the models ability to randomly identify an obs that belongs to the +ve class"
   ]
  },
  {
   "cell_type": "markdown",
   "id": "e4f2ecd0",
   "metadata": {},
   "source": [
    "# F1 Score = 2*Precision*Recall / (Precision+Recall)"
   ]
  },
  {
   "cell_type": "code",
   "execution_count": null,
   "id": "0d05e18e",
   "metadata": {},
   "outputs": [],
   "source": [
    "F1 score is also known as harmonic mean of precision and recall evaluation metrics\n",
    "It is a measure of overall correctness that our model has achieved in a positive prediction env\n",
    "\n",
    "Eg: if +ve labelled, how many are actually +ve"
   ]
  },
  {
   "cell_type": "markdown",
   "id": "e4f3bc22",
   "metadata": {},
   "source": [
    "# Evaluating Multiclass Classifier Predictions"
   ]
  },
  {
   "cell_type": "code",
   "execution_count": null,
   "id": "d59b5ef4",
   "metadata": {},
   "outputs": [],
   "source": [
    "_macro-here we specify to the compiler to calculate the mean of metric scores for each class in the dataset, weighting each class equally\n",
    "\n",
    "_weighted-the mean of metric scores for each class, we weigh each class directly proportional to its size in dataset\n",
    "_micro-mean of metric scores for each obs in the dataset"
   ]
  }
 ],
 "metadata": {
  "kernelspec": {
   "display_name": "Python 3 (ipykernel)",
   "language": "python",
   "name": "python3"
  },
  "language_info": {
   "codemirror_mode": {
    "name": "ipython",
    "version": 3
   },
   "file_extension": ".py",
   "mimetype": "text/x-python",
   "name": "python",
   "nbconvert_exporter": "python",
   "pygments_lexer": "ipython3",
   "version": "3.9.13"
  }
 },
 "nbformat": 4,
 "nbformat_minor": 5
}
