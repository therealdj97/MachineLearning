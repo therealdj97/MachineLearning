{
 "cells": [
  {
   "cell_type": "code",
   "execution_count": null,
   "id": "fcae36b5",
   "metadata": {},
   "outputs": [],
   "source": [
    "Anomaly detection is a process of finding thoserare items, data points, \n",
    "events or observations that make suspicions by being different from the rest data points or observations\n",
    "\n",
    "Anomaly detection is also known as outlier detection"
   ]
  },
  {
   "cell_type": "code",
   "execution_count": null,
   "id": "86060715",
   "metadata": {},
   "outputs": [],
   "source": [
    "Bank fraud, medical problems, malfunctioning equipment"
   ]
  },
  {
   "cell_type": "code",
   "execution_count": null,
   "id": "578bf591",
   "metadata": {},
   "outputs": [],
   "source": [
    "Types of Anomaly detection:\n",
    "    \n",
    "1. Point anomaly = atuple within the dataset can be said as a point anomaly if it is far away from the rest of the data\n",
    "Eg: a sudden huge transaction of a huge amount from a credit card\n",
    "    \n",
    "2. Contextual anomaly: known as Conditional outliers. If a particular obs is different from other data points. \n",
    "    \n",
    "3. Collective Anomaly: they occur when a data point within a set is anomalous for the whole dataset, \n",
    "    such values are collective outliers."
   ]
  },
  {
   "cell_type": "code",
   "execution_count": null,
   "id": "4cde2e63",
   "metadata": {},
   "outputs": [],
   "source": [
    "Supervised Anomaly detection: needs labelled training data, both normal and anomalous data for creating predictive models\n",
    "    KNN\n",
    "    Bayesian network\n",
    "    \n",
    "    Advantages:\n",
    "        capability of encoding interdependencies b/n variables of predicting events\n",
    "        "
   ]
  },
  {
   "cell_type": "code",
   "execution_count": null,
   "id": "06c16302",
   "metadata": {},
   "outputs": [],
   "source": [
    "Unsupervised Anomaly Detection:does not require labelled training data.\n",
    "    Assumptions:\n",
    "        1. most of the ntwk connections are from Normal traffic, and only a small amount of data is abnormal\n",
    "        2. Malicious traffic is statistically different from normal traffic\n",
    "        \n",
    "        Eg: self-organizing maps, k-means, c-means, expectation maximization, meta algorithm, SVM\n",
    "            Helps in catching fraud, discovering strange activity in large and complex data sets\n",
    "            \n",
    "            Areas: banking services, natural sciences, medicine, marketing, ..."
   ]
  },
  {
   "cell_type": "code",
   "execution_count": null,
   "id": "469b7290",
   "metadata": {},
   "outputs": [],
   "source": [
    "Need of AD:\n",
    "    1. Application performance\n",
    "    2. Product quality\n",
    "    3. User experience - gaming, online business"
   ]
  },
  {
   "cell_type": "code",
   "execution_count": 2,
   "id": "27e201d0",
   "metadata": {},
   "outputs": [
    {
     "name": "stdout",
     "output_type": "stream",
     "text": [
      "Collecting pyod\n",
      "  Downloading pyod-1.0.7.tar.gz (147 kB)\n",
      "     -------------------------------------- 147.7/147.7 kB 2.9 MB/s eta 0:00:00\n",
      "  Preparing metadata (setup.py): started\n",
      "  Preparing metadata (setup.py): finished with status 'done'\n",
      "Requirement already satisfied: joblib in c:\\users\\deepika\\anaconda3\\lib\\site-packages (from pyod) (1.2.0)\n",
      "Requirement already satisfied: matplotlib in c:\\users\\deepika\\anaconda3\\lib\\site-packages (from pyod) (3.5.2)\n",
      "Requirement already satisfied: numpy>=1.19 in c:\\users\\deepika\\anaconda3\\lib\\site-packages (from pyod) (1.21.5)\n",
      "Requirement already satisfied: numba>=0.51 in c:\\users\\deepika\\anaconda3\\lib\\site-packages (from pyod) (0.55.1)\n",
      "Requirement already satisfied: scipy>=1.5.1 in c:\\users\\deepika\\anaconda3\\lib\\site-packages (from pyod) (1.9.1)\n",
      "Requirement already satisfied: scikit_learn>=0.20.0 in c:\\users\\deepika\\anaconda3\\lib\\site-packages (from pyod) (1.2.0)\n",
      "Requirement already satisfied: six in c:\\users\\deepika\\anaconda3\\lib\\site-packages (from pyod) (1.16.0)\n",
      "Requirement already satisfied: statsmodels in c:\\users\\deepika\\anaconda3\\lib\\site-packages (from pyod) (0.13.2)\n",
      "Requirement already satisfied: setuptools in c:\\users\\deepika\\anaconda3\\lib\\site-packages (from numba>=0.51->pyod) (63.4.1)\n",
      "Requirement already satisfied: llvmlite<0.39,>=0.38.0rc1 in c:\\users\\deepika\\anaconda3\\lib\\site-packages (from numba>=0.51->pyod) (0.38.0)\n",
      "Requirement already satisfied: threadpoolctl>=2.0.0 in c:\\users\\deepika\\anaconda3\\lib\\site-packages (from scikit_learn>=0.20.0->pyod) (2.2.0)\n",
      "Requirement already satisfied: pyparsing>=2.2.1 in c:\\users\\deepika\\anaconda3\\lib\\site-packages (from matplotlib->pyod) (3.0.9)\n",
      "Requirement already satisfied: packaging>=20.0 in c:\\users\\deepika\\anaconda3\\lib\\site-packages (from matplotlib->pyod) (21.3)\n",
      "Requirement already satisfied: pillow>=6.2.0 in c:\\users\\deepika\\anaconda3\\lib\\site-packages (from matplotlib->pyod) (9.2.0)\n",
      "Requirement already satisfied: cycler>=0.10 in c:\\users\\deepika\\anaconda3\\lib\\site-packages (from matplotlib->pyod) (0.11.0)\n",
      "Requirement already satisfied: kiwisolver>=1.0.1 in c:\\users\\deepika\\anaconda3\\lib\\site-packages (from matplotlib->pyod) (1.4.2)\n",
      "Requirement already satisfied: python-dateutil>=2.7 in c:\\users\\deepika\\anaconda3\\lib\\site-packages (from matplotlib->pyod) (2.8.2)\n",
      "Requirement already satisfied: fonttools>=4.22.0 in c:\\users\\deepika\\anaconda3\\lib\\site-packages (from matplotlib->pyod) (4.25.0)\n",
      "Requirement already satisfied: pandas>=0.25 in c:\\users\\deepika\\anaconda3\\lib\\site-packages (from statsmodels->pyod) (1.4.4)\n",
      "Requirement already satisfied: patsy>=0.5.2 in c:\\users\\deepika\\anaconda3\\lib\\site-packages (from statsmodels->pyod) (0.5.2)\n",
      "Requirement already satisfied: pytz>=2020.1 in c:\\users\\deepika\\anaconda3\\lib\\site-packages (from pandas>=0.25->statsmodels->pyod) (2022.1)\n",
      "Building wheels for collected packages: pyod\n",
      "  Building wheel for pyod (setup.py): started\n",
      "  Building wheel for pyod (setup.py): finished with status 'done'\n",
      "  Created wheel for pyod: filename=pyod-1.0.7-py3-none-any.whl size=181085 sha256=2a8cb2340702ca38a61ba348bae01b50fa07b1d410c8f956bdd6145d08185359\n",
      "  Stored in directory: c:\\users\\deepika\\appdata\\local\\pip\\cache\\wheels\\f4\\1b\\1a\\a1d14cff28ea755d9c482bf64e2f349e1768504563856d7413\n",
      "Successfully built pyod\n",
      "Installing collected packages: pyod\n",
      "Successfully installed pyod-1.0.7\n"
     ]
    }
   ],
   "source": [
    "!pip install pyod"
   ]
  },
  {
   "cell_type": "code",
   "execution_count": 4,
   "id": "0cf94df9",
   "metadata": {},
   "outputs": [],
   "source": [
    "import numpy as np\n",
    "from scipy import stats\n",
    "import matplotlib.pyplot as plt\n",
    "from pyod.models.knn import KNN\n",
    "from pyod.utils.data import generate_data, get_outliers_inliers"
   ]
  },
  {
   "cell_type": "code",
   "execution_count": null,
   "id": "58988633",
   "metadata": {},
   "outputs": [],
   "source": [
    "python lib for detecting outlying objects in multivariate data"
   ]
  },
  {
   "cell_type": "code",
   "execution_count": 16,
   "id": "eee7f43e",
   "metadata": {},
   "outputs": [],
   "source": [
    "X_train, y_train = generate_data(n_train = 300, train_only = True, n_features = 2)\n",
    "outlier_fraction = 0.1\n",
    "\n",
    "X_outliers, X_inliers = get_outliers_inliers(X_train, y_train)\n",
    "n_inliers = len(X_inliers)\n",
    "n_outliers = len(X_outliers)\n",
    "\n",
    "f1 = X_train[:, [0]].reshape(-1,1)\n",
    "f2 = X_train[:, [1]].reshape(-1,1)"
   ]
  },
  {
   "cell_type": "code",
   "execution_count": 17,
   "id": "edc15474",
   "metadata": {},
   "outputs": [
    {
     "data": {
      "text/plain": [
       "Text(0, 0.5, 'Feature 2')"
      ]
     },
     "execution_count": 17,
     "metadata": {},
     "output_type": "execute_result"
    },
    {
     "data": {
      "image/png": "[encoded data removed]",
      "text/plain": [
       "<Figure size 640x480 with 1 Axes>"
      ]
     },
     "metadata": {},
     "output_type": "display_data"
    }
   ],
   "source": [
    "xx, yy = np.meshgrid(np.linspace(-10,10,200), np.linspace(-10,10,200))\n",
    "plt.scatter(f1,f2)\n",
    "plt.xlabel('Feature 1')\n",
    "plt.ylabel('Feature 2')"
   ]
  },
  {
   "cell_type": "code",
   "execution_count": 20,
   "id": "4b6ad753",
   "metadata": {},
   "outputs": [
    {
     "name": "stdout",
     "output_type": "stream",
     "text": [
      "no. of prediction errors is:53\n"
     ]
    },
    {
     "name": "stderr",
     "output_type": "stream",
     "text": [
      "C:\\Users\\DEEPIKA\\anaconda3\\lib\\site-packages\\pyod\\models\\base.py:431: UserWarning: y should not be presented in unsupervised learning.\n",
      "  warnings.warn(\n"
     ]
    }
   ],
   "source": [
    "clf = KNN(contamination = outlier_fraction)\n",
    "clf.fit(X_train, y_train)\n",
    "\n",
    "scores_pred = clf.decision_function(X_train)*-1\n",
    "\n",
    "y_pred = clf.predict(X_train)\n",
    "n_errors = (y_pred != y_train).sum()\n",
    "\n",
    "print(\"no. of prediction errors is:\" + str(n_errors))"
   ]
  },
  {
   "cell_type": "code",
   "execution_count": 22,
   "id": "3250509c",
   "metadata": {},
   "outputs": [],
   "source": [
    "import matplotlib.pyplot as plt"
   ]
  },
  {
   "cell_type": "code",
   "execution_count": 24,
   "id": "6f40410c",
   "metadata": {},
   "outputs": [
    {
     "ename": "AttributeError",
     "evalue": "module 'matplotlib.pyplot' has no attribute 'font_manager'",
     "output_type": "error",
     "traceback": [
      "\u001b[1;31m---------------------------------------------------------------------------\u001b[0m",
      "\u001b[1;31mAttributeError\u001b[0m                            Traceback (most recent call last)",
      "\u001b[1;32m~\\AppData\\Local\\Temp\\ipykernel_12532\\3367728902.py\u001b[0m in \u001b[0;36m<module>\u001b[1;34m\u001b[0m\n\u001b[0;32m     28\u001b[0m \u001b[0msubplot\u001b[0m\u001b[1;33m.\u001b[0m\u001b[0maxis\u001b[0m\u001b[1;33m(\u001b[0m\u001b[1;34m'tight'\u001b[0m\u001b[1;33m)\u001b[0m\u001b[1;33m\u001b[0m\u001b[1;33m\u001b[0m\u001b[0m\n\u001b[0;32m     29\u001b[0m \u001b[1;33m\u001b[0m\u001b[0m\n\u001b[1;32m---> 30\u001b[1;33m \u001b[0msubplot\u001b[0m\u001b[1;33m.\u001b[0m\u001b[0mlegend\u001b[0m\u001b[1;33m(\u001b[0m\u001b[1;33m[\u001b[0m\u001b[0ma\u001b[0m\u001b[1;33m.\u001b[0m\u001b[0mcollections\u001b[0m\u001b[1;33m[\u001b[0m\u001b[1;36m0\u001b[0m\u001b[1;33m]\u001b[0m\u001b[1;33m,\u001b[0m \u001b[0mb\u001b[0m\u001b[1;33m,\u001b[0m \u001b[0mc\u001b[0m\u001b[1;33m]\u001b[0m\u001b[1;33m,\u001b[0m\u001b[1;33m[\u001b[0m\u001b[1;34m'learned decision function'\u001b[0m\u001b[1;33m,\u001b[0m \u001b[1;34m'true inliers'\u001b[0m\u001b[1;33m,\u001b[0m \u001b[1;34m'true outliers'\u001b[0m\u001b[1;33m]\u001b[0m\u001b[1;33m,\u001b[0m\u001b[0mprop\u001b[0m \u001b[1;33m=\u001b[0m \u001b[0mplt\u001b[0m\u001b[1;33m.\u001b[0m\u001b[0mfont_manager\u001b[0m\u001b[1;33m.\u001b[0m\u001b[0mFontProperties\u001b[0m\u001b[1;33m(\u001b[0m\u001b[0msize\u001b[0m \u001b[1;33m=\u001b[0m \u001b[1;36m10\u001b[0m\u001b[1;33m)\u001b[0m\u001b[1;33m,\u001b[0m \u001b[0mloc\u001b[0m \u001b[1;33m=\u001b[0m\u001b[1;34m'lower right'\u001b[0m\u001b[1;33m)\u001b[0m\u001b[1;33m\u001b[0m\u001b[1;33m\u001b[0m\u001b[0m\n\u001b[0m\u001b[0;32m     31\u001b[0m \u001b[1;33m\u001b[0m\u001b[0m\n\u001b[0;32m     32\u001b[0m \u001b[0msubplot\u001b[0m\u001b[1;33m.\u001b[0m\u001b[0mset_title\u001b[0m\u001b[1;33m(\u001b[0m\u001b[1;34m'K-Nearest Neighbours'\u001b[0m\u001b[1;33m)\u001b[0m\u001b[1;33m\u001b[0m\u001b[1;33m\u001b[0m\u001b[0m\n",
      "\u001b[1;31mAttributeError\u001b[0m: module 'matplotlib.pyplot' has no attribute 'font_manager'"
     ]
    },
    {
     "data": {
      "image/png": "[encoded data removed]",
      "text/plain": [
       "<Figure size 640x480 with 1 Axes>"
      ]
     },
     "metadata": {},
     "output_type": "display_data"
    }
   ],
   "source": [
    "# threshold value to consider a\n",
    "# datapoint inlier or outlier\n",
    "threshold = stats.scoreatpercentile(scores_pred, 100 * outlier_fraction)\n",
    "\n",
    "# decision function calculates the raw\n",
    "# anomaly score for every point\n",
    "Z = clf.decision_function(np.c_[xx.ravel(), yy.ravel()]) * -1\n",
    "Z = Z.reshape(xx.shape)\n",
    "\n",
    "# fill blue colormap from minimum anomaly\n",
    "# score to threshold value\n",
    "subplot = plt.subplot(1, 2, 1)\n",
    "subplot.contourf(xx, yy, Z, levels = np.linspace(Z.min(), threshold, 10), cmap = plt.cm.Blues_r)\n",
    "\n",
    "# draw red contour line where anomaly\n",
    "# score is equal to threshold\n",
    "a = subplot.contour(xx, yy, Z, levels =[threshold], linewidths = 2, colors ='red')\n",
    "\n",
    "# fill orange contour lines where range of anomaly\n",
    "# score is from threshold to maximum anomaly score\n",
    "subplot.contourf(xx, yy, Z, levels =[threshold, Z.max()], colors ='orange')\n",
    "\n",
    "# scatter plot of inliers with white dots\n",
    "b = subplot.scatter(X_train[:-n_outliers, 0], X_train[:-n_outliers, 1], c ='white', s = 20, edgecolor ='k')\n",
    "\n",
    "# scatter plot of outliers with black dots\n",
    "c = subplot.scatter(X_train[-n_outliers:, 0], X_train[-n_outliers:, 1], c ='black', s = 20, edgecolor ='k')\n",
    "subplot.axis('tight')\n",
    "\n",
    "subplot.legend([a.collections[0], b, c],['learned decision function', 'true inliers', 'true outliers'],prop = plt.font_manager.FontProperties(size = 10), loc ='lower right')\n",
    "\n",
    "subplot.set_title('K-Nearest Neighbours')\n",
    "subplot.set_xlim((-10, 10))\n",
    "subplot.set_ylim((-10, 10))\n",
    "plt.show()\n"
   ]
  },
  {
   "cell_type": "code",
   "execution_count": null,
   "id": "2add5c75",
   "metadata": {},
   "outputs": [],
   "source": []
  },
  {
   "cell_type": "code",
   "execution_count": null,
   "id": "ac76f036",
   "metadata": {},
   "outputs": [],
   "source": []
  },
  {
   "cell_type": "code",
   "execution_count": null,
   "id": "3c1c5fb6",
   "metadata": {},
   "outputs": [],
   "source": []
  },
  {
   "cell_type": "code",
   "execution_count": null,
   "id": "f43aad9b",
   "metadata": {},
   "outputs": [],
   "source": []
  },
  {
   "cell_type": "code",
   "execution_count": null,
   "id": "bd1a84fa",
   "metadata": {},
   "outputs": [],
   "source": []
  },
  {
   "cell_type": "code",
   "execution_count": null,
   "id": "72f1830b",
   "metadata": {},
   "outputs": [],
   "source": []
  },
  {
   "cell_type": "code",
   "execution_count": null,
   "id": "efebed5a",
   "metadata": {},
   "outputs": [],
   "source": []
  },
  {
   "cell_type": "code",
   "execution_count": null,
   "id": "95a93fa8",
   "metadata": {},
   "outputs": [],
   "source": []
  }
 ],
 "metadata": {
  "kernelspec": {
   "display_name": "Python 3",
   "language": "python",
   "name": "python3"
  },
  "language_info": {
   "codemirror_mode": {
    "name": "ipython",
    "version": 3
   },
   "file_extension": ".py",
   "mimetype": "text/x-python",
   "name": "python",
   "nbconvert_exporter": "python",
   "pygments_lexer": "ipython3",
   "version": "3.10.9 (tags/v3.10.9:1dd9be6, Dec  6 2022, 20:01:21) [MSC v.1934 64 bit (AMD64)]"
  },
  "vscode": {
   "interpreter": {
    "hash": "26de051ba29f2982a8de78e945f0abaf191376122a1563185a90213a26c5da77"
   }
  }
 },
 "nbformat": 4,
 "nbformat_minor": 5
}
