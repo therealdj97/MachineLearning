{
 "cells": [
  {
   "cell_type": "markdown",
   "id": "d9c240c5",
   "metadata": {
    "papermill": {
     "duration": 0.039815,
     "end_time": "2022-01-17T08:50:00.651465",
     "exception": false,
     "start_time": "2022-01-17T08:50:00.611650",
     "status": "completed"
    },
    "tags": []
   },
   "source": [
    "# <center><span style=\"font-family:cursive;\">Decision Tree from scratch</span></center>"
   ]
  },
  {
   "cell_type": "markdown",
   "id": "f77544d0",
   "metadata": {
    "papermill": {
     "duration": 0.028092,
     "end_time": "2022-01-17T08:50:00.716179",
     "exception": false,
     "start_time": "2022-01-17T08:50:00.688087",
     "status": "completed"
    },
    "tags": []
   },
   "source": [
    "![](https://miro.medium.com/max/1400/1*Qy8wtdBnnlP3gz9gG6olvQ.jpeg)"
   ]
  },
  {
   "cell_type": "markdown",
   "id": "4d07a876",
   "metadata": {
    "papermill": {
     "duration": 0.027208,
     "end_time": "2022-01-17T08:50:00.771059",
     "exception": false,
     "start_time": "2022-01-17T08:50:00.743851",
     "status": "completed"
    },
    "tags": []
   },
   "source": [
    "# <span style=\"font-family:cursive;\">What is Decision tree ?</span>"
   ]
  },
  {
   "cell_type": "markdown",
   "id": "14ed6f8d",
   "metadata": {
    "papermill": {
     "duration": 0.026014,
     "end_time": "2022-01-17T08:50:00.823687",
     "exception": false,
     "start_time": "2022-01-17T08:50:00.797673",
     "status": "completed"
    },
    "tags": []
   },
   "source": [
    "Decision trees can be used for classification as well as regression problems ( C A R T ). The name itself suggests that it uses a flowchart like a tree structure to show the predictions that result from a series of feature-based splits. It starts with a root node and ends with a decision made by leaves.\n",
    "\n",
    "Programatically, Decision trees are nothing but a gaint structure of nested if - else condition.\n",
    "\n",
    "Mathematically, Decisio trees use hyperplanes which run parallel to any one of the axes to cut your co-ordinate system into hyper cuboids."
   ]
  },
  {
   "cell_type": "markdown",
   "id": "a82520e6",
   "metadata": {
    "papermill": {
     "duration": 0.026509,
     "end_time": "2022-01-17T08:50:00.878805",
     "exception": false,
     "start_time": "2022-01-17T08:50:00.852296",
     "status": "completed"
    },
    "tags": []
   },
   "source": [
    "![](https://developers.bloomreach.com/binaries/original/content/gallery/developer/blog/decision-tree.jpg)"
   ]
  },
  {
   "cell_type": "markdown",
   "id": "043c8b2f",
   "metadata": {
    "papermill": {
     "duration": 0.026017,
     "end_time": "2022-01-17T08:50:00.931447",
     "exception": false,
     "start_time": "2022-01-17T08:50:00.905430",
     "status": "completed"
    },
    "tags": []
   },
   "source": [
    "<p>Before learning more about decision trees let’s get familiar with some of the terminologies.<br>\n",
    "    \n",
    "<b>Root Nodes</b> – It is the node present at the beginning of a decision tree from this node the population starts dividing according to various features.<br>\n",
    "\n",
    "<b>Decision Nodes</b> – the nodes we get after splitting the root nodes are called Decision Node<br>\n",
    "\n",
    "<b>Leaf Nodes</b> – the nodes where further splitting is not possible are called leaf nodes or terminal nodes<br>\n",
    "\n",
    "<b>Sub-tree</b> – just like a small portion of a graph is called sub-graph similarly a sub-section of this decision tree is called sub-tree.<br>\n",
    "\n",
    "<b>Pruning</b> – is nothing but cutting down some nodes to stop overfitting.</p><br>"
   ]
  },
  {
   "cell_type": "markdown",
   "id": "da6e75e0",
   "metadata": {
    "papermill": {
     "duration": 0.026434,
     "end_time": "2022-01-17T08:50:00.983989",
     "exception": false,
     "start_time": "2022-01-17T08:50:00.957555",
     "status": "completed"
    },
    "tags": []
   },
   "source": [
    "Types of decision tree : **Classification Tree** and **Regression Tree**.<br>\n",
    "\n",
    "There are 4 different types of splitting criteria : \n",
    "* Categorical Target Variable (classification) : **Information Gain** , **Gini Impurity** and **Chi-Square** \n",
    "* Continuous Target Variable (regression) : **Reduction in Variance**."
   ]
  },
  {
   "cell_type": "markdown",
   "id": "e9b6fd98",
   "metadata": {
    "papermill": {
     "duration": 0.027159,
     "end_time": "2022-01-17T08:50:01.037765",
     "exception": false,
     "start_time": "2022-01-17T08:50:01.010606",
     "status": "completed"
    },
    "tags": []
   },
   "source": [
    "# <span style=\"font-family:cursive;\">Information Gain</span>\n",
    "Information gain is used to decide which feature to split on at each step in building the tree. It works on the concept of the entropy. Entropy is used for calculating the purity of a node. Lower the value of entropy, higher is the purity of the node. \n",
    "\n",
    "#### Entropy = $- \\sum\\limits_{i=1}^{n} p_i \\space log_2 \\space p_i $\n",
    "where,\n",
    "> n = number of class in the target variable\n",
    "\n",
    "#### Information Gain = $ entropy(parent) - \\sum\\limits_{i=1}^{n} weighted \\space average_i*entropy(child)_i$\n",
    "where,\n",
    "> n = number of class in the selected feature"
   ]
  },
  {
   "cell_type": "code",
   "execution_count": 1,
   "id": "36a8d740",
   "metadata": {
    "execution": {
     "iopub.execute_input": "2022-01-17T08:50:01.101518Z",
     "iopub.status.busy": "2022-01-17T08:50:01.100908Z",
     "iopub.status.idle": "2022-01-17T08:50:01.119586Z",
     "shell.execute_reply": "2022-01-17T08:50:01.118898Z",
     "shell.execute_reply.started": "2022-01-17T08:34:52.209323Z"
    },
    "papermill": {
     "duration": 0.054948,
     "end_time": "2022-01-17T08:50:01.119749",
     "exception": false,
     "start_time": "2022-01-17T08:50:01.064801",
     "status": "completed"
    },
    "tags": []
   },
   "outputs": [],
   "source": [
    "# Importing the required libraries\n",
    "import pandas as pd\n",
    "import numpy as np\n",
    "import math\n",
    "\n",
    "# Reading the dataset (Tennis-dataset)\n",
    "data = pd.read_csv('C://Users//DEEPIKA//Documents//Machine Learning//ID3 Algorithm//PlayTennis.csv')"
   ]
  },
  {
   "cell_type": "code",
   "execution_count": 2,
   "id": "74816dfc",
   "metadata": {
    "_kg_hide-input": true,
    "execution": {
     "iopub.execute_input": "2022-01-17T08:50:01.176508Z",
     "iopub.status.busy": "2022-01-17T08:50:01.175576Z",
     "iopub.status.idle": "2022-01-17T08:50:01.261905Z",
     "shell.execute_reply": "2022-01-17T08:50:01.262443Z",
     "shell.execute_reply.started": "2022-01-17T08:34:55.388523Z"
    },
    "papermill": {
     "duration": 0.115986,
     "end_time": "2022-01-17T08:50:01.262622",
     "exception": false,
     "start_time": "2022-01-17T08:50:01.146636",
     "status": "completed"
    },
    "tags": []
   },
   "outputs": [
    {
     "data": {
      "text/html": [
       "<style type=\"text/css\">\n",
       "#T_2673b th {\n",
       "  background-color: lightgray;\n",
       "  border: 1px solid gray;\n",
       "  font-weight: bold;\n",
       "}\n",
       "#T_2673b tr:hover {\n",
       "  background-color: white;\n",
       "  border: 1.5px solid black;\n",
       "}\n",
       "#T_2673b_row0_col0, #T_2673b_row0_col1, #T_2673b_row0_col2, #T_2673b_row0_col3, #T_2673b_row1_col0, #T_2673b_row1_col1, #T_2673b_row1_col2, #T_2673b_row1_col3, #T_2673b_row2_col0, #T_2673b_row2_col1, #T_2673b_row2_col2, #T_2673b_row2_col3, #T_2673b_row3_col0, #T_2673b_row3_col1, #T_2673b_row3_col2, #T_2673b_row3_col3, #T_2673b_row4_col0, #T_2673b_row4_col1, #T_2673b_row4_col2, #T_2673b_row4_col3, #T_2673b_row5_col0, #T_2673b_row5_col1, #T_2673b_row5_col2, #T_2673b_row5_col3, #T_2673b_row6_col0, #T_2673b_row6_col1, #T_2673b_row6_col2, #T_2673b_row6_col3, #T_2673b_row7_col0, #T_2673b_row7_col1, #T_2673b_row7_col2, #T_2673b_row7_col3, #T_2673b_row8_col0, #T_2673b_row8_col1, #T_2673b_row8_col2, #T_2673b_row8_col3, #T_2673b_row9_col0, #T_2673b_row9_col1, #T_2673b_row9_col2, #T_2673b_row9_col3, #T_2673b_row10_col0, #T_2673b_row10_col1, #T_2673b_row10_col2, #T_2673b_row10_col3, #T_2673b_row11_col0, #T_2673b_row11_col1, #T_2673b_row11_col2, #T_2673b_row11_col3, #T_2673b_row12_col0, #T_2673b_row12_col1, #T_2673b_row12_col2, #T_2673b_row12_col3, #T_2673b_row13_col0, #T_2673b_row13_col1, #T_2673b_row13_col2, #T_2673b_row13_col3 {\n",
       "  width: 100px;\n",
       "}\n",
       "#T_2673b_row0_col4, #T_2673b_row1_col4, #T_2673b_row5_col4, #T_2673b_row7_col4, #T_2673b_row13_col4 {\n",
       "  background-color: pink;\n",
       "  width: 100px;\n",
       "}\n",
       "#T_2673b_row2_col4, #T_2673b_row3_col4, #T_2673b_row4_col4, #T_2673b_row6_col4, #T_2673b_row8_col4, #T_2673b_row9_col4, #T_2673b_row10_col4, #T_2673b_row11_col4, #T_2673b_row12_col4 {\n",
       "  background-color: lightgreen;\n",
       "  width: 100px;\n",
       "}\n",
       "</style>\n",
       "<table id=\"T_2673b\">\n",
       "  <thead>\n",
       "    <tr>\n",
       "      <th class=\"blank level0\" >&nbsp;</th>\n",
       "      <th id=\"T_2673b_level0_col0\" class=\"col_heading level0 col0\" >outlook</th>\n",
       "      <th id=\"T_2673b_level0_col1\" class=\"col_heading level0 col1\" >temp</th>\n",
       "      <th id=\"T_2673b_level0_col2\" class=\"col_heading level0 col2\" >humidity</th>\n",
       "      <th id=\"T_2673b_level0_col3\" class=\"col_heading level0 col3\" >windy</th>\n",
       "      <th id=\"T_2673b_level0_col4\" class=\"col_heading level0 col4\" >play</th>\n",
       "    </tr>\n",
       "  </thead>\n",
       "  <tbody>\n",
       "    <tr>\n",
       "      <th id=\"T_2673b_level0_row0\" class=\"row_heading level0 row0\" >0</th>\n",
       "      <td id=\"T_2673b_row0_col0\" class=\"data row0 col0\" >sunny</td>\n",
       "      <td id=\"T_2673b_row0_col1\" class=\"data row0 col1\" >hot</td>\n",
       "      <td id=\"T_2673b_row0_col2\" class=\"data row0 col2\" >high</td>\n",
       "      <td id=\"T_2673b_row0_col3\" class=\"data row0 col3\" >False</td>\n",
       "      <td id=\"T_2673b_row0_col4\" class=\"data row0 col4\" >no</td>\n",
       "    </tr>\n",
       "    <tr>\n",
       "      <th id=\"T_2673b_level0_row1\" class=\"row_heading level0 row1\" >1</th>\n",
       "      <td id=\"T_2673b_row1_col0\" class=\"data row1 col0\" >sunny</td>\n",
       "      <td id=\"T_2673b_row1_col1\" class=\"data row1 col1\" >hot</td>\n",
       "      <td id=\"T_2673b_row1_col2\" class=\"data row1 col2\" >high</td>\n",
       "      <td id=\"T_2673b_row1_col3\" class=\"data row1 col3\" >True</td>\n",
       "      <td id=\"T_2673b_row1_col4\" class=\"data row1 col4\" >no</td>\n",
       "    </tr>\n",
       "    <tr>\n",
       "      <th id=\"T_2673b_level0_row2\" class=\"row_heading level0 row2\" >2</th>\n",
       "      <td id=\"T_2673b_row2_col0\" class=\"data row2 col0\" >overcast</td>\n",
       "      <td id=\"T_2673b_row2_col1\" class=\"data row2 col1\" >hot</td>\n",
       "      <td id=\"T_2673b_row2_col2\" class=\"data row2 col2\" >high</td>\n",
       "      <td id=\"T_2673b_row2_col3\" class=\"data row2 col3\" >False</td>\n",
       "      <td id=\"T_2673b_row2_col4\" class=\"data row2 col4\" >yes</td>\n",
       "    </tr>\n",
       "    <tr>\n",
       "      <th id=\"T_2673b_level0_row3\" class=\"row_heading level0 row3\" >3</th>\n",
       "      <td id=\"T_2673b_row3_col0\" class=\"data row3 col0\" >rainy</td>\n",
       "      <td id=\"T_2673b_row3_col1\" class=\"data row3 col1\" >mild</td>\n",
       "      <td id=\"T_2673b_row3_col2\" class=\"data row3 col2\" >high</td>\n",
       "      <td id=\"T_2673b_row3_col3\" class=\"data row3 col3\" >False</td>\n",
       "      <td id=\"T_2673b_row3_col4\" class=\"data row3 col4\" >yes</td>\n",
       "    </tr>\n",
       "    <tr>\n",
       "      <th id=\"T_2673b_level0_row4\" class=\"row_heading level0 row4\" >4</th>\n",
       "      <td id=\"T_2673b_row4_col0\" class=\"data row4 col0\" >rainy</td>\n",
       "      <td id=\"T_2673b_row4_col1\" class=\"data row4 col1\" >cool</td>\n",
       "      <td id=\"T_2673b_row4_col2\" class=\"data row4 col2\" >normal</td>\n",
       "      <td id=\"T_2673b_row4_col3\" class=\"data row4 col3\" >False</td>\n",
       "      <td id=\"T_2673b_row4_col4\" class=\"data row4 col4\" >yes</td>\n",
       "    </tr>\n",
       "    <tr>\n",
       "      <th id=\"T_2673b_level0_row5\" class=\"row_heading level0 row5\" >5</th>\n",
       "      <td id=\"T_2673b_row5_col0\" class=\"data row5 col0\" >rainy</td>\n",
       "      <td id=\"T_2673b_row5_col1\" class=\"data row5 col1\" >cool</td>\n",
       "      <td id=\"T_2673b_row5_col2\" class=\"data row5 col2\" >normal</td>\n",
       "      <td id=\"T_2673b_row5_col3\" class=\"data row5 col3\" >True</td>\n",
       "      <td id=\"T_2673b_row5_col4\" class=\"data row5 col4\" >no</td>\n",
       "    </tr>\n",
       "    <tr>\n",
       "      <th id=\"T_2673b_level0_row6\" class=\"row_heading level0 row6\" >6</th>\n",
       "      <td id=\"T_2673b_row6_col0\" class=\"data row6 col0\" >overcast</td>\n",
       "      <td id=\"T_2673b_row6_col1\" class=\"data row6 col1\" >cool</td>\n",
       "      <td id=\"T_2673b_row6_col2\" class=\"data row6 col2\" >normal</td>\n",
       "      <td id=\"T_2673b_row6_col3\" class=\"data row6 col3\" >True</td>\n",
       "      <td id=\"T_2673b_row6_col4\" class=\"data row6 col4\" >yes</td>\n",
       "    </tr>\n",
       "    <tr>\n",
       "      <th id=\"T_2673b_level0_row7\" class=\"row_heading level0 row7\" >7</th>\n",
       "      <td id=\"T_2673b_row7_col0\" class=\"data row7 col0\" >sunny</td>\n",
       "      <td id=\"T_2673b_row7_col1\" class=\"data row7 col1\" >mild</td>\n",
       "      <td id=\"T_2673b_row7_col2\" class=\"data row7 col2\" >high</td>\n",
       "      <td id=\"T_2673b_row7_col3\" class=\"data row7 col3\" >False</td>\n",
       "      <td id=\"T_2673b_row7_col4\" class=\"data row7 col4\" >no</td>\n",
       "    </tr>\n",
       "    <tr>\n",
       "      <th id=\"T_2673b_level0_row8\" class=\"row_heading level0 row8\" >8</th>\n",
       "      <td id=\"T_2673b_row8_col0\" class=\"data row8 col0\" >sunny</td>\n",
       "      <td id=\"T_2673b_row8_col1\" class=\"data row8 col1\" >cool</td>\n",
       "      <td id=\"T_2673b_row8_col2\" class=\"data row8 col2\" >normal</td>\n",
       "      <td id=\"T_2673b_row8_col3\" class=\"data row8 col3\" >False</td>\n",
       "      <td id=\"T_2673b_row8_col4\" class=\"data row8 col4\" >yes</td>\n",
       "    </tr>\n",
       "    <tr>\n",
       "      <th id=\"T_2673b_level0_row9\" class=\"row_heading level0 row9\" >9</th>\n",
       "      <td id=\"T_2673b_row9_col0\" class=\"data row9 col0\" >rainy</td>\n",
       "      <td id=\"T_2673b_row9_col1\" class=\"data row9 col1\" >mild</td>\n",
       "      <td id=\"T_2673b_row9_col2\" class=\"data row9 col2\" >normal</td>\n",
       "      <td id=\"T_2673b_row9_col3\" class=\"data row9 col3\" >False</td>\n",
       "      <td id=\"T_2673b_row9_col4\" class=\"data row9 col4\" >yes</td>\n",
       "    </tr>\n",
       "    <tr>\n",
       "      <th id=\"T_2673b_level0_row10\" class=\"row_heading level0 row10\" >10</th>\n",
       "      <td id=\"T_2673b_row10_col0\" class=\"data row10 col0\" >sunny</td>\n",
       "      <td id=\"T_2673b_row10_col1\" class=\"data row10 col1\" >mild</td>\n",
       "      <td id=\"T_2673b_row10_col2\" class=\"data row10 col2\" >normal</td>\n",
       "      <td id=\"T_2673b_row10_col3\" class=\"data row10 col3\" >True</td>\n",
       "      <td id=\"T_2673b_row10_col4\" class=\"data row10 col4\" >yes</td>\n",
       "    </tr>\n",
       "    <tr>\n",
       "      <th id=\"T_2673b_level0_row11\" class=\"row_heading level0 row11\" >11</th>\n",
       "      <td id=\"T_2673b_row11_col0\" class=\"data row11 col0\" >overcast</td>\n",
       "      <td id=\"T_2673b_row11_col1\" class=\"data row11 col1\" >mild</td>\n",
       "      <td id=\"T_2673b_row11_col2\" class=\"data row11 col2\" >high</td>\n",
       "      <td id=\"T_2673b_row11_col3\" class=\"data row11 col3\" >True</td>\n",
       "      <td id=\"T_2673b_row11_col4\" class=\"data row11 col4\" >yes</td>\n",
       "    </tr>\n",
       "    <tr>\n",
       "      <th id=\"T_2673b_level0_row12\" class=\"row_heading level0 row12\" >12</th>\n",
       "      <td id=\"T_2673b_row12_col0\" class=\"data row12 col0\" >overcast</td>\n",
       "      <td id=\"T_2673b_row12_col1\" class=\"data row12 col1\" >hot</td>\n",
       "      <td id=\"T_2673b_row12_col2\" class=\"data row12 col2\" >normal</td>\n",
       "      <td id=\"T_2673b_row12_col3\" class=\"data row12 col3\" >False</td>\n",
       "      <td id=\"T_2673b_row12_col4\" class=\"data row12 col4\" >yes</td>\n",
       "    </tr>\n",
       "    <tr>\n",
       "      <th id=\"T_2673b_level0_row13\" class=\"row_heading level0 row13\" >13</th>\n",
       "      <td id=\"T_2673b_row13_col0\" class=\"data row13 col0\" >rainy</td>\n",
       "      <td id=\"T_2673b_row13_col1\" class=\"data row13 col1\" >mild</td>\n",
       "      <td id=\"T_2673b_row13_col2\" class=\"data row13 col2\" >high</td>\n",
       "      <td id=\"T_2673b_row13_col3\" class=\"data row13 col3\" >True</td>\n",
       "      <td id=\"T_2673b_row13_col4\" class=\"data row13 col4\" >no</td>\n",
       "    </tr>\n",
       "  </tbody>\n",
       "</table>\n"
      ],
      "text/plain": [
       "<pandas.io.formats.style.Styler at 0x2287b01e0d0>"
      ]
     },
     "execution_count": 2,
     "metadata": {},
     "output_type": "execute_result"
    }
   ],
   "source": [
    "def highlight(cell_value):\n",
    "    '''\n",
    "    Highlight yes / no values in the dataframe\n",
    "    '''\n",
    "    color_1 = 'background-color: pink;'\n",
    "    color_2 = 'background-color: lightgreen;'\n",
    "    \n",
    "    if cell_value == 'no':\n",
    "        return color_1\n",
    "    elif cell_value == 'yes':\n",
    "        return color_2  \n",
    "\n",
    "data.style.applymap(highlight)\\\n",
    "    .set_properties(subset=data.columns, **{'width': '100px'})\\\n",
    "    .set_table_styles([{'selector': 'th', 'props': [('background-color', 'lightgray'), ('border', '1px solid gray'),\n",
    "                                                    ('font-weight', 'bold')]},\n",
    "     {'selector': 'tr:hover', 'props': [('background-color', 'white'), ('border', '1.5px solid black')]}])"
   ]
  },
  {
   "cell_type": "code",
   "execution_count": 3,
   "id": "1526ad90",
   "metadata": {
    "_kg_hide-input": false,
    "execution": {
     "iopub.execute_input": "2022-01-17T08:50:01.320266Z",
     "iopub.status.busy": "2022-01-17T08:50:01.319265Z",
     "iopub.status.idle": "2022-01-17T08:50:01.330017Z",
     "shell.execute_reply": "2022-01-17T08:50:01.330462Z",
     "shell.execute_reply.started": "2022-01-17T08:34:55.540028Z"
    },
    "papermill": {
     "duration": 0.040956,
     "end_time": "2022-01-17T08:50:01.330639",
     "exception": false,
     "start_time": "2022-01-17T08:50:01.289683",
     "status": "completed"
    },
    "tags": []
   },
   "outputs": [],
   "source": [
    "def find_entropy(data):\n",
    "    \"\"\"\n",
    "    Returns the entropy of the class or features\n",
    "    formula: - ∑ P(X)logP(X)\n",
    "    \"\"\"\n",
    "    entropy = 0\n",
    "    for i in range(data.nunique()):\n",
    "        x = data.value_counts()[i]/data.shape[0] \n",
    "        entropy += (- x * math.log(x,2))\n",
    "    return round(entropy,3)\n",
    "\n",
    "\n",
    "\n",
    "def information_gain(data, data_):\n",
    "    \"\"\"\n",
    "    Returns the information gain of the features\n",
    "    \"\"\"\n",
    "    info = 0\n",
    "    for i in range(data_.nunique()):\n",
    "        df = data[data_ == data_.unique()[i]]\n",
    "        w_avg = df.shape[0]/data.shape[0]\n",
    "        entropy = find_entropy(df.play)\n",
    "        x = w_avg * entropy\n",
    "        info += x\n",
    "    ig = find_entropy(data.play) - info\n",
    "    return round(ig, 3)   \n",
    "\n",
    "\n",
    "\n",
    "def entropy_and_infogain(datax, feature):\n",
    "    \"\"\"\n",
    "    Grouping features with the same class and computing their \n",
    "    entropy and information gain for splitting\n",
    "    \"\"\"\n",
    "    for i in range(data[feature].nunique()):\n",
    "        df = datax[datax[feature]==data[feature].unique()[i]]\n",
    "        if df.shape[0] < 1:\n",
    "            continue\n",
    "        \n",
    "        display(df[[feature, 'play']].style.applymap(highlight)\\\n",
    "                .set_properties(subset=[feature, 'play'], **{'width': '80px'})\\\n",
    "                .set_table_styles([{'selector': 'th', 'props': [('background-color', 'lightgray'), \n",
    "                                                                ('border', '1px solid gray'), \n",
    "                                                                ('font-weight', 'bold')]},\n",
    "                                   {'selector': 'td', 'props': [('border', '1px solid gray')]},\n",
    "                                   {'selector': 'tr:hover', 'props': [('background-color', 'white'), \n",
    "                                                                      ('border', '1.5px solid black')]}]))\n",
    "        \n",
    "        print(f'Entropy of {feature} - {data[feature].unique()[i]} = {find_entropy(df.play)}')\n",
    "    print(f'Information Gain for {feature} = {information_gain(datax, datax[feature])}')"
   ]
  },
  {
   "cell_type": "markdown",
   "id": "b55c360a",
   "metadata": {
    "papermill": {
     "duration": 0.026574,
     "end_time": "2022-01-17T08:50:01.383725",
     "exception": false,
     "start_time": "2022-01-17T08:50:01.357151",
     "status": "completed"
    },
    "tags": []
   },
   "source": [
    "**Computing entropy for the entire dataset**"
   ]
  },
  {
   "cell_type": "code",
   "execution_count": 4,
   "id": "36c552fa",
   "metadata": {
    "execution": {
     "iopub.execute_input": "2022-01-17T08:50:01.444452Z",
     "iopub.status.busy": "2022-01-17T08:50:01.443781Z",
     "iopub.status.idle": "2022-01-17T08:50:01.450237Z",
     "shell.execute_reply": "2022-01-17T08:50:01.450793Z",
     "shell.execute_reply.started": "2022-01-17T08:35:16.425342Z"
    },
    "papermill": {
     "duration": 0.040478,
     "end_time": "2022-01-17T08:50:01.450981",
     "exception": false,
     "start_time": "2022-01-17T08:50:01.410503",
     "status": "completed"
    },
    "tags": []
   },
   "outputs": [
    {
     "name": "stdout",
     "output_type": "stream",
     "text": [
      "Entropy of the entire dataset: 0.94\n"
     ]
    }
   ],
   "source": [
    "print(f'Entropy of the entire dataset: {find_entropy(data.play)}')"
   ]
  },
  {
   "cell_type": "markdown",
   "id": "49944a47",
   "metadata": {
    "papermill": {
     "duration": 0.02752,
     "end_time": "2022-01-17T08:50:01.506735",
     "exception": false,
     "start_time": "2022-01-17T08:50:01.479215",
     "status": "completed"
    },
    "tags": []
   },
   "source": [
    "# Step 1\n",
    "<h3 style='font-family: serif;'>Calculate the Information Gain for each feature.</h3>"
   ]
  },
  {
   "cell_type": "markdown",
   "id": "6b85d12b",
   "metadata": {
    "papermill": {
     "duration": 0.027533,
     "end_time": "2022-01-17T08:50:01.562154",
     "exception": false,
     "start_time": "2022-01-17T08:50:01.534621",
     "status": "completed"
    },
    "tags": []
   },
   "source": [
    "**Outlook**"
   ]
  },
  {
   "cell_type": "code",
   "execution_count": 5,
   "id": "093ba4c4",
   "metadata": {
    "_kg_hide-input": false,
    "execution": {
     "iopub.execute_input": "2022-01-17T08:50:01.626359Z",
     "iopub.status.busy": "2022-01-17T08:50:01.625703Z",
     "iopub.status.idle": "2022-01-17T08:50:01.667910Z",
     "shell.execute_reply": "2022-01-17T08:50:01.668595Z",
     "shell.execute_reply.started": "2022-01-17T08:35:20.078762Z"
    },
    "papermill": {
     "duration": 0.078614,
     "end_time": "2022-01-17T08:50:01.668840",
     "exception": false,
     "start_time": "2022-01-17T08:50:01.590226",
     "status": "completed"
    },
    "tags": []
   },
   "outputs": [
    {
     "data": {
      "text/html": [
       "<style type=\"text/css\">\n",
       "#T_01b50 th {\n",
       "  background-color: lightgray;\n",
       "  border: 1px solid gray;\n",
       "  font-weight: bold;\n",
       "}\n",
       "#T_01b50 td {\n",
       "  border: 1px solid gray;\n",
       "}\n",
       "#T_01b50 tr:hover {\n",
       "  background-color: white;\n",
       "  border: 1.5px solid black;\n",
       "}\n",
       "#T_01b50_row0_col0, #T_01b50_row1_col0, #T_01b50_row2_col0, #T_01b50_row3_col0, #T_01b50_row4_col0 {\n",
       "  width: 80px;\n",
       "}\n",
       "#T_01b50_row0_col1, #T_01b50_row1_col1, #T_01b50_row2_col1 {\n",
       "  background-color: pink;\n",
       "  width: 80px;\n",
       "}\n",
       "#T_01b50_row3_col1, #T_01b50_row4_col1 {\n",
       "  background-color: lightgreen;\n",
       "  width: 80px;\n",
       "}\n",
       "</style>\n",
       "<table id=\"T_01b50\">\n",
       "  <thead>\n",
       "    <tr>\n",
       "      <th class=\"blank level0\" >&nbsp;</th>\n",
       "      <th id=\"T_01b50_level0_col0\" class=\"col_heading level0 col0\" >outlook</th>\n",
       "      <th id=\"T_01b50_level0_col1\" class=\"col_heading level0 col1\" >play</th>\n",
       "    </tr>\n",
       "  </thead>\n",
       "  <tbody>\n",
       "    <tr>\n",
       "      <th id=\"T_01b50_level0_row0\" class=\"row_heading level0 row0\" >0</th>\n",
       "      <td id=\"T_01b50_row0_col0\" class=\"data row0 col0\" >sunny</td>\n",
       "      <td id=\"T_01b50_row0_col1\" class=\"data row0 col1\" >no</td>\n",
       "    </tr>\n",
       "    <tr>\n",
       "      <th id=\"T_01b50_level0_row1\" class=\"row_heading level0 row1\" >1</th>\n",
       "      <td id=\"T_01b50_row1_col0\" class=\"data row1 col0\" >sunny</td>\n",
       "      <td id=\"T_01b50_row1_col1\" class=\"data row1 col1\" >no</td>\n",
       "    </tr>\n",
       "    <tr>\n",
       "      <th id=\"T_01b50_level0_row2\" class=\"row_heading level0 row2\" >7</th>\n",
       "      <td id=\"T_01b50_row2_col0\" class=\"data row2 col0\" >sunny</td>\n",
       "      <td id=\"T_01b50_row2_col1\" class=\"data row2 col1\" >no</td>\n",
       "    </tr>\n",
       "    <tr>\n",
       "      <th id=\"T_01b50_level0_row3\" class=\"row_heading level0 row3\" >8</th>\n",
       "      <td id=\"T_01b50_row3_col0\" class=\"data row3 col0\" >sunny</td>\n",
       "      <td id=\"T_01b50_row3_col1\" class=\"data row3 col1\" >yes</td>\n",
       "    </tr>\n",
       "    <tr>\n",
       "      <th id=\"T_01b50_level0_row4\" class=\"row_heading level0 row4\" >10</th>\n",
       "      <td id=\"T_01b50_row4_col0\" class=\"data row4 col0\" >sunny</td>\n",
       "      <td id=\"T_01b50_row4_col1\" class=\"data row4 col1\" >yes</td>\n",
       "    </tr>\n",
       "  </tbody>\n",
       "</table>\n"
      ],
      "text/plain": [
       "<pandas.io.formats.style.Styler at 0x2287b01e790>"
      ]
     },
     "metadata": {},
     "output_type": "display_data"
    },
    {
     "name": "stdout",
     "output_type": "stream",
     "text": [
      "Entropy of outlook - sunny = 0.971\n"
     ]
    },
    {
     "data": {
      "text/html": [
       "<style type=\"text/css\">\n",
       "#T_af524 th {\n",
       "  background-color: lightgray;\n",
       "  border: 1px solid gray;\n",
       "  font-weight: bold;\n",
       "}\n",
       "#T_af524 td {\n",
       "  border: 1px solid gray;\n",
       "}\n",
       "#T_af524 tr:hover {\n",
       "  background-color: white;\n",
       "  border: 1.5px solid black;\n",
       "}\n",
       "#T_af524_row0_col0, #T_af524_row1_col0, #T_af524_row2_col0, #T_af524_row3_col0 {\n",
       "  width: 80px;\n",
       "}\n",
       "#T_af524_row0_col1, #T_af524_row1_col1, #T_af524_row2_col1, #T_af524_row3_col1 {\n",
       "  background-color: lightgreen;\n",
       "  width: 80px;\n",
       "}\n",
       "</style>\n",
       "<table id=\"T_af524\">\n",
       "  <thead>\n",
       "    <tr>\n",
       "      <th class=\"blank level0\" >&nbsp;</th>\n",
       "      <th id=\"T_af524_level0_col0\" class=\"col_heading level0 col0\" >outlook</th>\n",
       "      <th id=\"T_af524_level0_col1\" class=\"col_heading level0 col1\" >play</th>\n",
       "    </tr>\n",
       "  </thead>\n",
       "  <tbody>\n",
       "    <tr>\n",
       "      <th id=\"T_af524_level0_row0\" class=\"row_heading level0 row0\" >2</th>\n",
       "      <td id=\"T_af524_row0_col0\" class=\"data row0 col0\" >overcast</td>\n",
       "      <td id=\"T_af524_row0_col1\" class=\"data row0 col1\" >yes</td>\n",
       "    </tr>\n",
       "    <tr>\n",
       "      <th id=\"T_af524_level0_row1\" class=\"row_heading level0 row1\" >6</th>\n",
       "      <td id=\"T_af524_row1_col0\" class=\"data row1 col0\" >overcast</td>\n",
       "      <td id=\"T_af524_row1_col1\" class=\"data row1 col1\" >yes</td>\n",
       "    </tr>\n",
       "    <tr>\n",
       "      <th id=\"T_af524_level0_row2\" class=\"row_heading level0 row2\" >11</th>\n",
       "      <td id=\"T_af524_row2_col0\" class=\"data row2 col0\" >overcast</td>\n",
       "      <td id=\"T_af524_row2_col1\" class=\"data row2 col1\" >yes</td>\n",
       "    </tr>\n",
       "    <tr>\n",
       "      <th id=\"T_af524_level0_row3\" class=\"row_heading level0 row3\" >12</th>\n",
       "      <td id=\"T_af524_row3_col0\" class=\"data row3 col0\" >overcast</td>\n",
       "      <td id=\"T_af524_row3_col1\" class=\"data row3 col1\" >yes</td>\n",
       "    </tr>\n",
       "  </tbody>\n",
       "</table>\n"
      ],
      "text/plain": [
       "<pandas.io.formats.style.Styler at 0x2287b01e070>"
      ]
     },
     "metadata": {},
     "output_type": "display_data"
    },
    {
     "name": "stdout",
     "output_type": "stream",
     "text": [
      "Entropy of outlook - overcast = 0.0\n"
     ]
    },
    {
     "data": {
      "text/html": [
       "<style type=\"text/css\">\n",
       "#T_86ea2 th {\n",
       "  background-color: lightgray;\n",
       "  border: 1px solid gray;\n",
       "  font-weight: bold;\n",
       "}\n",
       "#T_86ea2 td {\n",
       "  border: 1px solid gray;\n",
       "}\n",
       "#T_86ea2 tr:hover {\n",
       "  background-color: white;\n",
       "  border: 1.5px solid black;\n",
       "}\n",
       "#T_86ea2_row0_col0, #T_86ea2_row1_col0, #T_86ea2_row2_col0, #T_86ea2_row3_col0, #T_86ea2_row4_col0 {\n",
       "  width: 80px;\n",
       "}\n",
       "#T_86ea2_row0_col1, #T_86ea2_row1_col1, #T_86ea2_row3_col1 {\n",
       "  background-color: lightgreen;\n",
       "  width: 80px;\n",
       "}\n",
       "#T_86ea2_row2_col1, #T_86ea2_row4_col1 {\n",
       "  background-color: pink;\n",
       "  width: 80px;\n",
       "}\n",
       "</style>\n",
       "<table id=\"T_86ea2\">\n",
       "  <thead>\n",
       "    <tr>\n",
       "      <th class=\"blank level0\" >&nbsp;</th>\n",
       "      <th id=\"T_86ea2_level0_col0\" class=\"col_heading level0 col0\" >outlook</th>\n",
       "      <th id=\"T_86ea2_level0_col1\" class=\"col_heading level0 col1\" >play</th>\n",
       "    </tr>\n",
       "  </thead>\n",
       "  <tbody>\n",
       "    <tr>\n",
       "      <th id=\"T_86ea2_level0_row0\" class=\"row_heading level0 row0\" >3</th>\n",
       "      <td id=\"T_86ea2_row0_col0\" class=\"data row0 col0\" >rainy</td>\n",
       "      <td id=\"T_86ea2_row0_col1\" class=\"data row0 col1\" >yes</td>\n",
       "    </tr>\n",
       "    <tr>\n",
       "      <th id=\"T_86ea2_level0_row1\" class=\"row_heading level0 row1\" >4</th>\n",
       "      <td id=\"T_86ea2_row1_col0\" class=\"data row1 col0\" >rainy</td>\n",
       "      <td id=\"T_86ea2_row1_col1\" class=\"data row1 col1\" >yes</td>\n",
       "    </tr>\n",
       "    <tr>\n",
       "      <th id=\"T_86ea2_level0_row2\" class=\"row_heading level0 row2\" >5</th>\n",
       "      <td id=\"T_86ea2_row2_col0\" class=\"data row2 col0\" >rainy</td>\n",
       "      <td id=\"T_86ea2_row2_col1\" class=\"data row2 col1\" >no</td>\n",
       "    </tr>\n",
       "    <tr>\n",
       "      <th id=\"T_86ea2_level0_row3\" class=\"row_heading level0 row3\" >9</th>\n",
       "      <td id=\"T_86ea2_row3_col0\" class=\"data row3 col0\" >rainy</td>\n",
       "      <td id=\"T_86ea2_row3_col1\" class=\"data row3 col1\" >yes</td>\n",
       "    </tr>\n",
       "    <tr>\n",
       "      <th id=\"T_86ea2_level0_row4\" class=\"row_heading level0 row4\" >13</th>\n",
       "      <td id=\"T_86ea2_row4_col0\" class=\"data row4 col0\" >rainy</td>\n",
       "      <td id=\"T_86ea2_row4_col1\" class=\"data row4 col1\" >no</td>\n",
       "    </tr>\n",
       "  </tbody>\n",
       "</table>\n"
      ],
      "text/plain": [
       "<pandas.io.formats.style.Styler at 0x2287af1c430>"
      ]
     },
     "metadata": {},
     "output_type": "display_data"
    },
    {
     "name": "stdout",
     "output_type": "stream",
     "text": [
      "Entropy of outlook - rainy = 0.971\n",
      "Information Gain for outlook = 0.246\n"
     ]
    }
   ],
   "source": [
    "entropy_and_infogain(data, 'outlook')"
   ]
  },
  {
   "cell_type": "markdown",
   "id": "d11324ba",
   "metadata": {
    "papermill": {
     "duration": 0.029247,
     "end_time": "2022-01-17T08:50:01.728254",
     "exception": false,
     "start_time": "2022-01-17T08:50:01.699007",
     "status": "completed"
    },
    "tags": []
   },
   "source": [
    "**Temp**"
   ]
  },
  {
   "cell_type": "code",
   "execution_count": 6,
   "id": "d1c857e5",
   "metadata": {
    "_kg_hide-input": false,
    "execution": {
     "iopub.execute_input": "2022-01-17T08:50:01.791352Z",
     "iopub.status.busy": "2022-01-17T08:50:01.790733Z",
     "iopub.status.idle": "2022-01-17T08:50:01.835586Z",
     "shell.execute_reply": "2022-01-17T08:50:01.836098Z",
     "shell.execute_reply.started": "2022-01-17T08:35:27.658367Z"
    },
    "papermill": {
     "duration": 0.077692,
     "end_time": "2022-01-17T08:50:01.836280",
     "exception": false,
     "start_time": "2022-01-17T08:50:01.758588",
     "status": "completed"
    },
    "tags": []
   },
   "outputs": [
    {
     "data": {
      "text/html": [
       "<style type=\"text/css\">\n",
       "#T_a06ef th {\n",
       "  background-color: lightgray;\n",
       "  border: 1px solid gray;\n",
       "  font-weight: bold;\n",
       "}\n",
       "#T_a06ef td {\n",
       "  border: 1px solid gray;\n",
       "}\n",
       "#T_a06ef tr:hover {\n",
       "  background-color: white;\n",
       "  border: 1.5px solid black;\n",
       "}\n",
       "#T_a06ef_row0_col0, #T_a06ef_row1_col0, #T_a06ef_row2_col0, #T_a06ef_row3_col0 {\n",
       "  width: 80px;\n",
       "}\n",
       "#T_a06ef_row0_col1, #T_a06ef_row1_col1 {\n",
       "  background-color: pink;\n",
       "  width: 80px;\n",
       "}\n",
       "#T_a06ef_row2_col1, #T_a06ef_row3_col1 {\n",
       "  background-color: lightgreen;\n",
       "  width: 80px;\n",
       "}\n",
       "</style>\n",
       "<table id=\"T_a06ef\">\n",
       "  <thead>\n",
       "    <tr>\n",
       "      <th class=\"blank level0\" >&nbsp;</th>\n",
       "      <th id=\"T_a06ef_level0_col0\" class=\"col_heading level0 col0\" >temp</th>\n",
       "      <th id=\"T_a06ef_level0_col1\" class=\"col_heading level0 col1\" >play</th>\n",
       "    </tr>\n",
       "  </thead>\n",
       "  <tbody>\n",
       "    <tr>\n",
       "      <th id=\"T_a06ef_level0_row0\" class=\"row_heading level0 row0\" >0</th>\n",
       "      <td id=\"T_a06ef_row0_col0\" class=\"data row0 col0\" >hot</td>\n",
       "      <td id=\"T_a06ef_row0_col1\" class=\"data row0 col1\" >no</td>\n",
       "    </tr>\n",
       "    <tr>\n",
       "      <th id=\"T_a06ef_level0_row1\" class=\"row_heading level0 row1\" >1</th>\n",
       "      <td id=\"T_a06ef_row1_col0\" class=\"data row1 col0\" >hot</td>\n",
       "      <td id=\"T_a06ef_row1_col1\" class=\"data row1 col1\" >no</td>\n",
       "    </tr>\n",
       "    <tr>\n",
       "      <th id=\"T_a06ef_level0_row2\" class=\"row_heading level0 row2\" >2</th>\n",
       "      <td id=\"T_a06ef_row2_col0\" class=\"data row2 col0\" >hot</td>\n",
       "      <td id=\"T_a06ef_row2_col1\" class=\"data row2 col1\" >yes</td>\n",
       "    </tr>\n",
       "    <tr>\n",
       "      <th id=\"T_a06ef_level0_row3\" class=\"row_heading level0 row3\" >12</th>\n",
       "      <td id=\"T_a06ef_row3_col0\" class=\"data row3 col0\" >hot</td>\n",
       "      <td id=\"T_a06ef_row3_col1\" class=\"data row3 col1\" >yes</td>\n",
       "    </tr>\n",
       "  </tbody>\n",
       "</table>\n"
      ],
      "text/plain": [
       "<pandas.io.formats.style.Styler at 0x2287e6a22e0>"
      ]
     },
     "metadata": {},
     "output_type": "display_data"
    },
    {
     "name": "stdout",
     "output_type": "stream",
     "text": [
      "Entropy of temp - hot = 1.0\n"
     ]
    },
    {
     "data": {
      "text/html": [
       "<style type=\"text/css\">\n",
       "#T_e6a3d th {\n",
       "  background-color: lightgray;\n",
       "  border: 1px solid gray;\n",
       "  font-weight: bold;\n",
       "}\n",
       "#T_e6a3d td {\n",
       "  border: 1px solid gray;\n",
       "}\n",
       "#T_e6a3d tr:hover {\n",
       "  background-color: white;\n",
       "  border: 1.5px solid black;\n",
       "}\n",
       "#T_e6a3d_row0_col0, #T_e6a3d_row1_col0, #T_e6a3d_row2_col0, #T_e6a3d_row3_col0, #T_e6a3d_row4_col0, #T_e6a3d_row5_col0 {\n",
       "  width: 80px;\n",
       "}\n",
       "#T_e6a3d_row0_col1, #T_e6a3d_row2_col1, #T_e6a3d_row3_col1, #T_e6a3d_row4_col1 {\n",
       "  background-color: lightgreen;\n",
       "  width: 80px;\n",
       "}\n",
       "#T_e6a3d_row1_col1, #T_e6a3d_row5_col1 {\n",
       "  background-color: pink;\n",
       "  width: 80px;\n",
       "}\n",
       "</style>\n",
       "<table id=\"T_e6a3d\">\n",
       "  <thead>\n",
       "    <tr>\n",
       "      <th class=\"blank level0\" >&nbsp;</th>\n",
       "      <th id=\"T_e6a3d_level0_col0\" class=\"col_heading level0 col0\" >temp</th>\n",
       "      <th id=\"T_e6a3d_level0_col1\" class=\"col_heading level0 col1\" >play</th>\n",
       "    </tr>\n",
       "  </thead>\n",
       "  <tbody>\n",
       "    <tr>\n",
       "      <th id=\"T_e6a3d_level0_row0\" class=\"row_heading level0 row0\" >3</th>\n",
       "      <td id=\"T_e6a3d_row0_col0\" class=\"data row0 col0\" >mild</td>\n",
       "      <td id=\"T_e6a3d_row0_col1\" class=\"data row0 col1\" >yes</td>\n",
       "    </tr>\n",
       "    <tr>\n",
       "      <th id=\"T_e6a3d_level0_row1\" class=\"row_heading level0 row1\" >7</th>\n",
       "      <td id=\"T_e6a3d_row1_col0\" class=\"data row1 col0\" >mild</td>\n",
       "      <td id=\"T_e6a3d_row1_col1\" class=\"data row1 col1\" >no</td>\n",
       "    </tr>\n",
       "    <tr>\n",
       "      <th id=\"T_e6a3d_level0_row2\" class=\"row_heading level0 row2\" >9</th>\n",
       "      <td id=\"T_e6a3d_row2_col0\" class=\"data row2 col0\" >mild</td>\n",
       "      <td id=\"T_e6a3d_row2_col1\" class=\"data row2 col1\" >yes</td>\n",
       "    </tr>\n",
       "    <tr>\n",
       "      <th id=\"T_e6a3d_level0_row3\" class=\"row_heading level0 row3\" >10</th>\n",
       "      <td id=\"T_e6a3d_row3_col0\" class=\"data row3 col0\" >mild</td>\n",
       "      <td id=\"T_e6a3d_row3_col1\" class=\"data row3 col1\" >yes</td>\n",
       "    </tr>\n",
       "    <tr>\n",
       "      <th id=\"T_e6a3d_level0_row4\" class=\"row_heading level0 row4\" >11</th>\n",
       "      <td id=\"T_e6a3d_row4_col0\" class=\"data row4 col0\" >mild</td>\n",
       "      <td id=\"T_e6a3d_row4_col1\" class=\"data row4 col1\" >yes</td>\n",
       "    </tr>\n",
       "    <tr>\n",
       "      <th id=\"T_e6a3d_level0_row5\" class=\"row_heading level0 row5\" >13</th>\n",
       "      <td id=\"T_e6a3d_row5_col0\" class=\"data row5 col0\" >mild</td>\n",
       "      <td id=\"T_e6a3d_row5_col1\" class=\"data row5 col1\" >no</td>\n",
       "    </tr>\n",
       "  </tbody>\n",
       "</table>\n"
      ],
      "text/plain": [
       "<pandas.io.formats.style.Styler at 0x2287af1ccd0>"
      ]
     },
     "metadata": {},
     "output_type": "display_data"
    },
    {
     "name": "stdout",
     "output_type": "stream",
     "text": [
      "Entropy of temp - mild = 0.918\n"
     ]
    },
    {
     "data": {
      "text/html": [
       "<style type=\"text/css\">\n",
       "#T_e7130 th {\n",
       "  background-color: lightgray;\n",
       "  border: 1px solid gray;\n",
       "  font-weight: bold;\n",
       "}\n",
       "#T_e7130 td {\n",
       "  border: 1px solid gray;\n",
       "}\n",
       "#T_e7130 tr:hover {\n",
       "  background-color: white;\n",
       "  border: 1.5px solid black;\n",
       "}\n",
       "#T_e7130_row0_col0, #T_e7130_row1_col0, #T_e7130_row2_col0, #T_e7130_row3_col0 {\n",
       "  width: 80px;\n",
       "}\n",
       "#T_e7130_row0_col1, #T_e7130_row2_col1, #T_e7130_row3_col1 {\n",
       "  background-color: lightgreen;\n",
       "  width: 80px;\n",
       "}\n",
       "#T_e7130_row1_col1 {\n",
       "  background-color: pink;\n",
       "  width: 80px;\n",
       "}\n",
       "</style>\n",
       "<table id=\"T_e7130\">\n",
       "  <thead>\n",
       "    <tr>\n",
       "      <th class=\"blank level0\" >&nbsp;</th>\n",
       "      <th id=\"T_e7130_level0_col0\" class=\"col_heading level0 col0\" >temp</th>\n",
       "      <th id=\"T_e7130_level0_col1\" class=\"col_heading level0 col1\" >play</th>\n",
       "    </tr>\n",
       "  </thead>\n",
       "  <tbody>\n",
       "    <tr>\n",
       "      <th id=\"T_e7130_level0_row0\" class=\"row_heading level0 row0\" >4</th>\n",
       "      <td id=\"T_e7130_row0_col0\" class=\"data row0 col0\" >cool</td>\n",
       "      <td id=\"T_e7130_row0_col1\" class=\"data row0 col1\" >yes</td>\n",
       "    </tr>\n",
       "    <tr>\n",
       "      <th id=\"T_e7130_level0_row1\" class=\"row_heading level0 row1\" >5</th>\n",
       "      <td id=\"T_e7130_row1_col0\" class=\"data row1 col0\" >cool</td>\n",
       "      <td id=\"T_e7130_row1_col1\" class=\"data row1 col1\" >no</td>\n",
       "    </tr>\n",
       "    <tr>\n",
       "      <th id=\"T_e7130_level0_row2\" class=\"row_heading level0 row2\" >6</th>\n",
       "      <td id=\"T_e7130_row2_col0\" class=\"data row2 col0\" >cool</td>\n",
       "      <td id=\"T_e7130_row2_col1\" class=\"data row2 col1\" >yes</td>\n",
       "    </tr>\n",
       "    <tr>\n",
       "      <th id=\"T_e7130_level0_row3\" class=\"row_heading level0 row3\" >8</th>\n",
       "      <td id=\"T_e7130_row3_col0\" class=\"data row3 col0\" >cool</td>\n",
       "      <td id=\"T_e7130_row3_col1\" class=\"data row3 col1\" >yes</td>\n",
       "    </tr>\n",
       "  </tbody>\n",
       "</table>\n"
      ],
      "text/plain": [
       "<pandas.io.formats.style.Styler at 0x2287d7f7bb0>"
      ]
     },
     "metadata": {},
     "output_type": "display_data"
    },
    {
     "name": "stdout",
     "output_type": "stream",
     "text": [
      "Entropy of temp - cool = 0.811\n",
      "Information Gain for temp = 0.029\n"
     ]
    }
   ],
   "source": [
    "entropy_and_infogain(data, 'temp')"
   ]
  },
  {
   "cell_type": "markdown",
   "id": "1c17fa73",
   "metadata": {
    "papermill": {
     "duration": 0.032904,
     "end_time": "2022-01-17T08:50:01.901025",
     "exception": false,
     "start_time": "2022-01-17T08:50:01.868121",
     "status": "completed"
    },
    "tags": []
   },
   "source": [
    "**Humidity**"
   ]
  },
  {
   "cell_type": "code",
   "execution_count": 7,
   "id": "4ed7ca32",
   "metadata": {
    "_kg_hide-input": false,
    "execution": {
     "iopub.execute_input": "2022-01-17T08:50:01.974124Z",
     "iopub.status.busy": "2022-01-17T08:50:01.968484Z",
     "iopub.status.idle": "2022-01-17T08:50:02.002958Z",
     "shell.execute_reply": "2022-01-17T08:50:02.002370Z",
     "shell.execute_reply.started": "2022-01-17T08:35:28.038733Z"
    },
    "papermill": {
     "duration": 0.069376,
     "end_time": "2022-01-17T08:50:02.003097",
     "exception": false,
     "start_time": "2022-01-17T08:50:01.933721",
     "status": "completed"
    },
    "tags": []
   },
   "outputs": [
    {
     "data": {
      "text/html": [
       "<style type=\"text/css\">\n",
       "#T_58b9f th {\n",
       "  background-color: lightgray;\n",
       "  border: 1px solid gray;\n",
       "  font-weight: bold;\n",
       "}\n",
       "#T_58b9f td {\n",
       "  border: 1px solid gray;\n",
       "}\n",
       "#T_58b9f tr:hover {\n",
       "  background-color: white;\n",
       "  border: 1.5px solid black;\n",
       "}\n",
       "#T_58b9f_row0_col0, #T_58b9f_row1_col0, #T_58b9f_row2_col0, #T_58b9f_row3_col0, #T_58b9f_row4_col0, #T_58b9f_row5_col0, #T_58b9f_row6_col0 {\n",
       "  width: 80px;\n",
       "}\n",
       "#T_58b9f_row0_col1, #T_58b9f_row1_col1, #T_58b9f_row4_col1, #T_58b9f_row6_col1 {\n",
       "  background-color: pink;\n",
       "  width: 80px;\n",
       "}\n",
       "#T_58b9f_row2_col1, #T_58b9f_row3_col1, #T_58b9f_row5_col1 {\n",
       "  background-color: lightgreen;\n",
       "  width: 80px;\n",
       "}\n",
       "</style>\n",
       "<table id=\"T_58b9f\">\n",
       "  <thead>\n",
       "    <tr>\n",
       "      <th class=\"blank level0\" >&nbsp;</th>\n",
       "      <th id=\"T_58b9f_level0_col0\" class=\"col_heading level0 col0\" >humidity</th>\n",
       "      <th id=\"T_58b9f_level0_col1\" class=\"col_heading level0 col1\" >play</th>\n",
       "    </tr>\n",
       "  </thead>\n",
       "  <tbody>\n",
       "    <tr>\n",
       "      <th id=\"T_58b9f_level0_row0\" class=\"row_heading level0 row0\" >0</th>\n",
       "      <td id=\"T_58b9f_row0_col0\" class=\"data row0 col0\" >high</td>\n",
       "      <td id=\"T_58b9f_row0_col1\" class=\"data row0 col1\" >no</td>\n",
       "    </tr>\n",
       "    <tr>\n",
       "      <th id=\"T_58b9f_level0_row1\" class=\"row_heading level0 row1\" >1</th>\n",
       "      <td id=\"T_58b9f_row1_col0\" class=\"data row1 col0\" >high</td>\n",
       "      <td id=\"T_58b9f_row1_col1\" class=\"data row1 col1\" >no</td>\n",
       "    </tr>\n",
       "    <tr>\n",
       "      <th id=\"T_58b9f_level0_row2\" class=\"row_heading level0 row2\" >2</th>\n",
       "      <td id=\"T_58b9f_row2_col0\" class=\"data row2 col0\" >high</td>\n",
       "      <td id=\"T_58b9f_row2_col1\" class=\"data row2 col1\" >yes</td>\n",
       "    </tr>\n",
       "    <tr>\n",
       "      <th id=\"T_58b9f_level0_row3\" class=\"row_heading level0 row3\" >3</th>\n",
       "      <td id=\"T_58b9f_row3_col0\" class=\"data row3 col0\" >high</td>\n",
       "      <td id=\"T_58b9f_row3_col1\" class=\"data row3 col1\" >yes</td>\n",
       "    </tr>\n",
       "    <tr>\n",
       "      <th id=\"T_58b9f_level0_row4\" class=\"row_heading level0 row4\" >7</th>\n",
       "      <td id=\"T_58b9f_row4_col0\" class=\"data row4 col0\" >high</td>\n",
       "      <td id=\"T_58b9f_row4_col1\" class=\"data row4 col1\" >no</td>\n",
       "    </tr>\n",
       "    <tr>\n",
       "      <th id=\"T_58b9f_level0_row5\" class=\"row_heading level0 row5\" >11</th>\n",
       "      <td id=\"T_58b9f_row5_col0\" class=\"data row5 col0\" >high</td>\n",
       "      <td id=\"T_58b9f_row5_col1\" class=\"data row5 col1\" >yes</td>\n",
       "    </tr>\n",
       "    <tr>\n",
       "      <th id=\"T_58b9f_level0_row6\" class=\"row_heading level0 row6\" >13</th>\n",
       "      <td id=\"T_58b9f_row6_col0\" class=\"data row6 col0\" >high</td>\n",
       "      <td id=\"T_58b9f_row6_col1\" class=\"data row6 col1\" >no</td>\n",
       "    </tr>\n",
       "  </tbody>\n",
       "</table>\n"
      ],
      "text/plain": [
       "<pandas.io.formats.style.Styler at 0x2287d7ee490>"
      ]
     },
     "metadata": {},
     "output_type": "display_data"
    },
    {
     "name": "stdout",
     "output_type": "stream",
     "text": [
      "Entropy of humidity - high = 0.985\n"
     ]
    },
    {
     "data": {
      "text/html": [
       "<style type=\"text/css\">\n",
       "#T_477b2 th {\n",
       "  background-color: lightgray;\n",
       "  border: 1px solid gray;\n",
       "  font-weight: bold;\n",
       "}\n",
       "#T_477b2 td {\n",
       "  border: 1px solid gray;\n",
       "}\n",
       "#T_477b2 tr:hover {\n",
       "  background-color: white;\n",
       "  border: 1.5px solid black;\n",
       "}\n",
       "#T_477b2_row0_col0, #T_477b2_row1_col0, #T_477b2_row2_col0, #T_477b2_row3_col0, #T_477b2_row4_col0, #T_477b2_row5_col0, #T_477b2_row6_col0 {\n",
       "  width: 80px;\n",
       "}\n",
       "#T_477b2_row0_col1, #T_477b2_row2_col1, #T_477b2_row3_col1, #T_477b2_row4_col1, #T_477b2_row5_col1, #T_477b2_row6_col1 {\n",
       "  background-color: lightgreen;\n",
       "  width: 80px;\n",
       "}\n",
       "#T_477b2_row1_col1 {\n",
       "  background-color: pink;\n",
       "  width: 80px;\n",
       "}\n",
       "</style>\n",
       "<table id=\"T_477b2\">\n",
       "  <thead>\n",
       "    <tr>\n",
       "      <th class=\"blank level0\" >&nbsp;</th>\n",
       "      <th id=\"T_477b2_level0_col0\" class=\"col_heading level0 col0\" >humidity</th>\n",
       "      <th id=\"T_477b2_level0_col1\" class=\"col_heading level0 col1\" >play</th>\n",
       "    </tr>\n",
       "  </thead>\n",
       "  <tbody>\n",
       "    <tr>\n",
       "      <th id=\"T_477b2_level0_row0\" class=\"row_heading level0 row0\" >4</th>\n",
       "      <td id=\"T_477b2_row0_col0\" class=\"data row0 col0\" >normal</td>\n",
       "      <td id=\"T_477b2_row0_col1\" class=\"data row0 col1\" >yes</td>\n",
       "    </tr>\n",
       "    <tr>\n",
       "      <th id=\"T_477b2_level0_row1\" class=\"row_heading level0 row1\" >5</th>\n",
       "      <td id=\"T_477b2_row1_col0\" class=\"data row1 col0\" >normal</td>\n",
       "      <td id=\"T_477b2_row1_col1\" class=\"data row1 col1\" >no</td>\n",
       "    </tr>\n",
       "    <tr>\n",
       "      <th id=\"T_477b2_level0_row2\" class=\"row_heading level0 row2\" >6</th>\n",
       "      <td id=\"T_477b2_row2_col0\" class=\"data row2 col0\" >normal</td>\n",
       "      <td id=\"T_477b2_row2_col1\" class=\"data row2 col1\" >yes</td>\n",
       "    </tr>\n",
       "    <tr>\n",
       "      <th id=\"T_477b2_level0_row3\" class=\"row_heading level0 row3\" >8</th>\n",
       "      <td id=\"T_477b2_row3_col0\" class=\"data row3 col0\" >normal</td>\n",
       "      <td id=\"T_477b2_row3_col1\" class=\"data row3 col1\" >yes</td>\n",
       "    </tr>\n",
       "    <tr>\n",
       "      <th id=\"T_477b2_level0_row4\" class=\"row_heading level0 row4\" >9</th>\n",
       "      <td id=\"T_477b2_row4_col0\" class=\"data row4 col0\" >normal</td>\n",
       "      <td id=\"T_477b2_row4_col1\" class=\"data row4 col1\" >yes</td>\n",
       "    </tr>\n",
       "    <tr>\n",
       "      <th id=\"T_477b2_level0_row5\" class=\"row_heading level0 row5\" >10</th>\n",
       "      <td id=\"T_477b2_row5_col0\" class=\"data row5 col0\" >normal</td>\n",
       "      <td id=\"T_477b2_row5_col1\" class=\"data row5 col1\" >yes</td>\n",
       "    </tr>\n",
       "    <tr>\n",
       "      <th id=\"T_477b2_level0_row6\" class=\"row_heading level0 row6\" >12</th>\n",
       "      <td id=\"T_477b2_row6_col0\" class=\"data row6 col0\" >normal</td>\n",
       "      <td id=\"T_477b2_row6_col1\" class=\"data row6 col1\" >yes</td>\n",
       "    </tr>\n",
       "  </tbody>\n",
       "</table>\n"
      ],
      "text/plain": [
       "<pandas.io.formats.style.Styler at 0x2287d7f7ca0>"
      ]
     },
     "metadata": {},
     "output_type": "display_data"
    },
    {
     "name": "stdout",
     "output_type": "stream",
     "text": [
      "Entropy of humidity - normal = 0.592\n",
      "Information Gain for humidity = 0.151\n"
     ]
    }
   ],
   "source": [
    "entropy_and_infogain(data, 'humidity')"
   ]
  },
  {
   "cell_type": "markdown",
   "id": "a531cbad",
   "metadata": {
    "papermill": {
     "duration": 0.033614,
     "end_time": "2022-01-17T08:50:02.069889",
     "exception": false,
     "start_time": "2022-01-17T08:50:02.036275",
     "status": "completed"
    },
    "tags": []
   },
   "source": [
    "**Windy**"
   ]
  },
  {
   "cell_type": "code",
   "execution_count": 8,
   "id": "c9589666",
   "metadata": {
    "_kg_hide-input": false,
    "execution": {
     "iopub.execute_input": "2022-01-17T08:50:02.139775Z",
     "iopub.status.busy": "2022-01-17T08:50:02.138975Z",
     "iopub.status.idle": "2022-01-17T08:50:02.174932Z",
     "shell.execute_reply": "2022-01-17T08:50:02.175442Z",
     "shell.execute_reply.started": "2022-01-17T08:35:37.970095Z"
    },
    "papermill": {
     "duration": 0.072607,
     "end_time": "2022-01-17T08:50:02.175610",
     "exception": false,
     "start_time": "2022-01-17T08:50:02.103003",
     "status": "completed"
    },
    "tags": []
   },
   "outputs": [
    {
     "data": {
      "text/html": [
       "<style type=\"text/css\">\n",
       "#T_1ec4a th {\n",
       "  background-color: lightgray;\n",
       "  border: 1px solid gray;\n",
       "  font-weight: bold;\n",
       "}\n",
       "#T_1ec4a td {\n",
       "  border: 1px solid gray;\n",
       "}\n",
       "#T_1ec4a tr:hover {\n",
       "  background-color: white;\n",
       "  border: 1.5px solid black;\n",
       "}\n",
       "#T_1ec4a_row0_col0, #T_1ec4a_row1_col0, #T_1ec4a_row2_col0, #T_1ec4a_row3_col0, #T_1ec4a_row4_col0, #T_1ec4a_row5_col0, #T_1ec4a_row6_col0, #T_1ec4a_row7_col0 {\n",
       "  width: 80px;\n",
       "}\n",
       "#T_1ec4a_row0_col1, #T_1ec4a_row4_col1 {\n",
       "  background-color: pink;\n",
       "  width: 80px;\n",
       "}\n",
       "#T_1ec4a_row1_col1, #T_1ec4a_row2_col1, #T_1ec4a_row3_col1, #T_1ec4a_row5_col1, #T_1ec4a_row6_col1, #T_1ec4a_row7_col1 {\n",
       "  background-color: lightgreen;\n",
       "  width: 80px;\n",
       "}\n",
       "</style>\n",
       "<table id=\"T_1ec4a\">\n",
       "  <thead>\n",
       "    <tr>\n",
       "      <th class=\"blank level0\" >&nbsp;</th>\n",
       "      <th id=\"T_1ec4a_level0_col0\" class=\"col_heading level0 col0\" >windy</th>\n",
       "      <th id=\"T_1ec4a_level0_col1\" class=\"col_heading level0 col1\" >play</th>\n",
       "    </tr>\n",
       "  </thead>\n",
       "  <tbody>\n",
       "    <tr>\n",
       "      <th id=\"T_1ec4a_level0_row0\" class=\"row_heading level0 row0\" >0</th>\n",
       "      <td id=\"T_1ec4a_row0_col0\" class=\"data row0 col0\" >False</td>\n",
       "      <td id=\"T_1ec4a_row0_col1\" class=\"data row0 col1\" >no</td>\n",
       "    </tr>\n",
       "    <tr>\n",
       "      <th id=\"T_1ec4a_level0_row1\" class=\"row_heading level0 row1\" >2</th>\n",
       "      <td id=\"T_1ec4a_row1_col0\" class=\"data row1 col0\" >False</td>\n",
       "      <td id=\"T_1ec4a_row1_col1\" class=\"data row1 col1\" >yes</td>\n",
       "    </tr>\n",
       "    <tr>\n",
       "      <th id=\"T_1ec4a_level0_row2\" class=\"row_heading level0 row2\" >3</th>\n",
       "      <td id=\"T_1ec4a_row2_col0\" class=\"data row2 col0\" >False</td>\n",
       "      <td id=\"T_1ec4a_row2_col1\" class=\"data row2 col1\" >yes</td>\n",
       "    </tr>\n",
       "    <tr>\n",
       "      <th id=\"T_1ec4a_level0_row3\" class=\"row_heading level0 row3\" >4</th>\n",
       "      <td id=\"T_1ec4a_row3_col0\" class=\"data row3 col0\" >False</td>\n",
       "      <td id=\"T_1ec4a_row3_col1\" class=\"data row3 col1\" >yes</td>\n",
       "    </tr>\n",
       "    <tr>\n",
       "      <th id=\"T_1ec4a_level0_row4\" class=\"row_heading level0 row4\" >7</th>\n",
       "      <td id=\"T_1ec4a_row4_col0\" class=\"data row4 col0\" >False</td>\n",
       "      <td id=\"T_1ec4a_row4_col1\" class=\"data row4 col1\" >no</td>\n",
       "    </tr>\n",
       "    <tr>\n",
       "      <th id=\"T_1ec4a_level0_row5\" class=\"row_heading level0 row5\" >8</th>\n",
       "      <td id=\"T_1ec4a_row5_col0\" class=\"data row5 col0\" >False</td>\n",
       "      <td id=\"T_1ec4a_row5_col1\" class=\"data row5 col1\" >yes</td>\n",
       "    </tr>\n",
       "    <tr>\n",
       "      <th id=\"T_1ec4a_level0_row6\" class=\"row_heading level0 row6\" >9</th>\n",
       "      <td id=\"T_1ec4a_row6_col0\" class=\"data row6 col0\" >False</td>\n",
       "      <td id=\"T_1ec4a_row6_col1\" class=\"data row6 col1\" >yes</td>\n",
       "    </tr>\n",
       "    <tr>\n",
       "      <th id=\"T_1ec4a_level0_row7\" class=\"row_heading level0 row7\" >12</th>\n",
       "      <td id=\"T_1ec4a_row7_col0\" class=\"data row7 col0\" >False</td>\n",
       "      <td id=\"T_1ec4a_row7_col1\" class=\"data row7 col1\" >yes</td>\n",
       "    </tr>\n",
       "  </tbody>\n",
       "</table>\n"
      ],
      "text/plain": [
       "<pandas.io.formats.style.Styler at 0x2287d7f7ee0>"
      ]
     },
     "metadata": {},
     "output_type": "display_data"
    },
    {
     "name": "stdout",
     "output_type": "stream",
     "text": [
      "Entropy of windy - False = 0.811\n"
     ]
    },
    {
     "data": {
      "text/html": [
       "<style type=\"text/css\">\n",
       "#T_5ba1d th {\n",
       "  background-color: lightgray;\n",
       "  border: 1px solid gray;\n",
       "  font-weight: bold;\n",
       "}\n",
       "#T_5ba1d td {\n",
       "  border: 1px solid gray;\n",
       "}\n",
       "#T_5ba1d tr:hover {\n",
       "  background-color: white;\n",
       "  border: 1.5px solid black;\n",
       "}\n",
       "#T_5ba1d_row0_col0, #T_5ba1d_row1_col0, #T_5ba1d_row2_col0, #T_5ba1d_row3_col0, #T_5ba1d_row4_col0, #T_5ba1d_row5_col0 {\n",
       "  width: 80px;\n",
       "}\n",
       "#T_5ba1d_row0_col1, #T_5ba1d_row1_col1, #T_5ba1d_row5_col1 {\n",
       "  background-color: pink;\n",
       "  width: 80px;\n",
       "}\n",
       "#T_5ba1d_row2_col1, #T_5ba1d_row3_col1, #T_5ba1d_row4_col1 {\n",
       "  background-color: lightgreen;\n",
       "  width: 80px;\n",
       "}\n",
       "</style>\n",
       "<table id=\"T_5ba1d\">\n",
       "  <thead>\n",
       "    <tr>\n",
       "      <th class=\"blank level0\" >&nbsp;</th>\n",
       "      <th id=\"T_5ba1d_level0_col0\" class=\"col_heading level0 col0\" >windy</th>\n",
       "      <th id=\"T_5ba1d_level0_col1\" class=\"col_heading level0 col1\" >play</th>\n",
       "    </tr>\n",
       "  </thead>\n",
       "  <tbody>\n",
       "    <tr>\n",
       "      <th id=\"T_5ba1d_level0_row0\" class=\"row_heading level0 row0\" >1</th>\n",
       "      <td id=\"T_5ba1d_row0_col0\" class=\"data row0 col0\" >True</td>\n",
       "      <td id=\"T_5ba1d_row0_col1\" class=\"data row0 col1\" >no</td>\n",
       "    </tr>\n",
       "    <tr>\n",
       "      <th id=\"T_5ba1d_level0_row1\" class=\"row_heading level0 row1\" >5</th>\n",
       "      <td id=\"T_5ba1d_row1_col0\" class=\"data row1 col0\" >True</td>\n",
       "      <td id=\"T_5ba1d_row1_col1\" class=\"data row1 col1\" >no</td>\n",
       "    </tr>\n",
       "    <tr>\n",
       "      <th id=\"T_5ba1d_level0_row2\" class=\"row_heading level0 row2\" >6</th>\n",
       "      <td id=\"T_5ba1d_row2_col0\" class=\"data row2 col0\" >True</td>\n",
       "      <td id=\"T_5ba1d_row2_col1\" class=\"data row2 col1\" >yes</td>\n",
       "    </tr>\n",
       "    <tr>\n",
       "      <th id=\"T_5ba1d_level0_row3\" class=\"row_heading level0 row3\" >10</th>\n",
       "      <td id=\"T_5ba1d_row3_col0\" class=\"data row3 col0\" >True</td>\n",
       "      <td id=\"T_5ba1d_row3_col1\" class=\"data row3 col1\" >yes</td>\n",
       "    </tr>\n",
       "    <tr>\n",
       "      <th id=\"T_5ba1d_level0_row4\" class=\"row_heading level0 row4\" >11</th>\n",
       "      <td id=\"T_5ba1d_row4_col0\" class=\"data row4 col0\" >True</td>\n",
       "      <td id=\"T_5ba1d_row4_col1\" class=\"data row4 col1\" >yes</td>\n",
       "    </tr>\n",
       "    <tr>\n",
       "      <th id=\"T_5ba1d_level0_row5\" class=\"row_heading level0 row5\" >13</th>\n",
       "      <td id=\"T_5ba1d_row5_col0\" class=\"data row5 col0\" >True</td>\n",
       "      <td id=\"T_5ba1d_row5_col1\" class=\"data row5 col1\" >no</td>\n",
       "    </tr>\n",
       "  </tbody>\n",
       "</table>\n"
      ],
      "text/plain": [
       "<pandas.io.formats.style.Styler at 0x2287d7f7850>"
      ]
     },
     "metadata": {},
     "output_type": "display_data"
    },
    {
     "name": "stdout",
     "output_type": "stream",
     "text": [
      "Entropy of windy - True = 1.0\n",
      "Information Gain for windy = 0.048\n"
     ]
    }
   ],
   "source": [
    "entropy_and_infogain(data, 'windy')"
   ]
  },
  {
   "cell_type": "markdown",
   "id": "db0f3866",
   "metadata": {
    "papermill": {
     "duration": 0.03422,
     "end_time": "2022-01-17T08:50:02.244884",
     "exception": false,
     "start_time": "2022-01-17T08:50:02.210664",
     "status": "completed"
    },
    "tags": []
   },
   "source": [
    "# Step 2\n",
    "<h3 style='font-family: serif;'>Make a decision tree node using the feature with the maximum Information Gain.</h3>"
   ]
  },
  {
   "attachments": {
    "2c6fd6ff-0511-4b0e-acf0-26a35e10aeb4.jpg": {
     "image/jpeg": "[encoded data removed]"
    }
   },
   "cell_type": "markdown",
   "id": "dadc5025",
   "metadata": {
    "papermill": {
     "duration": 0.035472,
     "end_time": "2022-01-17T08:50:02.321981",
     "exception": false,
     "start_time": "2022-01-17T08:50:02.286509",
     "status": "completed"
    },
    "tags": []
   },
   "source": [
    "![Untitled Workspace (10).jpg](attachment:2c6fd6ff-0511-4b0e-acf0-26a35e10aeb4.jpg)"
   ]
  },
  {
   "cell_type": "markdown",
   "id": "c8040b4a",
   "metadata": {
    "papermill": {
     "duration": 0.034851,
     "end_time": "2022-01-17T08:50:02.393045",
     "exception": false,
     "start_time": "2022-01-17T08:50:02.358194",
     "status": "completed"
    },
    "tags": []
   },
   "source": [
    "<div class=\"alert alert-block alert-info\" style=\"text-align:center\">\n",
    "<b>Outlook has the highest Information Gain - 0.246, so it is used as the root node.</b><br>\n",
    "<b>In Overcast every data belongs to same class (Yes), which makes it as leaf node.</b><br>  \n",
    "<b>Sunny and Rainy has different class (Yes & no). So we find the feature with maximum Information gain for sunny and rainy for further splitting.</b>\n",
    "</div>"
   ]
  },
  {
   "cell_type": "markdown",
   "id": "7da6c170",
   "metadata": {
    "papermill": {
     "duration": 0.033738,
     "end_time": "2022-01-17T08:50:02.461629",
     "exception": false,
     "start_time": "2022-01-17T08:50:02.427891",
     "status": "completed"
    },
    "tags": []
   },
   "source": [
    "# Step 3\n",
    "<h3 style='font-family: serif;'>Repeat until we run out of all features, or the decision tree has all leaf nodes.</h3>"
   ]
  },
  {
   "cell_type": "markdown",
   "id": "7d67523a",
   "metadata": {
    "papermill": {
     "duration": 0.03403,
     "end_time": "2022-01-17T08:50:02.529994",
     "exception": false,
     "start_time": "2022-01-17T08:50:02.495964",
     "status": "completed"
    },
    "tags": []
   },
   "source": [
    "### **Outlook - Sunny**"
   ]
  },
  {
   "cell_type": "code",
   "execution_count": 9,
   "id": "23504349",
   "metadata": {
    "_kg_hide-input": true,
    "execution": {
     "iopub.execute_input": "2022-01-17T08:50:02.601635Z",
     "iopub.status.busy": "2022-01-17T08:50:02.600931Z",
     "iopub.status.idle": "2022-01-17T08:50:02.621561Z",
     "shell.execute_reply": "2022-01-17T08:50:02.622077Z",
     "shell.execute_reply.started": "2022-01-17T08:35:53.354432Z"
    },
    "papermill": {
     "duration": 0.058118,
     "end_time": "2022-01-17T08:50:02.622248",
     "exception": false,
     "start_time": "2022-01-17T08:50:02.564130",
     "status": "completed"
    },
    "tags": []
   },
   "outputs": [
    {
     "data": {
      "text/html": [
       "<style type=\"text/css\">\n",
       "#T_12934 th {\n",
       "  background-color: lightgray;\n",
       "  border: 1px solid gray;\n",
       "  font-weight: bold;\n",
       "}\n",
       "#T_12934 tr:hover {\n",
       "  background-color: white;\n",
       "  border: 1.5px solid black;\n",
       "}\n",
       "#T_12934_row0_col0, #T_12934_row0_col1, #T_12934_row0_col2, #T_12934_row0_col3, #T_12934_row1_col0, #T_12934_row1_col1, #T_12934_row1_col2, #T_12934_row1_col3, #T_12934_row2_col0, #T_12934_row2_col1, #T_12934_row2_col2, #T_12934_row2_col3, #T_12934_row3_col0, #T_12934_row3_col1, #T_12934_row3_col2, #T_12934_row3_col3, #T_12934_row4_col0, #T_12934_row4_col1, #T_12934_row4_col2, #T_12934_row4_col3 {\n",
       "  width: 100px;\n",
       "}\n",
       "#T_12934_row0_col4, #T_12934_row1_col4, #T_12934_row2_col4 {\n",
       "  background-color: pink;\n",
       "  width: 100px;\n",
       "}\n",
       "#T_12934_row3_col4, #T_12934_row4_col4 {\n",
       "  background-color: lightgreen;\n",
       "  width: 100px;\n",
       "}\n",
       "</style>\n",
       "<table id=\"T_12934\">\n",
       "  <thead>\n",
       "    <tr>\n",
       "      <th class=\"blank level0\" >&nbsp;</th>\n",
       "      <th id=\"T_12934_level0_col0\" class=\"col_heading level0 col0\" >outlook</th>\n",
       "      <th id=\"T_12934_level0_col1\" class=\"col_heading level0 col1\" >temp</th>\n",
       "      <th id=\"T_12934_level0_col2\" class=\"col_heading level0 col2\" >humidity</th>\n",
       "      <th id=\"T_12934_level0_col3\" class=\"col_heading level0 col3\" >windy</th>\n",
       "      <th id=\"T_12934_level0_col4\" class=\"col_heading level0 col4\" >play</th>\n",
       "    </tr>\n",
       "  </thead>\n",
       "  <tbody>\n",
       "    <tr>\n",
       "      <th id=\"T_12934_level0_row0\" class=\"row_heading level0 row0\" >0</th>\n",
       "      <td id=\"T_12934_row0_col0\" class=\"data row0 col0\" >sunny</td>\n",
       "      <td id=\"T_12934_row0_col1\" class=\"data row0 col1\" >hot</td>\n",
       "      <td id=\"T_12934_row0_col2\" class=\"data row0 col2\" >high</td>\n",
       "      <td id=\"T_12934_row0_col3\" class=\"data row0 col3\" >False</td>\n",
       "      <td id=\"T_12934_row0_col4\" class=\"data row0 col4\" >no</td>\n",
       "    </tr>\n",
       "    <tr>\n",
       "      <th id=\"T_12934_level0_row1\" class=\"row_heading level0 row1\" >1</th>\n",
       "      <td id=\"T_12934_row1_col0\" class=\"data row1 col0\" >sunny</td>\n",
       "      <td id=\"T_12934_row1_col1\" class=\"data row1 col1\" >hot</td>\n",
       "      <td id=\"T_12934_row1_col2\" class=\"data row1 col2\" >high</td>\n",
       "      <td id=\"T_12934_row1_col3\" class=\"data row1 col3\" >True</td>\n",
       "      <td id=\"T_12934_row1_col4\" class=\"data row1 col4\" >no</td>\n",
       "    </tr>\n",
       "    <tr>\n",
       "      <th id=\"T_12934_level0_row2\" class=\"row_heading level0 row2\" >7</th>\n",
       "      <td id=\"T_12934_row2_col0\" class=\"data row2 col0\" >sunny</td>\n",
       "      <td id=\"T_12934_row2_col1\" class=\"data row2 col1\" >mild</td>\n",
       "      <td id=\"T_12934_row2_col2\" class=\"data row2 col2\" >high</td>\n",
       "      <td id=\"T_12934_row2_col3\" class=\"data row2 col3\" >False</td>\n",
       "      <td id=\"T_12934_row2_col4\" class=\"data row2 col4\" >no</td>\n",
       "    </tr>\n",
       "    <tr>\n",
       "      <th id=\"T_12934_level0_row3\" class=\"row_heading level0 row3\" >8</th>\n",
       "      <td id=\"T_12934_row3_col0\" class=\"data row3 col0\" >sunny</td>\n",
       "      <td id=\"T_12934_row3_col1\" class=\"data row3 col1\" >cool</td>\n",
       "      <td id=\"T_12934_row3_col2\" class=\"data row3 col2\" >normal</td>\n",
       "      <td id=\"T_12934_row3_col3\" class=\"data row3 col3\" >False</td>\n",
       "      <td id=\"T_12934_row3_col4\" class=\"data row3 col4\" >yes</td>\n",
       "    </tr>\n",
       "    <tr>\n",
       "      <th id=\"T_12934_level0_row4\" class=\"row_heading level0 row4\" >10</th>\n",
       "      <td id=\"T_12934_row4_col0\" class=\"data row4 col0\" >sunny</td>\n",
       "      <td id=\"T_12934_row4_col1\" class=\"data row4 col1\" >mild</td>\n",
       "      <td id=\"T_12934_row4_col2\" class=\"data row4 col2\" >normal</td>\n",
       "      <td id=\"T_12934_row4_col3\" class=\"data row4 col3\" >True</td>\n",
       "      <td id=\"T_12934_row4_col4\" class=\"data row4 col4\" >yes</td>\n",
       "    </tr>\n",
       "  </tbody>\n",
       "</table>\n"
      ],
      "text/plain": [
       "<pandas.io.formats.style.Styler at 0x2287d8330d0>"
      ]
     },
     "execution_count": 9,
     "metadata": {},
     "output_type": "execute_result"
    }
   ],
   "source": [
    "sunny = data[data['outlook'] == 'sunny']\n",
    "sunny.style.applymap(highlight)\\\n",
    "    .set_properties(subset=data.columns, **{'width': '100px'})\\\n",
    "    .set_table_styles([{'selector': 'th', 'props': [('background-color', 'lightgray'), ('border', '1px solid gray'),\n",
    "                                                    ('font-weight', 'bold')]},\n",
    "     {'selector': 'tr:hover', 'props': [('background-color', 'white'), ('border', '1.5px solid black')]}])"
   ]
  },
  {
   "cell_type": "code",
   "execution_count": 10,
   "id": "57bdc0f4",
   "metadata": {
    "execution": {
     "iopub.execute_input": "2022-01-17T08:50:02.698589Z",
     "iopub.status.busy": "2022-01-17T08:50:02.697916Z",
     "iopub.status.idle": "2022-01-17T08:50:02.700337Z",
     "shell.execute_reply": "2022-01-17T08:50:02.700796Z",
     "shell.execute_reply.started": "2022-01-17T08:35:54.928052Z"
    },
    "papermill": {
     "duration": 0.043966,
     "end_time": "2022-01-17T08:50:02.700966",
     "exception": false,
     "start_time": "2022-01-17T08:50:02.657000",
     "status": "completed"
    },
    "tags": []
   },
   "outputs": [
    {
     "name": "stdout",
     "output_type": "stream",
     "text": [
      "Entropy of the Sunny dataset: 0.971\n"
     ]
    }
   ],
   "source": [
    "print(f'Entropy of the Sunny dataset: {find_entropy(sunny.play)}')"
   ]
  },
  {
   "cell_type": "markdown",
   "id": "a60d4f34",
   "metadata": {
    "papermill": {
     "duration": 0.035968,
     "end_time": "2022-01-17T08:50:02.773346",
     "exception": false,
     "start_time": "2022-01-17T08:50:02.737378",
     "status": "completed"
    },
    "tags": []
   },
   "source": [
    "**Calculating the Information gain for each feature**\n",
    "\n",
    "**Temp**"
   ]
  },
  {
   "cell_type": "code",
   "execution_count": 11,
   "id": "d25a935b",
   "metadata": {
    "_kg_hide-input": false,
    "execution": {
     "iopub.execute_input": "2022-01-17T08:50:02.851492Z",
     "iopub.status.busy": "2022-01-17T08:50:02.850808Z",
     "iopub.status.idle": "2022-01-17T08:50:02.893244Z",
     "shell.execute_reply": "2022-01-17T08:50:02.893783Z",
     "shell.execute_reply.started": "2022-01-17T08:35:57.193955Z"
    },
    "papermill": {
     "duration": 0.084746,
     "end_time": "2022-01-17T08:50:02.893956",
     "exception": false,
     "start_time": "2022-01-17T08:50:02.809210",
     "status": "completed"
    },
    "tags": []
   },
   "outputs": [
    {
     "data": {
      "text/html": [
       "<style type=\"text/css\">\n",
       "#T_966de th {\n",
       "  background-color: lightgray;\n",
       "  border: 1px solid gray;\n",
       "  font-weight: bold;\n",
       "}\n",
       "#T_966de td {\n",
       "  border: 1px solid gray;\n",
       "}\n",
       "#T_966de tr:hover {\n",
       "  background-color: white;\n",
       "  border: 1.5px solid black;\n",
       "}\n",
       "#T_966de_row0_col0, #T_966de_row1_col0 {\n",
       "  width: 80px;\n",
       "}\n",
       "#T_966de_row0_col1, #T_966de_row1_col1 {\n",
       "  background-color: pink;\n",
       "  width: 80px;\n",
       "}\n",
       "</style>\n",
       "<table id=\"T_966de\">\n",
       "  <thead>\n",
       "    <tr>\n",
       "      <th class=\"blank level0\" >&nbsp;</th>\n",
       "      <th id=\"T_966de_level0_col0\" class=\"col_heading level0 col0\" >temp</th>\n",
       "      <th id=\"T_966de_level0_col1\" class=\"col_heading level0 col1\" >play</th>\n",
       "    </tr>\n",
       "  </thead>\n",
       "  <tbody>\n",
       "    <tr>\n",
       "      <th id=\"T_966de_level0_row0\" class=\"row_heading level0 row0\" >0</th>\n",
       "      <td id=\"T_966de_row0_col0\" class=\"data row0 col0\" >hot</td>\n",
       "      <td id=\"T_966de_row0_col1\" class=\"data row0 col1\" >no</td>\n",
       "    </tr>\n",
       "    <tr>\n",
       "      <th id=\"T_966de_level0_row1\" class=\"row_heading level0 row1\" >1</th>\n",
       "      <td id=\"T_966de_row1_col0\" class=\"data row1 col0\" >hot</td>\n",
       "      <td id=\"T_966de_row1_col1\" class=\"data row1 col1\" >no</td>\n",
       "    </tr>\n",
       "  </tbody>\n",
       "</table>\n"
      ],
      "text/plain": [
       "<pandas.io.formats.style.Styler at 0x2287e6e9490>"
      ]
     },
     "metadata": {},
     "output_type": "display_data"
    },
    {
     "name": "stdout",
     "output_type": "stream",
     "text": [
      "Entropy of temp - hot = 0.0\n"
     ]
    },
    {
     "data": {
      "text/html": [
       "<style type=\"text/css\">\n",
       "#T_a1009 th {\n",
       "  background-color: lightgray;\n",
       "  border: 1px solid gray;\n",
       "  font-weight: bold;\n",
       "}\n",
       "#T_a1009 td {\n",
       "  border: 1px solid gray;\n",
       "}\n",
       "#T_a1009 tr:hover {\n",
       "  background-color: white;\n",
       "  border: 1.5px solid black;\n",
       "}\n",
       "#T_a1009_row0_col0, #T_a1009_row1_col0 {\n",
       "  width: 80px;\n",
       "}\n",
       "#T_a1009_row0_col1 {\n",
       "  background-color: pink;\n",
       "  width: 80px;\n",
       "}\n",
       "#T_a1009_row1_col1 {\n",
       "  background-color: lightgreen;\n",
       "  width: 80px;\n",
       "}\n",
       "</style>\n",
       "<table id=\"T_a1009\">\n",
       "  <thead>\n",
       "    <tr>\n",
       "      <th class=\"blank level0\" >&nbsp;</th>\n",
       "      <th id=\"T_a1009_level0_col0\" class=\"col_heading level0 col0\" >temp</th>\n",
       "      <th id=\"T_a1009_level0_col1\" class=\"col_heading level0 col1\" >play</th>\n",
       "    </tr>\n",
       "  </thead>\n",
       "  <tbody>\n",
       "    <tr>\n",
       "      <th id=\"T_a1009_level0_row0\" class=\"row_heading level0 row0\" >7</th>\n",
       "      <td id=\"T_a1009_row0_col0\" class=\"data row0 col0\" >mild</td>\n",
       "      <td id=\"T_a1009_row0_col1\" class=\"data row0 col1\" >no</td>\n",
       "    </tr>\n",
       "    <tr>\n",
       "      <th id=\"T_a1009_level0_row1\" class=\"row_heading level0 row1\" >10</th>\n",
       "      <td id=\"T_a1009_row1_col0\" class=\"data row1 col0\" >mild</td>\n",
       "      <td id=\"T_a1009_row1_col1\" class=\"data row1 col1\" >yes</td>\n",
       "    </tr>\n",
       "  </tbody>\n",
       "</table>\n"
      ],
      "text/plain": [
       "<pandas.io.formats.style.Styler at 0x2287d863ac0>"
      ]
     },
     "metadata": {},
     "output_type": "display_data"
    },
    {
     "name": "stdout",
     "output_type": "stream",
     "text": [
      "Entropy of temp - mild = 1.0\n"
     ]
    },
    {
     "data": {
      "text/html": [
       "<style type=\"text/css\">\n",
       "#T_84228 th {\n",
       "  background-color: lightgray;\n",
       "  border: 1px solid gray;\n",
       "  font-weight: bold;\n",
       "}\n",
       "#T_84228 td {\n",
       "  border: 1px solid gray;\n",
       "}\n",
       "#T_84228 tr:hover {\n",
       "  background-color: white;\n",
       "  border: 1.5px solid black;\n",
       "}\n",
       "#T_84228_row0_col0 {\n",
       "  width: 80px;\n",
       "}\n",
       "#T_84228_row0_col1 {\n",
       "  background-color: lightgreen;\n",
       "  width: 80px;\n",
       "}\n",
       "</style>\n",
       "<table id=\"T_84228\">\n",
       "  <thead>\n",
       "    <tr>\n",
       "      <th class=\"blank level0\" >&nbsp;</th>\n",
       "      <th id=\"T_84228_level0_col0\" class=\"col_heading level0 col0\" >temp</th>\n",
       "      <th id=\"T_84228_level0_col1\" class=\"col_heading level0 col1\" >play</th>\n",
       "    </tr>\n",
       "  </thead>\n",
       "  <tbody>\n",
       "    <tr>\n",
       "      <th id=\"T_84228_level0_row0\" class=\"row_heading level0 row0\" >8</th>\n",
       "      <td id=\"T_84228_row0_col0\" class=\"data row0 col0\" >cool</td>\n",
       "      <td id=\"T_84228_row0_col1\" class=\"data row0 col1\" >yes</td>\n",
       "    </tr>\n",
       "  </tbody>\n",
       "</table>\n"
      ],
      "text/plain": [
       "<pandas.io.formats.style.Styler at 0x2287af1cc40>"
      ]
     },
     "metadata": {},
     "output_type": "display_data"
    },
    {
     "name": "stdout",
     "output_type": "stream",
     "text": [
      "Entropy of temp - cool = 0.0\n",
      "Information Gain for temp = 0.571\n"
     ]
    }
   ],
   "source": [
    "entropy_and_infogain(sunny, 'temp')"
   ]
  },
  {
   "cell_type": "markdown",
   "id": "0e6c2f3c",
   "metadata": {
    "papermill": {
     "duration": 0.036983,
     "end_time": "2022-01-17T08:50:02.967710",
     "exception": false,
     "start_time": "2022-01-17T08:50:02.930727",
     "status": "completed"
    },
    "tags": []
   },
   "source": [
    "**Humidity**"
   ]
  },
  {
   "cell_type": "code",
   "execution_count": 12,
   "id": "2ce64994",
   "metadata": {
    "_kg_hide-input": false,
    "execution": {
     "iopub.execute_input": "2022-01-17T08:50:03.057818Z",
     "iopub.status.busy": "2022-01-17T08:50:03.049216Z",
     "iopub.status.idle": "2022-01-17T08:50:03.079330Z",
     "shell.execute_reply": "2022-01-17T08:50:03.078837Z",
     "shell.execute_reply.started": "2022-01-17T07:58:46.378467Z"
    },
    "papermill": {
     "duration": 0.074826,
     "end_time": "2022-01-17T08:50:03.079467",
     "exception": false,
     "start_time": "2022-01-17T08:50:03.004641",
     "status": "completed"
    },
    "tags": []
   },
   "outputs": [
    {
     "data": {
      "text/html": [
       "<style type=\"text/css\">\n",
       "#T_6e3df th {\n",
       "  background-color: lightgray;\n",
       "  border: 1px solid gray;\n",
       "  font-weight: bold;\n",
       "}\n",
       "#T_6e3df td {\n",
       "  border: 1px solid gray;\n",
       "}\n",
       "#T_6e3df tr:hover {\n",
       "  background-color: white;\n",
       "  border: 1.5px solid black;\n",
       "}\n",
       "#T_6e3df_row0_col0, #T_6e3df_row1_col0, #T_6e3df_row2_col0 {\n",
       "  width: 80px;\n",
       "}\n",
       "#T_6e3df_row0_col1, #T_6e3df_row1_col1, #T_6e3df_row2_col1 {\n",
       "  background-color: pink;\n",
       "  width: 80px;\n",
       "}\n",
       "</style>\n",
       "<table id=\"T_6e3df\">\n",
       "  <thead>\n",
       "    <tr>\n",
       "      <th class=\"blank level0\" >&nbsp;</th>\n",
       "      <th id=\"T_6e3df_level0_col0\" class=\"col_heading level0 col0\" >humidity</th>\n",
       "      <th id=\"T_6e3df_level0_col1\" class=\"col_heading level0 col1\" >play</th>\n",
       "    </tr>\n",
       "  </thead>\n",
       "  <tbody>\n",
       "    <tr>\n",
       "      <th id=\"T_6e3df_level0_row0\" class=\"row_heading level0 row0\" >0</th>\n",
       "      <td id=\"T_6e3df_row0_col0\" class=\"data row0 col0\" >high</td>\n",
       "      <td id=\"T_6e3df_row0_col1\" class=\"data row0 col1\" >no</td>\n",
       "    </tr>\n",
       "    <tr>\n",
       "      <th id=\"T_6e3df_level0_row1\" class=\"row_heading level0 row1\" >1</th>\n",
       "      <td id=\"T_6e3df_row1_col0\" class=\"data row1 col0\" >high</td>\n",
       "      <td id=\"T_6e3df_row1_col1\" class=\"data row1 col1\" >no</td>\n",
       "    </tr>\n",
       "    <tr>\n",
       "      <th id=\"T_6e3df_level0_row2\" class=\"row_heading level0 row2\" >7</th>\n",
       "      <td id=\"T_6e3df_row2_col0\" class=\"data row2 col0\" >high</td>\n",
       "      <td id=\"T_6e3df_row2_col1\" class=\"data row2 col1\" >no</td>\n",
       "    </tr>\n",
       "  </tbody>\n",
       "</table>\n"
      ],
      "text/plain": [
       "<pandas.io.formats.style.Styler at 0x2287e6e9eb0>"
      ]
     },
     "metadata": {},
     "output_type": "display_data"
    },
    {
     "name": "stdout",
     "output_type": "stream",
     "text": [
      "Entropy of humidity - high = 0.0\n"
     ]
    },
    {
     "data": {
      "text/html": [
       "<style type=\"text/css\">\n",
       "#T_5a512 th {\n",
       "  background-color: lightgray;\n",
       "  border: 1px solid gray;\n",
       "  font-weight: bold;\n",
       "}\n",
       "#T_5a512 td {\n",
       "  border: 1px solid gray;\n",
       "}\n",
       "#T_5a512 tr:hover {\n",
       "  background-color: white;\n",
       "  border: 1.5px solid black;\n",
       "}\n",
       "#T_5a512_row0_col0, #T_5a512_row1_col0 {\n",
       "  width: 80px;\n",
       "}\n",
       "#T_5a512_row0_col1, #T_5a512_row1_col1 {\n",
       "  background-color: lightgreen;\n",
       "  width: 80px;\n",
       "}\n",
       "</style>\n",
       "<table id=\"T_5a512\">\n",
       "  <thead>\n",
       "    <tr>\n",
       "      <th class=\"blank level0\" >&nbsp;</th>\n",
       "      <th id=\"T_5a512_level0_col0\" class=\"col_heading level0 col0\" >humidity</th>\n",
       "      <th id=\"T_5a512_level0_col1\" class=\"col_heading level0 col1\" >play</th>\n",
       "    </tr>\n",
       "  </thead>\n",
       "  <tbody>\n",
       "    <tr>\n",
       "      <th id=\"T_5a512_level0_row0\" class=\"row_heading level0 row0\" >8</th>\n",
       "      <td id=\"T_5a512_row0_col0\" class=\"data row0 col0\" >normal</td>\n",
       "      <td id=\"T_5a512_row0_col1\" class=\"data row0 col1\" >yes</td>\n",
       "    </tr>\n",
       "    <tr>\n",
       "      <th id=\"T_5a512_level0_row1\" class=\"row_heading level0 row1\" >10</th>\n",
       "      <td id=\"T_5a512_row1_col0\" class=\"data row1 col0\" >normal</td>\n",
       "      <td id=\"T_5a512_row1_col1\" class=\"data row1 col1\" >yes</td>\n",
       "    </tr>\n",
       "  </tbody>\n",
       "</table>\n"
      ],
      "text/plain": [
       "<pandas.io.formats.style.Styler at 0x2287e6e9e80>"
      ]
     },
     "metadata": {},
     "output_type": "display_data"
    },
    {
     "name": "stdout",
     "output_type": "stream",
     "text": [
      "Entropy of humidity - normal = 0.0\n",
      "Information Gain for humidity = 0.971\n"
     ]
    }
   ],
   "source": [
    "entropy_and_infogain(sunny, 'humidity')"
   ]
  },
  {
   "cell_type": "markdown",
   "id": "148f4b3e",
   "metadata": {
    "papermill": {
     "duration": 0.037871,
     "end_time": "2022-01-17T08:50:03.156435",
     "exception": false,
     "start_time": "2022-01-17T08:50:03.118564",
     "status": "completed"
    },
    "tags": []
   },
   "source": [
    "**Windy**"
   ]
  },
  {
   "cell_type": "code",
   "execution_count": 13,
   "id": "1a29067a",
   "metadata": {
    "_kg_hide-input": false,
    "execution": {
     "iopub.execute_input": "2022-01-17T08:50:03.242020Z",
     "iopub.status.busy": "2022-01-17T08:50:03.241288Z",
     "iopub.status.idle": "2022-01-17T08:50:03.270141Z",
     "shell.execute_reply": "2022-01-17T08:50:03.270672Z",
     "shell.execute_reply.started": "2022-01-17T07:58:46.41563Z"
    },
    "papermill": {
     "duration": 0.074553,
     "end_time": "2022-01-17T08:50:03.270842",
     "exception": false,
     "start_time": "2022-01-17T08:50:03.196289",
     "status": "completed"
    },
    "tags": []
   },
   "outputs": [
    {
     "data": {
      "text/html": [
       "<style type=\"text/css\">\n",
       "#T_a06c7 th {\n",
       "  background-color: lightgray;\n",
       "  border: 1px solid gray;\n",
       "  font-weight: bold;\n",
       "}\n",
       "#T_a06c7 td {\n",
       "  border: 1px solid gray;\n",
       "}\n",
       "#T_a06c7 tr:hover {\n",
       "  background-color: white;\n",
       "  border: 1.5px solid black;\n",
       "}\n",
       "#T_a06c7_row0_col0, #T_a06c7_row1_col0, #T_a06c7_row2_col0 {\n",
       "  width: 80px;\n",
       "}\n",
       "#T_a06c7_row0_col1, #T_a06c7_row1_col1 {\n",
       "  background-color: pink;\n",
       "  width: 80px;\n",
       "}\n",
       "#T_a06c7_row2_col1 {\n",
       "  background-color: lightgreen;\n",
       "  width: 80px;\n",
       "}\n",
       "</style>\n",
       "<table id=\"T_a06c7\">\n",
       "  <thead>\n",
       "    <tr>\n",
       "      <th class=\"blank level0\" >&nbsp;</th>\n",
       "      <th id=\"T_a06c7_level0_col0\" class=\"col_heading level0 col0\" >windy</th>\n",
       "      <th id=\"T_a06c7_level0_col1\" class=\"col_heading level0 col1\" >play</th>\n",
       "    </tr>\n",
       "  </thead>\n",
       "  <tbody>\n",
       "    <tr>\n",
       "      <th id=\"T_a06c7_level0_row0\" class=\"row_heading level0 row0\" >0</th>\n",
       "      <td id=\"T_a06c7_row0_col0\" class=\"data row0 col0\" >False</td>\n",
       "      <td id=\"T_a06c7_row0_col1\" class=\"data row0 col1\" >no</td>\n",
       "    </tr>\n",
       "    <tr>\n",
       "      <th id=\"T_a06c7_level0_row1\" class=\"row_heading level0 row1\" >7</th>\n",
       "      <td id=\"T_a06c7_row1_col0\" class=\"data row1 col0\" >False</td>\n",
       "      <td id=\"T_a06c7_row1_col1\" class=\"data row1 col1\" >no</td>\n",
       "    </tr>\n",
       "    <tr>\n",
       "      <th id=\"T_a06c7_level0_row2\" class=\"row_heading level0 row2\" >8</th>\n",
       "      <td id=\"T_a06c7_row2_col0\" class=\"data row2 col0\" >False</td>\n",
       "      <td id=\"T_a06c7_row2_col1\" class=\"data row2 col1\" >yes</td>\n",
       "    </tr>\n",
       "  </tbody>\n",
       "</table>\n"
      ],
      "text/plain": [
       "<pandas.io.formats.style.Styler at 0x2287e6e9460>"
      ]
     },
     "metadata": {},
     "output_type": "display_data"
    },
    {
     "name": "stdout",
     "output_type": "stream",
     "text": [
      "Entropy of windy - False = 0.918\n"
     ]
    },
    {
     "data": {
      "text/html": [
       "<style type=\"text/css\">\n",
       "#T_d6ba3 th {\n",
       "  background-color: lightgray;\n",
       "  border: 1px solid gray;\n",
       "  font-weight: bold;\n",
       "}\n",
       "#T_d6ba3 td {\n",
       "  border: 1px solid gray;\n",
       "}\n",
       "#T_d6ba3 tr:hover {\n",
       "  background-color: white;\n",
       "  border: 1.5px solid black;\n",
       "}\n",
       "#T_d6ba3_row0_col0, #T_d6ba3_row1_col0 {\n",
       "  width: 80px;\n",
       "}\n",
       "#T_d6ba3_row0_col1 {\n",
       "  background-color: pink;\n",
       "  width: 80px;\n",
       "}\n",
       "#T_d6ba3_row1_col1 {\n",
       "  background-color: lightgreen;\n",
       "  width: 80px;\n",
       "}\n",
       "</style>\n",
       "<table id=\"T_d6ba3\">\n",
       "  <thead>\n",
       "    <tr>\n",
       "      <th class=\"blank level0\" >&nbsp;</th>\n",
       "      <th id=\"T_d6ba3_level0_col0\" class=\"col_heading level0 col0\" >windy</th>\n",
       "      <th id=\"T_d6ba3_level0_col1\" class=\"col_heading level0 col1\" >play</th>\n",
       "    </tr>\n",
       "  </thead>\n",
       "  <tbody>\n",
       "    <tr>\n",
       "      <th id=\"T_d6ba3_level0_row0\" class=\"row_heading level0 row0\" >1</th>\n",
       "      <td id=\"T_d6ba3_row0_col0\" class=\"data row0 col0\" >True</td>\n",
       "      <td id=\"T_d6ba3_row0_col1\" class=\"data row0 col1\" >no</td>\n",
       "    </tr>\n",
       "    <tr>\n",
       "      <th id=\"T_d6ba3_level0_row1\" class=\"row_heading level0 row1\" >10</th>\n",
       "      <td id=\"T_d6ba3_row1_col0\" class=\"data row1 col0\" >True</td>\n",
       "      <td id=\"T_d6ba3_row1_col1\" class=\"data row1 col1\" >yes</td>\n",
       "    </tr>\n",
       "  </tbody>\n",
       "</table>\n"
      ],
      "text/plain": [
       "<pandas.io.formats.style.Styler at 0x2287e6e9e80>"
      ]
     },
     "metadata": {},
     "output_type": "display_data"
    },
    {
     "name": "stdout",
     "output_type": "stream",
     "text": [
      "Entropy of windy - True = 1.0\n",
      "Information Gain for windy = 0.02\n"
     ]
    }
   ],
   "source": [
    "entropy_and_infogain(sunny, 'windy')"
   ]
  },
  {
   "cell_type": "markdown",
   "id": "b6da5270",
   "metadata": {
    "papermill": {
     "duration": 0.039562,
     "end_time": "2022-01-17T08:50:03.350891",
     "exception": false,
     "start_time": "2022-01-17T08:50:03.311329",
     "status": "completed"
    },
    "tags": []
   },
   "source": [
    "**Making a decision tree node using the feature which has the maximum Information Gain.**"
   ]
  },
  {
   "attachments": {
    "f60313a4-95e0-4411-9794-5070e6b5aed8.jpg": {
     "image/jpeg": "[encoded data removed]"
    }
   },
   "cell_type": "markdown",
   "id": "bf7a254a",
   "metadata": {
    "papermill": {
     "duration": 0.040353,
     "end_time": "2022-01-17T08:50:03.431054",
     "exception": false,
     "start_time": "2022-01-17T08:50:03.390701",
     "status": "completed"
    },
    "tags": []
   },
   "source": [
    "![Untitled Workspace (2).jpg](attachment:f60313a4-95e0-4411-9794-5070e6b5aed8.jpg)"
   ]
  },
  {
   "cell_type": "markdown",
   "id": "d8abbc58",
   "metadata": {
    "papermill": {
     "duration": 0.039609,
     "end_time": "2022-01-17T08:50:03.511035",
     "exception": false,
     "start_time": "2022-01-17T08:50:03.471426",
     "status": "completed"
    },
    "tags": []
   },
   "source": [
    "<div class=\"alert alert-block alert-info\" style=\"text-align:center\">\n",
    "<b>Humidity has the highest Information Gain - 0.971, so it is used as the decision node.</b><br>\n",
    "<b>In Overcast and Humidity - high, normal every data classified to same class, which makes them as leaf node.</b><br>  \n",
    "<b>Now, only Rainy has different class (Yes & no). So again we find the feature with maximum Information gain for\n",
    "and rainy for further splitting.</b> \n",
    "</div>"
   ]
  },
  {
   "cell_type": "markdown",
   "id": "389d73a7",
   "metadata": {
    "papermill": {
     "duration": 0.039718,
     "end_time": "2022-01-17T08:50:03.590508",
     "exception": false,
     "start_time": "2022-01-17T08:50:03.550790",
     "status": "completed"
    },
    "tags": []
   },
   "source": [
    "### **Outlook - Rainy**"
   ]
  },
  {
   "cell_type": "code",
   "execution_count": 14,
   "id": "9f95f36f",
   "metadata": {
    "_kg_hide-input": true,
    "execution": {
     "iopub.execute_input": "2022-01-17T08:50:03.674930Z",
     "iopub.status.busy": "2022-01-17T08:50:03.674302Z",
     "iopub.status.idle": "2022-01-17T08:50:03.694106Z",
     "shell.execute_reply": "2022-01-17T08:50:03.694662Z",
     "shell.execute_reply.started": "2022-01-17T07:58:46.592521Z"
    },
    "papermill": {
     "duration": 0.0631,
     "end_time": "2022-01-17T08:50:03.694821",
     "exception": false,
     "start_time": "2022-01-17T08:50:03.631721",
     "status": "completed"
    },
    "tags": []
   },
   "outputs": [
    {
     "data": {
      "text/html": [
       "<style type=\"text/css\">\n",
       "#T_6f0e1 th {\n",
       "  background-color: lightgray;\n",
       "  border: 1px solid gray;\n",
       "  font-weight: bold;\n",
       "}\n",
       "#T_6f0e1 tr:hover {\n",
       "  background-color: white;\n",
       "  border: 1.5px solid black;\n",
       "}\n",
       "#T_6f0e1_row0_col0, #T_6f0e1_row0_col1, #T_6f0e1_row0_col2, #T_6f0e1_row0_col3, #T_6f0e1_row1_col0, #T_6f0e1_row1_col1, #T_6f0e1_row1_col2, #T_6f0e1_row1_col3, #T_6f0e1_row2_col0, #T_6f0e1_row2_col1, #T_6f0e1_row2_col2, #T_6f0e1_row2_col3, #T_6f0e1_row3_col0, #T_6f0e1_row3_col1, #T_6f0e1_row3_col2, #T_6f0e1_row3_col3, #T_6f0e1_row4_col0, #T_6f0e1_row4_col1, #T_6f0e1_row4_col2, #T_6f0e1_row4_col3 {\n",
       "  width: 100px;\n",
       "}\n",
       "#T_6f0e1_row0_col4, #T_6f0e1_row1_col4, #T_6f0e1_row3_col4 {\n",
       "  background-color: lightgreen;\n",
       "  width: 100px;\n",
       "}\n",
       "#T_6f0e1_row2_col4, #T_6f0e1_row4_col4 {\n",
       "  background-color: pink;\n",
       "  width: 100px;\n",
       "}\n",
       "</style>\n",
       "<table id=\"T_6f0e1\">\n",
       "  <thead>\n",
       "    <tr>\n",
       "      <th class=\"blank level0\" >&nbsp;</th>\n",
       "      <th id=\"T_6f0e1_level0_col0\" class=\"col_heading level0 col0\" >outlook</th>\n",
       "      <th id=\"T_6f0e1_level0_col1\" class=\"col_heading level0 col1\" >temp</th>\n",
       "      <th id=\"T_6f0e1_level0_col2\" class=\"col_heading level0 col2\" >humidity</th>\n",
       "      <th id=\"T_6f0e1_level0_col3\" class=\"col_heading level0 col3\" >windy</th>\n",
       "      <th id=\"T_6f0e1_level0_col4\" class=\"col_heading level0 col4\" >play</th>\n",
       "    </tr>\n",
       "  </thead>\n",
       "  <tbody>\n",
       "    <tr>\n",
       "      <th id=\"T_6f0e1_level0_row0\" class=\"row_heading level0 row0\" >3</th>\n",
       "      <td id=\"T_6f0e1_row0_col0\" class=\"data row0 col0\" >rainy</td>\n",
       "      <td id=\"T_6f0e1_row0_col1\" class=\"data row0 col1\" >mild</td>\n",
       "      <td id=\"T_6f0e1_row0_col2\" class=\"data row0 col2\" >high</td>\n",
       "      <td id=\"T_6f0e1_row0_col3\" class=\"data row0 col3\" >False</td>\n",
       "      <td id=\"T_6f0e1_row0_col4\" class=\"data row0 col4\" >yes</td>\n",
       "    </tr>\n",
       "    <tr>\n",
       "      <th id=\"T_6f0e1_level0_row1\" class=\"row_heading level0 row1\" >4</th>\n",
       "      <td id=\"T_6f0e1_row1_col0\" class=\"data row1 col0\" >rainy</td>\n",
       "      <td id=\"T_6f0e1_row1_col1\" class=\"data row1 col1\" >cool</td>\n",
       "      <td id=\"T_6f0e1_row1_col2\" class=\"data row1 col2\" >normal</td>\n",
       "      <td id=\"T_6f0e1_row1_col3\" class=\"data row1 col3\" >False</td>\n",
       "      <td id=\"T_6f0e1_row1_col4\" class=\"data row1 col4\" >yes</td>\n",
       "    </tr>\n",
       "    <tr>\n",
       "      <th id=\"T_6f0e1_level0_row2\" class=\"row_heading level0 row2\" >5</th>\n",
       "      <td id=\"T_6f0e1_row2_col0\" class=\"data row2 col0\" >rainy</td>\n",
       "      <td id=\"T_6f0e1_row2_col1\" class=\"data row2 col1\" >cool</td>\n",
       "      <td id=\"T_6f0e1_row2_col2\" class=\"data row2 col2\" >normal</td>\n",
       "      <td id=\"T_6f0e1_row2_col3\" class=\"data row2 col3\" >True</td>\n",
       "      <td id=\"T_6f0e1_row2_col4\" class=\"data row2 col4\" >no</td>\n",
       "    </tr>\n",
       "    <tr>\n",
       "      <th id=\"T_6f0e1_level0_row3\" class=\"row_heading level0 row3\" >9</th>\n",
       "      <td id=\"T_6f0e1_row3_col0\" class=\"data row3 col0\" >rainy</td>\n",
       "      <td id=\"T_6f0e1_row3_col1\" class=\"data row3 col1\" >mild</td>\n",
       "      <td id=\"T_6f0e1_row3_col2\" class=\"data row3 col2\" >normal</td>\n",
       "      <td id=\"T_6f0e1_row3_col3\" class=\"data row3 col3\" >False</td>\n",
       "      <td id=\"T_6f0e1_row3_col4\" class=\"data row3 col4\" >yes</td>\n",
       "    </tr>\n",
       "    <tr>\n",
       "      <th id=\"T_6f0e1_level0_row4\" class=\"row_heading level0 row4\" >13</th>\n",
       "      <td id=\"T_6f0e1_row4_col0\" class=\"data row4 col0\" >rainy</td>\n",
       "      <td id=\"T_6f0e1_row4_col1\" class=\"data row4 col1\" >mild</td>\n",
       "      <td id=\"T_6f0e1_row4_col2\" class=\"data row4 col2\" >high</td>\n",
       "      <td id=\"T_6f0e1_row4_col3\" class=\"data row4 col3\" >True</td>\n",
       "      <td id=\"T_6f0e1_row4_col4\" class=\"data row4 col4\" >no</td>\n",
       "    </tr>\n",
       "  </tbody>\n",
       "</table>\n"
      ],
      "text/plain": [
       "<pandas.io.formats.style.Styler at 0x2287e6eebb0>"
      ]
     },
     "execution_count": 14,
     "metadata": {},
     "output_type": "execute_result"
    }
   ],
   "source": [
    "rainy = data[data['outlook'] == 'rainy'] \n",
    "rainy.style.applymap(highlight)\\\n",
    "    .set_properties(subset=data.columns, **{'width': '100px'})\\\n",
    "    .set_table_styles([{'selector': 'th', 'props': [('background-color', 'lightgray'), ('border', '1px solid gray'),\n",
    "                                                    ('font-weight', 'bold')]},\n",
    "     {'selector': 'tr:hover', 'props': [('background-color', 'white'), ('border', '1.5px solid black')]}])"
   ]
  },
  {
   "cell_type": "code",
   "execution_count": 15,
   "id": "b7acae0c",
   "metadata": {
    "execution": {
     "iopub.execute_input": "2022-01-17T08:50:03.778944Z",
     "iopub.status.busy": "2022-01-17T08:50:03.778327Z",
     "iopub.status.idle": "2022-01-17T08:50:03.784760Z",
     "shell.execute_reply": "2022-01-17T08:50:03.784139Z",
     "shell.execute_reply.started": "2022-01-17T08:01:21.588957Z"
    },
    "papermill": {
     "duration": 0.049828,
     "end_time": "2022-01-17T08:50:03.784899",
     "exception": false,
     "start_time": "2022-01-17T08:50:03.735071",
     "status": "completed"
    },
    "tags": []
   },
   "outputs": [
    {
     "name": "stdout",
     "output_type": "stream",
     "text": [
      "Entropy of the Rainy dataset: 0.971\n"
     ]
    }
   ],
   "source": [
    "print(f'Entropy of the Rainy dataset: {find_entropy(rainy.play)}')"
   ]
  },
  {
   "cell_type": "markdown",
   "id": "7abdd0eb",
   "metadata": {
    "papermill": {
     "duration": 0.040602,
     "end_time": "2022-01-17T08:50:03.866760",
     "exception": false,
     "start_time": "2022-01-17T08:50:03.826158",
     "status": "completed"
    },
    "tags": []
   },
   "source": [
    "**Calculating the Information gain for each feature**\n",
    "\n",
    "**Temp**"
   ]
  },
  {
   "cell_type": "code",
   "execution_count": 16,
   "id": "5c56b7ab",
   "metadata": {
    "execution": {
     "iopub.execute_input": "2022-01-17T08:50:03.951129Z",
     "iopub.status.busy": "2022-01-17T08:50:03.950184Z",
     "iopub.status.idle": "2022-01-17T08:50:03.982905Z",
     "shell.execute_reply": "2022-01-17T08:50:03.983365Z",
     "shell.execute_reply.started": "2022-01-17T07:58:46.642513Z"
    },
    "papermill": {
     "duration": 0.076462,
     "end_time": "2022-01-17T08:50:03.983530",
     "exception": false,
     "start_time": "2022-01-17T08:50:03.907068",
     "status": "completed"
    },
    "tags": []
   },
   "outputs": [
    {
     "data": {
      "text/html": [
       "<style type=\"text/css\">\n",
       "#T_c7a7f th {\n",
       "  background-color: lightgray;\n",
       "  border: 1px solid gray;\n",
       "  font-weight: bold;\n",
       "}\n",
       "#T_c7a7f td {\n",
       "  border: 1px solid gray;\n",
       "}\n",
       "#T_c7a7f tr:hover {\n",
       "  background-color: white;\n",
       "  border: 1.5px solid black;\n",
       "}\n",
       "#T_c7a7f_row0_col0, #T_c7a7f_row1_col0, #T_c7a7f_row2_col0 {\n",
       "  width: 80px;\n",
       "}\n",
       "#T_c7a7f_row0_col1, #T_c7a7f_row1_col1 {\n",
       "  background-color: lightgreen;\n",
       "  width: 80px;\n",
       "}\n",
       "#T_c7a7f_row2_col1 {\n",
       "  background-color: pink;\n",
       "  width: 80px;\n",
       "}\n",
       "</style>\n",
       "<table id=\"T_c7a7f\">\n",
       "  <thead>\n",
       "    <tr>\n",
       "      <th class=\"blank level0\" >&nbsp;</th>\n",
       "      <th id=\"T_c7a7f_level0_col0\" class=\"col_heading level0 col0\" >temp</th>\n",
       "      <th id=\"T_c7a7f_level0_col1\" class=\"col_heading level0 col1\" >play</th>\n",
       "    </tr>\n",
       "  </thead>\n",
       "  <tbody>\n",
       "    <tr>\n",
       "      <th id=\"T_c7a7f_level0_row0\" class=\"row_heading level0 row0\" >3</th>\n",
       "      <td id=\"T_c7a7f_row0_col0\" class=\"data row0 col0\" >mild</td>\n",
       "      <td id=\"T_c7a7f_row0_col1\" class=\"data row0 col1\" >yes</td>\n",
       "    </tr>\n",
       "    <tr>\n",
       "      <th id=\"T_c7a7f_level0_row1\" class=\"row_heading level0 row1\" >9</th>\n",
       "      <td id=\"T_c7a7f_row1_col0\" class=\"data row1 col0\" >mild</td>\n",
       "      <td id=\"T_c7a7f_row1_col1\" class=\"data row1 col1\" >yes</td>\n",
       "    </tr>\n",
       "    <tr>\n",
       "      <th id=\"T_c7a7f_level0_row2\" class=\"row_heading level0 row2\" >13</th>\n",
       "      <td id=\"T_c7a7f_row2_col0\" class=\"data row2 col0\" >mild</td>\n",
       "      <td id=\"T_c7a7f_row2_col1\" class=\"data row2 col1\" >no</td>\n",
       "    </tr>\n",
       "  </tbody>\n",
       "</table>\n"
      ],
      "text/plain": [
       "<pandas.io.formats.style.Styler at 0x2287e6ee0a0>"
      ]
     },
     "metadata": {},
     "output_type": "display_data"
    },
    {
     "name": "stdout",
     "output_type": "stream",
     "text": [
      "Entropy of temp - mild = 0.918\n"
     ]
    },
    {
     "data": {
      "text/html": [
       "<style type=\"text/css\">\n",
       "#T_3e782 th {\n",
       "  background-color: lightgray;\n",
       "  border: 1px solid gray;\n",
       "  font-weight: bold;\n",
       "}\n",
       "#T_3e782 td {\n",
       "  border: 1px solid gray;\n",
       "}\n",
       "#T_3e782 tr:hover {\n",
       "  background-color: white;\n",
       "  border: 1.5px solid black;\n",
       "}\n",
       "#T_3e782_row0_col0, #T_3e782_row1_col0 {\n",
       "  width: 80px;\n",
       "}\n",
       "#T_3e782_row0_col1 {\n",
       "  background-color: lightgreen;\n",
       "  width: 80px;\n",
       "}\n",
       "#T_3e782_row1_col1 {\n",
       "  background-color: pink;\n",
       "  width: 80px;\n",
       "}\n",
       "</style>\n",
       "<table id=\"T_3e782\">\n",
       "  <thead>\n",
       "    <tr>\n",
       "      <th class=\"blank level0\" >&nbsp;</th>\n",
       "      <th id=\"T_3e782_level0_col0\" class=\"col_heading level0 col0\" >temp</th>\n",
       "      <th id=\"T_3e782_level0_col1\" class=\"col_heading level0 col1\" >play</th>\n",
       "    </tr>\n",
       "  </thead>\n",
       "  <tbody>\n",
       "    <tr>\n",
       "      <th id=\"T_3e782_level0_row0\" class=\"row_heading level0 row0\" >4</th>\n",
       "      <td id=\"T_3e782_row0_col0\" class=\"data row0 col0\" >cool</td>\n",
       "      <td id=\"T_3e782_row0_col1\" class=\"data row0 col1\" >yes</td>\n",
       "    </tr>\n",
       "    <tr>\n",
       "      <th id=\"T_3e782_level0_row1\" class=\"row_heading level0 row1\" >5</th>\n",
       "      <td id=\"T_3e782_row1_col0\" class=\"data row1 col0\" >cool</td>\n",
       "      <td id=\"T_3e782_row1_col1\" class=\"data row1 col1\" >no</td>\n",
       "    </tr>\n",
       "  </tbody>\n",
       "</table>\n"
      ],
      "text/plain": [
       "<pandas.io.formats.style.Styler at 0x2287e6ee820>"
      ]
     },
     "metadata": {},
     "output_type": "display_data"
    },
    {
     "name": "stdout",
     "output_type": "stream",
     "text": [
      "Entropy of temp - cool = 1.0\n",
      "Information Gain for temp = 0.02\n"
     ]
    }
   ],
   "source": [
    "entropy_and_infogain(rainy, 'temp')"
   ]
  },
  {
   "cell_type": "markdown",
   "id": "7ec57585",
   "metadata": {
    "papermill": {
     "duration": 0.042251,
     "end_time": "2022-01-17T08:50:04.068304",
     "exception": false,
     "start_time": "2022-01-17T08:50:04.026053",
     "status": "completed"
    },
    "tags": []
   },
   "source": [
    "**Humidity**"
   ]
  },
  {
   "cell_type": "code",
   "execution_count": 17,
   "id": "b16ab769",
   "metadata": {
    "execution": {
     "iopub.execute_input": "2022-01-17T08:50:04.161173Z",
     "iopub.status.busy": "2022-01-17T08:50:04.160185Z",
     "iopub.status.idle": "2022-01-17T08:50:04.191065Z",
     "shell.execute_reply": "2022-01-17T08:50:04.191578Z",
     "shell.execute_reply.started": "2022-01-17T07:58:47.303029Z"
    },
    "papermill": {
     "duration": 0.079635,
     "end_time": "2022-01-17T08:50:04.191735",
     "exception": false,
     "start_time": "2022-01-17T08:50:04.112100",
     "status": "completed"
    },
    "tags": []
   },
   "outputs": [
    {
     "data": {
      "text/html": [
       "<style type=\"text/css\">\n",
       "#T_96d58 th {\n",
       "  background-color: lightgray;\n",
       "  border: 1px solid gray;\n",
       "  font-weight: bold;\n",
       "}\n",
       "#T_96d58 td {\n",
       "  border: 1px solid gray;\n",
       "}\n",
       "#T_96d58 tr:hover {\n",
       "  background-color: white;\n",
       "  border: 1.5px solid black;\n",
       "}\n",
       "#T_96d58_row0_col0, #T_96d58_row1_col0 {\n",
       "  width: 80px;\n",
       "}\n",
       "#T_96d58_row0_col1 {\n",
       "  background-color: lightgreen;\n",
       "  width: 80px;\n",
       "}\n",
       "#T_96d58_row1_col1 {\n",
       "  background-color: pink;\n",
       "  width: 80px;\n",
       "}\n",
       "</style>\n",
       "<table id=\"T_96d58\">\n",
       "  <thead>\n",
       "    <tr>\n",
       "      <th class=\"blank level0\" >&nbsp;</th>\n",
       "      <th id=\"T_96d58_level0_col0\" class=\"col_heading level0 col0\" >humidity</th>\n",
       "      <th id=\"T_96d58_level0_col1\" class=\"col_heading level0 col1\" >play</th>\n",
       "    </tr>\n",
       "  </thead>\n",
       "  <tbody>\n",
       "    <tr>\n",
       "      <th id=\"T_96d58_level0_row0\" class=\"row_heading level0 row0\" >3</th>\n",
       "      <td id=\"T_96d58_row0_col0\" class=\"data row0 col0\" >high</td>\n",
       "      <td id=\"T_96d58_row0_col1\" class=\"data row0 col1\" >yes</td>\n",
       "    </tr>\n",
       "    <tr>\n",
       "      <th id=\"T_96d58_level0_row1\" class=\"row_heading level0 row1\" >13</th>\n",
       "      <td id=\"T_96d58_row1_col0\" class=\"data row1 col0\" >high</td>\n",
       "      <td id=\"T_96d58_row1_col1\" class=\"data row1 col1\" >no</td>\n",
       "    </tr>\n",
       "  </tbody>\n",
       "</table>\n"
      ],
      "text/plain": [
       "<pandas.io.formats.style.Styler at 0x2287e6ee4f0>"
      ]
     },
     "metadata": {},
     "output_type": "display_data"
    },
    {
     "name": "stdout",
     "output_type": "stream",
     "text": [
      "Entropy of humidity - high = 1.0\n"
     ]
    },
    {
     "data": {
      "text/html": [
       "<style type=\"text/css\">\n",
       "#T_10815 th {\n",
       "  background-color: lightgray;\n",
       "  border: 1px solid gray;\n",
       "  font-weight: bold;\n",
       "}\n",
       "#T_10815 td {\n",
       "  border: 1px solid gray;\n",
       "}\n",
       "#T_10815 tr:hover {\n",
       "  background-color: white;\n",
       "  border: 1.5px solid black;\n",
       "}\n",
       "#T_10815_row0_col0, #T_10815_row1_col0, #T_10815_row2_col0 {\n",
       "  width: 80px;\n",
       "}\n",
       "#T_10815_row0_col1, #T_10815_row2_col1 {\n",
       "  background-color: lightgreen;\n",
       "  width: 80px;\n",
       "}\n",
       "#T_10815_row1_col1 {\n",
       "  background-color: pink;\n",
       "  width: 80px;\n",
       "}\n",
       "</style>\n",
       "<table id=\"T_10815\">\n",
       "  <thead>\n",
       "    <tr>\n",
       "      <th class=\"blank level0\" >&nbsp;</th>\n",
       "      <th id=\"T_10815_level0_col0\" class=\"col_heading level0 col0\" >humidity</th>\n",
       "      <th id=\"T_10815_level0_col1\" class=\"col_heading level0 col1\" >play</th>\n",
       "    </tr>\n",
       "  </thead>\n",
       "  <tbody>\n",
       "    <tr>\n",
       "      <th id=\"T_10815_level0_row0\" class=\"row_heading level0 row0\" >4</th>\n",
       "      <td id=\"T_10815_row0_col0\" class=\"data row0 col0\" >normal</td>\n",
       "      <td id=\"T_10815_row0_col1\" class=\"data row0 col1\" >yes</td>\n",
       "    </tr>\n",
       "    <tr>\n",
       "      <th id=\"T_10815_level0_row1\" class=\"row_heading level0 row1\" >5</th>\n",
       "      <td id=\"T_10815_row1_col0\" class=\"data row1 col0\" >normal</td>\n",
       "      <td id=\"T_10815_row1_col1\" class=\"data row1 col1\" >no</td>\n",
       "    </tr>\n",
       "    <tr>\n",
       "      <th id=\"T_10815_level0_row2\" class=\"row_heading level0 row2\" >9</th>\n",
       "      <td id=\"T_10815_row2_col0\" class=\"data row2 col0\" >normal</td>\n",
       "      <td id=\"T_10815_row2_col1\" class=\"data row2 col1\" >yes</td>\n",
       "    </tr>\n",
       "  </tbody>\n",
       "</table>\n"
      ],
      "text/plain": [
       "<pandas.io.formats.style.Styler at 0x2287e6ee4f0>"
      ]
     },
     "metadata": {},
     "output_type": "display_data"
    },
    {
     "name": "stdout",
     "output_type": "stream",
     "text": [
      "Entropy of humidity - normal = 0.918\n",
      "Information Gain for humidity = 0.02\n"
     ]
    }
   ],
   "source": [
    "entropy_and_infogain(rainy, 'humidity')"
   ]
  },
  {
   "cell_type": "markdown",
   "id": "8fe99ba2",
   "metadata": {
    "papermill": {
     "duration": 0.043469,
     "end_time": "2022-01-17T08:50:04.278774",
     "exception": false,
     "start_time": "2022-01-17T08:50:04.235305",
     "status": "completed"
    },
    "tags": []
   },
   "source": [
    "**Windy**"
   ]
  },
  {
   "cell_type": "code",
   "execution_count": 18,
   "id": "9c791c55",
   "metadata": {
    "execution": {
     "iopub.execute_input": "2022-01-17T08:50:04.368800Z",
     "iopub.status.busy": "2022-01-17T08:50:04.368236Z",
     "iopub.status.idle": "2022-01-17T08:50:04.401457Z",
     "shell.execute_reply": "2022-01-17T08:50:04.400952Z",
     "shell.execute_reply.started": "2022-01-17T07:58:47.552031Z"
    },
    "papermill": {
     "duration": 0.079402,
     "end_time": "2022-01-17T08:50:04.401589",
     "exception": false,
     "start_time": "2022-01-17T08:50:04.322187",
     "status": "completed"
    },
    "tags": []
   },
   "outputs": [
    {
     "data": {
      "text/html": [
       "<style type=\"text/css\">\n",
       "#T_d15a7 th {\n",
       "  background-color: lightgray;\n",
       "  border: 1px solid gray;\n",
       "  font-weight: bold;\n",
       "}\n",
       "#T_d15a7 td {\n",
       "  border: 1px solid gray;\n",
       "}\n",
       "#T_d15a7 tr:hover {\n",
       "  background-color: white;\n",
       "  border: 1.5px solid black;\n",
       "}\n",
       "#T_d15a7_row0_col0, #T_d15a7_row1_col0, #T_d15a7_row2_col0 {\n",
       "  width: 80px;\n",
       "}\n",
       "#T_d15a7_row0_col1, #T_d15a7_row1_col1, #T_d15a7_row2_col1 {\n",
       "  background-color: lightgreen;\n",
       "  width: 80px;\n",
       "}\n",
       "</style>\n",
       "<table id=\"T_d15a7\">\n",
       "  <thead>\n",
       "    <tr>\n",
       "      <th class=\"blank level0\" >&nbsp;</th>\n",
       "      <th id=\"T_d15a7_level0_col0\" class=\"col_heading level0 col0\" >windy</th>\n",
       "      <th id=\"T_d15a7_level0_col1\" class=\"col_heading level0 col1\" >play</th>\n",
       "    </tr>\n",
       "  </thead>\n",
       "  <tbody>\n",
       "    <tr>\n",
       "      <th id=\"T_d15a7_level0_row0\" class=\"row_heading level0 row0\" >3</th>\n",
       "      <td id=\"T_d15a7_row0_col0\" class=\"data row0 col0\" >False</td>\n",
       "      <td id=\"T_d15a7_row0_col1\" class=\"data row0 col1\" >yes</td>\n",
       "    </tr>\n",
       "    <tr>\n",
       "      <th id=\"T_d15a7_level0_row1\" class=\"row_heading level0 row1\" >4</th>\n",
       "      <td id=\"T_d15a7_row1_col0\" class=\"data row1 col0\" >False</td>\n",
       "      <td id=\"T_d15a7_row1_col1\" class=\"data row1 col1\" >yes</td>\n",
       "    </tr>\n",
       "    <tr>\n",
       "      <th id=\"T_d15a7_level0_row2\" class=\"row_heading level0 row2\" >9</th>\n",
       "      <td id=\"T_d15a7_row2_col0\" class=\"data row2 col0\" >False</td>\n",
       "      <td id=\"T_d15a7_row2_col1\" class=\"data row2 col1\" >yes</td>\n",
       "    </tr>\n",
       "  </tbody>\n",
       "</table>\n"
      ],
      "text/plain": [
       "<pandas.io.formats.style.Styler at 0x2287e6ee1c0>"
      ]
     },
     "metadata": {},
     "output_type": "display_data"
    },
    {
     "name": "stdout",
     "output_type": "stream",
     "text": [
      "Entropy of windy - False = 0.0\n"
     ]
    },
    {
     "data": {
      "text/html": [
       "<style type=\"text/css\">\n",
       "#T_d0166 th {\n",
       "  background-color: lightgray;\n",
       "  border: 1px solid gray;\n",
       "  font-weight: bold;\n",
       "}\n",
       "#T_d0166 td {\n",
       "  border: 1px solid gray;\n",
       "}\n",
       "#T_d0166 tr:hover {\n",
       "  background-color: white;\n",
       "  border: 1.5px solid black;\n",
       "}\n",
       "#T_d0166_row0_col0, #T_d0166_row1_col0 {\n",
       "  width: 80px;\n",
       "}\n",
       "#T_d0166_row0_col1, #T_d0166_row1_col1 {\n",
       "  background-color: pink;\n",
       "  width: 80px;\n",
       "}\n",
       "</style>\n",
       "<table id=\"T_d0166\">\n",
       "  <thead>\n",
       "    <tr>\n",
       "      <th class=\"blank level0\" >&nbsp;</th>\n",
       "      <th id=\"T_d0166_level0_col0\" class=\"col_heading level0 col0\" >windy</th>\n",
       "      <th id=\"T_d0166_level0_col1\" class=\"col_heading level0 col1\" >play</th>\n",
       "    </tr>\n",
       "  </thead>\n",
       "  <tbody>\n",
       "    <tr>\n",
       "      <th id=\"T_d0166_level0_row0\" class=\"row_heading level0 row0\" >5</th>\n",
       "      <td id=\"T_d0166_row0_col0\" class=\"data row0 col0\" >True</td>\n",
       "      <td id=\"T_d0166_row0_col1\" class=\"data row0 col1\" >no</td>\n",
       "    </tr>\n",
       "    <tr>\n",
       "      <th id=\"T_d0166_level0_row1\" class=\"row_heading level0 row1\" >13</th>\n",
       "      <td id=\"T_d0166_row1_col0\" class=\"data row1 col0\" >True</td>\n",
       "      <td id=\"T_d0166_row1_col1\" class=\"data row1 col1\" >no</td>\n",
       "    </tr>\n",
       "  </tbody>\n",
       "</table>\n"
      ],
      "text/plain": [
       "<pandas.io.formats.style.Styler at 0x2287e6eea00>"
      ]
     },
     "metadata": {},
     "output_type": "display_data"
    },
    {
     "name": "stdout",
     "output_type": "stream",
     "text": [
      "Entropy of windy - True = 0.0\n",
      "Information Gain for windy = 0.971\n"
     ]
    }
   ],
   "source": [
    "entropy_and_infogain(rainy, 'windy')"
   ]
  },
  {
   "cell_type": "markdown",
   "id": "f262dcbe",
   "metadata": {
    "papermill": {
     "duration": 0.044548,
     "end_time": "2022-01-17T08:50:04.491889",
     "exception": false,
     "start_time": "2022-01-17T08:50:04.447341",
     "status": "completed"
    },
    "tags": []
   },
   "source": [
    "**Making a decision tree node using the feature which has the maximum Information Gain.**"
   ]
  },
  {
   "attachments": {
    "af92e3ee-9af5-46ed-9360-bcec6cd3cbb7.jpg": {
     "image/jpeg": "[encoded data removed]"
    }
   },
   "cell_type": "markdown",
   "id": "e663cf65",
   "metadata": {
    "papermill": {
     "duration": 0.044672,
     "end_time": "2022-01-17T08:50:04.581094",
     "exception": false,
     "start_time": "2022-01-17T08:50:04.536422",
     "status": "completed"
    },
    "tags": []
   },
   "source": [
    "![Untitled Workspace (3).jpg](attachment:af92e3ee-9af5-46ed-9360-bcec6cd3cbb7.jpg)"
   ]
  },
  {
   "cell_type": "markdown",
   "id": "2c243243",
   "metadata": {
    "papermill": {
     "duration": 0.044493,
     "end_time": "2022-01-17T08:50:04.670753",
     "exception": false,
     "start_time": "2022-01-17T08:50:04.626260",
     "status": "completed"
    },
    "tags": []
   },
   "source": [
    "<div class=\"alert alert-block alert-info\" style=\"text-align:center\">    \n",
    "<b>Windy has the highest Information Gain - 0.971, so it is used as the decision node.</b><br>\n",
    "<b>This decision tree has all leaf node.</b><br>\n",
    "</div>"
   ]
  }
 ],
 "metadata": {
  "kernelspec": {
   "display_name": "Python 3 (ipykernel)",
   "language": "python",
   "name": "python3"
  },
  "language_info": {
   "codemirror_mode": {
    "name": "ipython",
    "version": 3
   },
   "file_extension": ".py",
   "mimetype": "text/x-python",
   "name": "python",
   "nbconvert_exporter": "python",
   "pygments_lexer": "ipython3",
   "version": "3.9.13"
  },
  "papermill": {
   "default_parameters": {},
   "duration": 13.885995,
   "end_time": "2022-01-17T08:50:05.325196",
   "environment_variables": {},
   "exception": null,
   "input_path": "__notebook__.ipynb",
   "output_path": "__notebook__.ipynb",
   "parameters": {},
   "start_time": "2022-01-17T08:49:51.439201",
   "version": "2.3.3"
  }
 },
 "nbformat": 4,
 "nbformat_minor": 5
}
